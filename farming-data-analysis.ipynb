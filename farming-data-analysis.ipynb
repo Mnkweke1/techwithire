{
 "cells": [
  {
   "cell_type": "code",
   "execution_count": 70,
   "id": "46c01f92",
   "metadata": {},
   "outputs": [],
   "source": [
    "import pandas as pd\n",
    "import plotly.graph_objects as go\n",
    "import plotly.express as px\n",
    "import matplotlib.pyplot as plt\n",
    "import seaborn as sns\n",
    "from scipy.stats import skew, kurtosis\n",
    "\n",
    "import warnings\n",
    "warnings.filterwarnings(\"ignore\")\n",
    "# Set display options to show all columns\n",
    "pd.set_option('display.max_columns', None)"
   ]
  },
  {
   "cell_type": "code",
   "execution_count": 2,
   "id": "6ab9f5ad",
   "metadata": {},
   "outputs": [],
   "source": [
    "NGN_GDP = pd.read_csv(\"RealGDP12052023.csv\")"
   ]
  },
  {
   "cell_type": "code",
   "execution_count": 3,
   "id": "065a87bf",
   "metadata": {},
   "outputs": [
    {
     "data": {
      "text/html": [
       "<div>\n",
       "<style scoped>\n",
       "    .dataframe tbody tr th:only-of-type {\n",
       "        vertical-align: middle;\n",
       "    }\n",
       "\n",
       "    .dataframe tbody tr th {\n",
       "        vertical-align: top;\n",
       "    }\n",
       "\n",
       "    .dataframe thead th {\n",
       "        text-align: right;\n",
       "    }\n",
       "</style>\n",
       "<table border=\"1\" class=\"dataframe\">\n",
       "  <thead>\n",
       "    <tr style=\"text-align: right;\">\n",
       "      <th></th>\n",
       "      <th>tyear</th>\n",
       "      <th>Period</th>\n",
       "      <th>Agriculture</th>\n",
       "      <th>CropProduction</th>\n",
       "      <th>Livestock</th>\n",
       "      <th>Forestry</th>\n",
       "      <th>Fishing</th>\n",
       "      <th>Industry</th>\n",
       "      <th>MiningAndQuarrying</th>\n",
       "      <th>CrudePetroleumAndNaturalGas</th>\n",
       "      <th>CoalMining</th>\n",
       "      <th>MetalOres</th>\n",
       "      <th>QuarryingAndOtherMinerals</th>\n",
       "      <th>Manufacturing</th>\n",
       "      <th>OilRefining</th>\n",
       "      <th>Cement</th>\n",
       "      <th>FoodBeverageAndTobacco</th>\n",
       "      <th>TextileApparelAndFootwear</th>\n",
       "      <th>WoodAndWoodProducts</th>\n",
       "      <th>PulpPaperAndPaperProducts</th>\n",
       "      <th>ChemicalAndPharmaceuticalProducts</th>\n",
       "      <th>NonMetallicProducts</th>\n",
       "      <th>PlasticAndRubberProducts</th>\n",
       "      <th>ElectricalAndElectronics</th>\n",
       "      <th>BasicMetalIronAndSteel</th>\n",
       "      <th>MotorVehiclesAndAssembly</th>\n",
       "      <th>OtherManufacturing</th>\n",
       "      <th>ElectricityGasSteamAndAirCon</th>\n",
       "      <th>WaterSupplySewageWaste</th>\n",
       "      <th>Construction</th>\n",
       "      <th>Services</th>\n",
       "      <th>Trade</th>\n",
       "      <th>AccommodationAndFoodServices</th>\n",
       "      <th>TransportationAndStorage</th>\n",
       "      <th>RoadTransport</th>\n",
       "      <th>RailTransportAndPipelines</th>\n",
       "      <th>WaterTransport</th>\n",
       "      <th>AirTransport</th>\n",
       "      <th>TransportServices</th>\n",
       "      <th>PostAndCourierServices</th>\n",
       "      <th>InformationAndCommunication</th>\n",
       "      <th>Publishing</th>\n",
       "      <th>MotionPicturesSoundRecordingAndMusicProduction</th>\n",
       "      <th>Broadcasting</th>\n",
       "      <th>ArtsEntertainmentAndRecreation</th>\n",
       "      <th>FinanceAndInsurance</th>\n",
       "      <th>FinancialInstitutions</th>\n",
       "      <th>Insurance</th>\n",
       "      <th>RealEstate</th>\n",
       "      <th>ProfessionalScientificAndTechnicalServices</th>\n",
       "      <th>AdministrativeAndSupportServicesBusinessServices</th>\n",
       "      <th>PublicAdministration</th>\n",
       "      <th>Education</th>\n",
       "      <th>HumanHealthAndSocialServices</th>\n",
       "      <th>OtherServices</th>\n",
       "      <th>GDP at 2010 Constant Basic Prices</th>\n",
       "      <th>NetTaxesOnProducts</th>\n",
       "      <th>GDP at 2010 Constant Market Prices</th>\n",
       "    </tr>\n",
       "  </thead>\n",
       "  <tbody>\n",
       "    <tr>\n",
       "      <th>1981</th>\n",
       "      <td>Annual</td>\n",
       "      <td>2364.37</td>\n",
       "      <td>1854.76</td>\n",
       "      <td>341.41</td>\n",
       "      <td>77.90</td>\n",
       "      <td>90.30</td>\n",
       "      <td>11753.40</td>\n",
       "      <td>5044.55</td>\n",
       "      <td>4977.42</td>\n",
       "      <td>21.33</td>\n",
       "      <td>7.86</td>\n",
       "      <td>37.95</td>\n",
       "      <td>5838.89</td>\n",
       "      <td>36.58</td>\n",
       "      <td>190.94</td>\n",
       "      <td>3278.24</td>\n",
       "      <td>1746.10</td>\n",
       "      <td>53.32</td>\n",
       "      <td>22.67</td>\n",
       "      <td>43.62</td>\n",
       "      <td>57.14</td>\n",
       "      <td>26.43</td>\n",
       "      <td>52.71</td>\n",
       "      <td>33.00</td>\n",
       "      <td>186.75</td>\n",
       "      <td>111.40</td>\n",
       "      <td>6.16</td>\n",
       "      <td>12.23</td>\n",
       "      <td>851.56</td>\n",
       "      <td>5431.79</td>\n",
       "      <td>1770.38</td>\n",
       "      <td>53.78</td>\n",
       "      <td>264.51</td>\n",
       "      <td>222.11</td>\n",
       "      <td>9.46</td>\n",
       "      <td>5.74</td>\n",
       "      <td>18.66</td>\n",
       "      <td>4.48</td>\n",
       "      <td>4.06</td>\n",
       "      <td>271.15</td>\n",
       "      <td>8.59</td>\n",
       "      <td>71.09</td>\n",
       "      <td>174.97</td>\n",
       "      <td>4.59</td>\n",
       "      <td>282.17</td>\n",
       "      <td>196.91</td>\n",
       "      <td>85.26</td>\n",
       "      <td>1063.96</td>\n",
       "      <td>421.38</td>\n",
       "      <td>3.23</td>\n",
       "      <td>807.08</td>\n",
       "      <td>242.56</td>\n",
       "      <td>113.46</td>\n",
       "      <td>133.53</td>\n",
       "      <td>19549.56</td>\n",
       "      <td>198.97</td>\n",
       "      <td>19748.53</td>\n",
       "      <td>NaN</td>\n",
       "    </tr>\n",
       "    <tr>\n",
       "      <th>1982</th>\n",
       "      <td>Annual</td>\n",
       "      <td>2425.96</td>\n",
       "      <td>1897.08</td>\n",
       "      <td>361.12</td>\n",
       "      <td>73.91</td>\n",
       "      <td>93.86</td>\n",
       "      <td>10189.10</td>\n",
       "      <td>4507.93</td>\n",
       "      <td>4453.09</td>\n",
       "      <td>10.29</td>\n",
       "      <td>5.87</td>\n",
       "      <td>38.68</td>\n",
       "      <td>4984.79</td>\n",
       "      <td>38.49</td>\n",
       "      <td>223.85</td>\n",
       "      <td>3042.93</td>\n",
       "      <td>674.27</td>\n",
       "      <td>50.31</td>\n",
       "      <td>24.17</td>\n",
       "      <td>43.69</td>\n",
       "      <td>57.25</td>\n",
       "      <td>26.18</td>\n",
       "      <td>61.86</td>\n",
       "      <td>38.22</td>\n",
       "      <td>590.77</td>\n",
       "      <td>112.81</td>\n",
       "      <td>6.82</td>\n",
       "      <td>10.35</td>\n",
       "      <td>679.20</td>\n",
       "      <td>5604.21</td>\n",
       "      <td>1846.95</td>\n",
       "      <td>50.80</td>\n",
       "      <td>211.89</td>\n",
       "      <td>168.11</td>\n",
       "      <td>10.16</td>\n",
       "      <td>4.66</td>\n",
       "      <td>21.24</td>\n",
       "      <td>4.52</td>\n",
       "      <td>3.20</td>\n",
       "      <td>290.07</td>\n",
       "      <td>9.70</td>\n",
       "      <td>71.66</td>\n",
       "      <td>192.54</td>\n",
       "      <td>4.63</td>\n",
       "      <td>372.27</td>\n",
       "      <td>242.67</td>\n",
       "      <td>129.60</td>\n",
       "      <td>1074.05</td>\n",
       "      <td>423.67</td>\n",
       "      <td>3.25</td>\n",
       "      <td>825.92</td>\n",
       "      <td>248.22</td>\n",
       "      <td>117.88</td>\n",
       "      <td>134.60</td>\n",
       "      <td>18219.27</td>\n",
       "      <td>185.70</td>\n",
       "      <td>18404.96</td>\n",
       "      <td>NaN</td>\n",
       "    </tr>\n",
       "    <tr>\n",
       "      <th>1983</th>\n",
       "      <td>Annual</td>\n",
       "      <td>2409.08</td>\n",
       "      <td>1842.70</td>\n",
       "      <td>393.13</td>\n",
       "      <td>75.28</td>\n",
       "      <td>97.96</td>\n",
       "      <td>8255.76</td>\n",
       "      <td>4096.99</td>\n",
       "      <td>4052.98</td>\n",
       "      <td>9.73</td>\n",
       "      <td>4.82</td>\n",
       "      <td>29.47</td>\n",
       "      <td>3537.72</td>\n",
       "      <td>27.86</td>\n",
       "      <td>79.27</td>\n",
       "      <td>2096.32</td>\n",
       "      <td>722.40</td>\n",
       "      <td>54.75</td>\n",
       "      <td>21.93</td>\n",
       "      <td>28.83</td>\n",
       "      <td>57.36</td>\n",
       "      <td>26.70</td>\n",
       "      <td>57.50</td>\n",
       "      <td>30.40</td>\n",
       "      <td>223.67</td>\n",
       "      <td>110.72</td>\n",
       "      <td>6.56</td>\n",
       "      <td>15.70</td>\n",
       "      <td>598.78</td>\n",
       "      <td>5563.96</td>\n",
       "      <td>1801.78</td>\n",
       "      <td>42.70</td>\n",
       "      <td>178.32</td>\n",
       "      <td>132.24</td>\n",
       "      <td>9.21</td>\n",
       "      <td>7.21</td>\n",
       "      <td>22.53</td>\n",
       "      <td>4.25</td>\n",
       "      <td>2.89</td>\n",
       "      <td>284.82</td>\n",
       "      <td>6.85</td>\n",
       "      <td>67.41</td>\n",
       "      <td>200.12</td>\n",
       "      <td>4.35</td>\n",
       "      <td>336.90</td>\n",
       "      <td>251.21</td>\n",
       "      <td>85.68</td>\n",
       "      <td>1086.70</td>\n",
       "      <td>481.17</td>\n",
       "      <td>3.69</td>\n",
       "      <td>844.77</td>\n",
       "      <td>253.88</td>\n",
       "      <td>118.27</td>\n",
       "      <td>126.60</td>\n",
       "      <td>16228.81</td>\n",
       "      <td>165.58</td>\n",
       "      <td>16394.39</td>\n",
       "      <td>NaN</td>\n",
       "    </tr>\n",
       "    <tr>\n",
       "      <th>1984</th>\n",
       "      <td>Annual</td>\n",
       "      <td>2303.51</td>\n",
       "      <td>1759.12</td>\n",
       "      <td>399.69</td>\n",
       "      <td>76.69</td>\n",
       "      <td>68.01</td>\n",
       "      <td>8392.25</td>\n",
       "      <td>4602.27</td>\n",
       "      <td>4559.20</td>\n",
       "      <td>14.03</td>\n",
       "      <td>3.68</td>\n",
       "      <td>25.36</td>\n",
       "      <td>3282.52</td>\n",
       "      <td>27.43</td>\n",
       "      <td>49.85</td>\n",
       "      <td>2139.26</td>\n",
       "      <td>624.22</td>\n",
       "      <td>59.58</td>\n",
       "      <td>19.90</td>\n",
       "      <td>20.56</td>\n",
       "      <td>56.98</td>\n",
       "      <td>27.24</td>\n",
       "      <td>50.07</td>\n",
       "      <td>24.18</td>\n",
       "      <td>74.57</td>\n",
       "      <td>108.66</td>\n",
       "      <td>6.93</td>\n",
       "      <td>12.38</td>\n",
       "      <td>488.14</td>\n",
       "      <td>5352.56</td>\n",
       "      <td>1662.30</td>\n",
       "      <td>35.97</td>\n",
       "      <td>170.28</td>\n",
       "      <td>127.54</td>\n",
       "      <td>9.42</td>\n",
       "      <td>4.81</td>\n",
       "      <td>22.04</td>\n",
       "      <td>3.48</td>\n",
       "      <td>2.99</td>\n",
       "      <td>259.17</td>\n",
       "      <td>6.08</td>\n",
       "      <td>55.23</td>\n",
       "      <td>182.55</td>\n",
       "      <td>3.57</td>\n",
       "      <td>267.29</td>\n",
       "      <td>200.95</td>\n",
       "      <td>66.34</td>\n",
       "      <td>1086.93</td>\n",
       "      <td>518.36</td>\n",
       "      <td>3.98</td>\n",
       "      <td>863.61</td>\n",
       "      <td>259.55</td>\n",
       "      <td>117.82</td>\n",
       "      <td>103.73</td>\n",
       "      <td>16048.31</td>\n",
       "      <td>163.18</td>\n",
       "      <td>16211.49</td>\n",
       "      <td>NaN</td>\n",
       "    </tr>\n",
       "    <tr>\n",
       "      <th>1985</th>\n",
       "      <td>Annual</td>\n",
       "      <td>2731.06</td>\n",
       "      <td>2180.91</td>\n",
       "      <td>428.10</td>\n",
       "      <td>78.08</td>\n",
       "      <td>43.97</td>\n",
       "      <td>8768.30</td>\n",
       "      <td>4962.81</td>\n",
       "      <td>4918.27</td>\n",
       "      <td>26.19</td>\n",
       "      <td>2.67</td>\n",
       "      <td>15.68</td>\n",
       "      <td>3453.72</td>\n",
       "      <td>39.08</td>\n",
       "      <td>249.27</td>\n",
       "      <td>2114.21</td>\n",
       "      <td>532.80</td>\n",
       "      <td>53.64</td>\n",
       "      <td>22.32</td>\n",
       "      <td>16.43</td>\n",
       "      <td>56.60</td>\n",
       "      <td>26.41</td>\n",
       "      <td>55.08</td>\n",
       "      <td>31.41</td>\n",
       "      <td>145.32</td>\n",
       "      <td>111.14</td>\n",
       "      <td>7.83</td>\n",
       "      <td>7.67</td>\n",
       "      <td>336.27</td>\n",
       "      <td>5498.16</td>\n",
       "      <td>1727.98</td>\n",
       "      <td>33.19</td>\n",
       "      <td>203.57</td>\n",
       "      <td>163.51</td>\n",
       "      <td>6.91</td>\n",
       "      <td>4.09</td>\n",
       "      <td>22.68</td>\n",
       "      <td>3.33</td>\n",
       "      <td>3.04</td>\n",
       "      <td>209.03</td>\n",
       "      <td>7.29</td>\n",
       "      <td>52.93</td>\n",
       "      <td>130.37</td>\n",
       "      <td>3.42</td>\n",
       "      <td>254.99</td>\n",
       "      <td>197.37</td>\n",
       "      <td>57.63</td>\n",
       "      <td>1091.38</td>\n",
       "      <td>602.46</td>\n",
       "      <td>4.62</td>\n",
       "      <td>882.46</td>\n",
       "      <td>265.21</td>\n",
       "      <td>120.43</td>\n",
       "      <td>99.41</td>\n",
       "      <td>16997.52</td>\n",
       "      <td>172.56</td>\n",
       "      <td>17170.08</td>\n",
       "      <td>NaN</td>\n",
       "    </tr>\n",
       "  </tbody>\n",
       "</table>\n",
       "</div>"
      ],
      "text/plain": [
       "       tyear   Period  Agriculture  CropProduction  Livestock  Forestry  \\\n",
       "1981  Annual  2364.37      1854.76          341.41      77.90     90.30   \n",
       "1982  Annual  2425.96      1897.08          361.12      73.91     93.86   \n",
       "1983  Annual  2409.08      1842.70          393.13      75.28     97.96   \n",
       "1984  Annual  2303.51      1759.12          399.69      76.69     68.01   \n",
       "1985  Annual  2731.06      2180.91          428.10      78.08     43.97   \n",
       "\n",
       "       Fishing  Industry  MiningAndQuarrying  CrudePetroleumAndNaturalGas  \\\n",
       "1981  11753.40   5044.55             4977.42                        21.33   \n",
       "1982  10189.10   4507.93             4453.09                        10.29   \n",
       "1983   8255.76   4096.99             4052.98                         9.73   \n",
       "1984   8392.25   4602.27             4559.20                        14.03   \n",
       "1985   8768.30   4962.81             4918.27                        26.19   \n",
       "\n",
       "      CoalMining  MetalOres  QuarryingAndOtherMinerals  Manufacturing  \\\n",
       "1981        7.86      37.95                    5838.89          36.58   \n",
       "1982        5.87      38.68                    4984.79          38.49   \n",
       "1983        4.82      29.47                    3537.72          27.86   \n",
       "1984        3.68      25.36                    3282.52          27.43   \n",
       "1985        2.67      15.68                    3453.72          39.08   \n",
       "\n",
       "      OilRefining   Cement  FoodBeverageAndTobacco  TextileApparelAndFootwear  \\\n",
       "1981       190.94  3278.24                 1746.10                      53.32   \n",
       "1982       223.85  3042.93                  674.27                      50.31   \n",
       "1983        79.27  2096.32                  722.40                      54.75   \n",
       "1984        49.85  2139.26                  624.22                      59.58   \n",
       "1985       249.27  2114.21                  532.80                      53.64   \n",
       "\n",
       "      WoodAndWoodProducts  PulpPaperAndPaperProducts  \\\n",
       "1981                22.67                      43.62   \n",
       "1982                24.17                      43.69   \n",
       "1983                21.93                      28.83   \n",
       "1984                19.90                      20.56   \n",
       "1985                22.32                      16.43   \n",
       "\n",
       "      ChemicalAndPharmaceuticalProducts  NonMetallicProducts  \\\n",
       "1981                              57.14                26.43   \n",
       "1982                              57.25                26.18   \n",
       "1983                              57.36                26.70   \n",
       "1984                              56.98                27.24   \n",
       "1985                              56.60                26.41   \n",
       "\n",
       "      PlasticAndRubberProducts  ElectricalAndElectronics  \\\n",
       "1981                     52.71                     33.00   \n",
       "1982                     61.86                     38.22   \n",
       "1983                     57.50                     30.40   \n",
       "1984                     50.07                     24.18   \n",
       "1985                     55.08                     31.41   \n",
       "\n",
       "      BasicMetalIronAndSteel  MotorVehiclesAndAssembly  OtherManufacturing  \\\n",
       "1981                  186.75                    111.40                6.16   \n",
       "1982                  590.77                    112.81                6.82   \n",
       "1983                  223.67                    110.72                6.56   \n",
       "1984                   74.57                    108.66                6.93   \n",
       "1985                  145.32                    111.14                7.83   \n",
       "\n",
       "      ElectricityGasSteamAndAirCon  WaterSupplySewageWaste  Construction  \\\n",
       "1981                         12.23                  851.56       5431.79   \n",
       "1982                         10.35                  679.20       5604.21   \n",
       "1983                         15.70                  598.78       5563.96   \n",
       "1984                         12.38                  488.14       5352.56   \n",
       "1985                          7.67                  336.27       5498.16   \n",
       "\n",
       "      Services  Trade  AccommodationAndFoodServices  TransportationAndStorage  \\\n",
       "1981   1770.38  53.78                        264.51                    222.11   \n",
       "1982   1846.95  50.80                        211.89                    168.11   \n",
       "1983   1801.78  42.70                        178.32                    132.24   \n",
       "1984   1662.30  35.97                        170.28                    127.54   \n",
       "1985   1727.98  33.19                        203.57                    163.51   \n",
       "\n",
       "      RoadTransport  RailTransportAndPipelines  WaterTransport  AirTransport  \\\n",
       "1981           9.46                       5.74           18.66          4.48   \n",
       "1982          10.16                       4.66           21.24          4.52   \n",
       "1983           9.21                       7.21           22.53          4.25   \n",
       "1984           9.42                       4.81           22.04          3.48   \n",
       "1985           6.91                       4.09           22.68          3.33   \n",
       "\n",
       "      TransportServices  PostAndCourierServices  InformationAndCommunication  \\\n",
       "1981               4.06                  271.15                         8.59   \n",
       "1982               3.20                  290.07                         9.70   \n",
       "1983               2.89                  284.82                         6.85   \n",
       "1984               2.99                  259.17                         6.08   \n",
       "1985               3.04                  209.03                         7.29   \n",
       "\n",
       "      Publishing  MotionPicturesSoundRecordingAndMusicProduction  \\\n",
       "1981       71.09                                          174.97   \n",
       "1982       71.66                                          192.54   \n",
       "1983       67.41                                          200.12   \n",
       "1984       55.23                                          182.55   \n",
       "1985       52.93                                          130.37   \n",
       "\n",
       "      Broadcasting  ArtsEntertainmentAndRecreation  FinanceAndInsurance  \\\n",
       "1981          4.59                          282.17               196.91   \n",
       "1982          4.63                          372.27               242.67   \n",
       "1983          4.35                          336.90               251.21   \n",
       "1984          3.57                          267.29               200.95   \n",
       "1985          3.42                          254.99               197.37   \n",
       "\n",
       "      FinancialInstitutions  Insurance  RealEstate  \\\n",
       "1981                  85.26    1063.96      421.38   \n",
       "1982                 129.60    1074.05      423.67   \n",
       "1983                  85.68    1086.70      481.17   \n",
       "1984                  66.34    1086.93      518.36   \n",
       "1985                  57.63    1091.38      602.46   \n",
       "\n",
       "      ProfessionalScientificAndTechnicalServices  \\\n",
       "1981                                        3.23   \n",
       "1982                                        3.25   \n",
       "1983                                        3.69   \n",
       "1984                                        3.98   \n",
       "1985                                        4.62   \n",
       "\n",
       "      AdministrativeAndSupportServicesBusinessServices  PublicAdministration  \\\n",
       "1981                                            807.08                242.56   \n",
       "1982                                            825.92                248.22   \n",
       "1983                                            844.77                253.88   \n",
       "1984                                            863.61                259.55   \n",
       "1985                                            882.46                265.21   \n",
       "\n",
       "      Education  HumanHealthAndSocialServices  OtherServices  \\\n",
       "1981     113.46                        133.53       19549.56   \n",
       "1982     117.88                        134.60       18219.27   \n",
       "1983     118.27                        126.60       16228.81   \n",
       "1984     117.82                        103.73       16048.31   \n",
       "1985     120.43                         99.41       16997.52   \n",
       "\n",
       "      GDP at 2010 Constant Basic Prices  NetTaxesOnProducts  \\\n",
       "1981                             198.97            19748.53   \n",
       "1982                             185.70            18404.96   \n",
       "1983                             165.58            16394.39   \n",
       "1984                             163.18            16211.49   \n",
       "1985                             172.56            17170.08   \n",
       "\n",
       "      GDP at 2010 Constant Market Prices  \n",
       "1981                                 NaN  \n",
       "1982                                 NaN  \n",
       "1983                                 NaN  \n",
       "1984                                 NaN  \n",
       "1985                                 NaN  "
      ]
     },
     "execution_count": 3,
     "metadata": {},
     "output_type": "execute_result"
    }
   ],
   "source": [
    "NGN_GDP.head()"
   ]
  },
  {
   "cell_type": "code",
   "execution_count": 5,
   "id": "f154fd32",
   "metadata": {},
   "outputs": [
    {
     "data": {
      "text/html": [
       "<div>\n",
       "<style scoped>\n",
       "    .dataframe tbody tr th:only-of-type {\n",
       "        vertical-align: middle;\n",
       "    }\n",
       "\n",
       "    .dataframe tbody tr th {\n",
       "        vertical-align: top;\n",
       "    }\n",
       "\n",
       "    .dataframe thead th {\n",
       "        text-align: right;\n",
       "    }\n",
       "</style>\n",
       "<table border=\"1\" class=\"dataframe\">\n",
       "  <thead>\n",
       "    <tr style=\"text-align: right;\">\n",
       "      <th></th>\n",
       "      <th>tyear</th>\n",
       "      <th>Period</th>\n",
       "      <th>Agriculture</th>\n",
       "      <th>CropProduction</th>\n",
       "      <th>Livestock</th>\n",
       "      <th>Forestry</th>\n",
       "      <th>Fishing</th>\n",
       "      <th>Industry</th>\n",
       "      <th>MiningAndQuarrying</th>\n",
       "      <th>CrudePetroleumAndNaturalGas</th>\n",
       "      <th>CoalMining</th>\n",
       "      <th>MetalOres</th>\n",
       "      <th>QuarryingAndOtherMinerals</th>\n",
       "      <th>Manufacturing</th>\n",
       "      <th>OilRefining</th>\n",
       "      <th>Cement</th>\n",
       "      <th>FoodBeverageAndTobacco</th>\n",
       "      <th>TextileApparelAndFootwear</th>\n",
       "      <th>WoodAndWoodProducts</th>\n",
       "      <th>PulpPaperAndPaperProducts</th>\n",
       "      <th>ChemicalAndPharmaceuticalProducts</th>\n",
       "      <th>NonMetallicProducts</th>\n",
       "      <th>PlasticAndRubberProducts</th>\n",
       "      <th>ElectricalAndElectronics</th>\n",
       "      <th>BasicMetalIronAndSteel</th>\n",
       "      <th>MotorVehiclesAndAssembly</th>\n",
       "      <th>OtherManufacturing</th>\n",
       "      <th>ElectricityGasSteamAndAirCon</th>\n",
       "      <th>WaterSupplySewageWaste</th>\n",
       "      <th>Construction</th>\n",
       "      <th>Services</th>\n",
       "      <th>Trade</th>\n",
       "      <th>AccommodationAndFoodServices</th>\n",
       "      <th>TransportationAndStorage</th>\n",
       "      <th>RoadTransport</th>\n",
       "      <th>RailTransportAndPipelines</th>\n",
       "      <th>WaterTransport</th>\n",
       "      <th>AirTransport</th>\n",
       "      <th>TransportServices</th>\n",
       "      <th>PostAndCourierServices</th>\n",
       "      <th>InformationAndCommunication</th>\n",
       "      <th>Publishing</th>\n",
       "      <th>MotionPicturesSoundRecordingAndMusicProduction</th>\n",
       "      <th>Broadcasting</th>\n",
       "      <th>ArtsEntertainmentAndRecreation</th>\n",
       "      <th>FinanceAndInsurance</th>\n",
       "      <th>FinancialInstitutions</th>\n",
       "      <th>Insurance</th>\n",
       "      <th>RealEstate</th>\n",
       "      <th>ProfessionalScientificAndTechnicalServices</th>\n",
       "      <th>AdministrativeAndSupportServicesBusinessServices</th>\n",
       "      <th>PublicAdministration</th>\n",
       "      <th>Education</th>\n",
       "      <th>HumanHealthAndSocialServices</th>\n",
       "      <th>OtherServices</th>\n",
       "      <th>GDP at 2010 Constant Basic Prices</th>\n",
       "      <th>NetTaxesOnProducts</th>\n",
       "      <th>GDP at 2010 Constant Market Prices</th>\n",
       "    </tr>\n",
       "  </thead>\n",
       "  <tbody>\n",
       "    <tr>\n",
       "      <th>1981</th>\n",
       "      <td>NaN</td>\n",
       "      <td>Annual</td>\n",
       "      <td>2364.37</td>\n",
       "      <td>1854.76</td>\n",
       "      <td>341.41</td>\n",
       "      <td>77.90</td>\n",
       "      <td>90.30</td>\n",
       "      <td>11753.40</td>\n",
       "      <td>5044.55</td>\n",
       "      <td>4977.42</td>\n",
       "      <td>21.33</td>\n",
       "      <td>7.86</td>\n",
       "      <td>37.95</td>\n",
       "      <td>5838.89</td>\n",
       "      <td>36.58</td>\n",
       "      <td>190.94</td>\n",
       "      <td>3278.24</td>\n",
       "      <td>1746.10</td>\n",
       "      <td>53.32</td>\n",
       "      <td>22.67</td>\n",
       "      <td>43.62</td>\n",
       "      <td>57.14</td>\n",
       "      <td>26.43</td>\n",
       "      <td>52.71</td>\n",
       "      <td>33.00</td>\n",
       "      <td>186.75</td>\n",
       "      <td>111.40</td>\n",
       "      <td>6.16</td>\n",
       "      <td>12.23</td>\n",
       "      <td>851.56</td>\n",
       "      <td>5431.79</td>\n",
       "      <td>1770.38</td>\n",
       "      <td>53.78</td>\n",
       "      <td>264.51</td>\n",
       "      <td>222.11</td>\n",
       "      <td>9.46</td>\n",
       "      <td>5.74</td>\n",
       "      <td>18.66</td>\n",
       "      <td>4.48</td>\n",
       "      <td>4.06</td>\n",
       "      <td>271.15</td>\n",
       "      <td>8.59</td>\n",
       "      <td>71.09</td>\n",
       "      <td>174.97</td>\n",
       "      <td>4.59</td>\n",
       "      <td>282.17</td>\n",
       "      <td>196.91</td>\n",
       "      <td>85.26</td>\n",
       "      <td>1063.96</td>\n",
       "      <td>421.38</td>\n",
       "      <td>3.23</td>\n",
       "      <td>807.08</td>\n",
       "      <td>242.56</td>\n",
       "      <td>113.46</td>\n",
       "      <td>133.53</td>\n",
       "      <td>19549.56</td>\n",
       "      <td>198.97</td>\n",
       "      <td>19748.53</td>\n",
       "    </tr>\n",
       "    <tr>\n",
       "      <th>1982</th>\n",
       "      <td>NaN</td>\n",
       "      <td>Annual</td>\n",
       "      <td>2425.96</td>\n",
       "      <td>1897.08</td>\n",
       "      <td>361.12</td>\n",
       "      <td>73.91</td>\n",
       "      <td>93.86</td>\n",
       "      <td>10189.10</td>\n",
       "      <td>4507.93</td>\n",
       "      <td>4453.09</td>\n",
       "      <td>10.29</td>\n",
       "      <td>5.87</td>\n",
       "      <td>38.68</td>\n",
       "      <td>4984.79</td>\n",
       "      <td>38.49</td>\n",
       "      <td>223.85</td>\n",
       "      <td>3042.93</td>\n",
       "      <td>674.27</td>\n",
       "      <td>50.31</td>\n",
       "      <td>24.17</td>\n",
       "      <td>43.69</td>\n",
       "      <td>57.25</td>\n",
       "      <td>26.18</td>\n",
       "      <td>61.86</td>\n",
       "      <td>38.22</td>\n",
       "      <td>590.77</td>\n",
       "      <td>112.81</td>\n",
       "      <td>6.82</td>\n",
       "      <td>10.35</td>\n",
       "      <td>679.20</td>\n",
       "      <td>5604.21</td>\n",
       "      <td>1846.95</td>\n",
       "      <td>50.80</td>\n",
       "      <td>211.89</td>\n",
       "      <td>168.11</td>\n",
       "      <td>10.16</td>\n",
       "      <td>4.66</td>\n",
       "      <td>21.24</td>\n",
       "      <td>4.52</td>\n",
       "      <td>3.20</td>\n",
       "      <td>290.07</td>\n",
       "      <td>9.70</td>\n",
       "      <td>71.66</td>\n",
       "      <td>192.54</td>\n",
       "      <td>4.63</td>\n",
       "      <td>372.27</td>\n",
       "      <td>242.67</td>\n",
       "      <td>129.60</td>\n",
       "      <td>1074.05</td>\n",
       "      <td>423.67</td>\n",
       "      <td>3.25</td>\n",
       "      <td>825.92</td>\n",
       "      <td>248.22</td>\n",
       "      <td>117.88</td>\n",
       "      <td>134.60</td>\n",
       "      <td>18219.27</td>\n",
       "      <td>185.70</td>\n",
       "      <td>18404.96</td>\n",
       "    </tr>\n",
       "    <tr>\n",
       "      <th>1983</th>\n",
       "      <td>NaN</td>\n",
       "      <td>Annual</td>\n",
       "      <td>2409.08</td>\n",
       "      <td>1842.70</td>\n",
       "      <td>393.13</td>\n",
       "      <td>75.28</td>\n",
       "      <td>97.96</td>\n",
       "      <td>8255.76</td>\n",
       "      <td>4096.99</td>\n",
       "      <td>4052.98</td>\n",
       "      <td>9.73</td>\n",
       "      <td>4.82</td>\n",
       "      <td>29.47</td>\n",
       "      <td>3537.72</td>\n",
       "      <td>27.86</td>\n",
       "      <td>79.27</td>\n",
       "      <td>2096.32</td>\n",
       "      <td>722.40</td>\n",
       "      <td>54.75</td>\n",
       "      <td>21.93</td>\n",
       "      <td>28.83</td>\n",
       "      <td>57.36</td>\n",
       "      <td>26.70</td>\n",
       "      <td>57.50</td>\n",
       "      <td>30.40</td>\n",
       "      <td>223.67</td>\n",
       "      <td>110.72</td>\n",
       "      <td>6.56</td>\n",
       "      <td>15.70</td>\n",
       "      <td>598.78</td>\n",
       "      <td>5563.96</td>\n",
       "      <td>1801.78</td>\n",
       "      <td>42.70</td>\n",
       "      <td>178.32</td>\n",
       "      <td>132.24</td>\n",
       "      <td>9.21</td>\n",
       "      <td>7.21</td>\n",
       "      <td>22.53</td>\n",
       "      <td>4.25</td>\n",
       "      <td>2.89</td>\n",
       "      <td>284.82</td>\n",
       "      <td>6.85</td>\n",
       "      <td>67.41</td>\n",
       "      <td>200.12</td>\n",
       "      <td>4.35</td>\n",
       "      <td>336.90</td>\n",
       "      <td>251.21</td>\n",
       "      <td>85.68</td>\n",
       "      <td>1086.70</td>\n",
       "      <td>481.17</td>\n",
       "      <td>3.69</td>\n",
       "      <td>844.77</td>\n",
       "      <td>253.88</td>\n",
       "      <td>118.27</td>\n",
       "      <td>126.60</td>\n",
       "      <td>16228.81</td>\n",
       "      <td>165.58</td>\n",
       "      <td>16394.39</td>\n",
       "    </tr>\n",
       "    <tr>\n",
       "      <th>1984</th>\n",
       "      <td>NaN</td>\n",
       "      <td>Annual</td>\n",
       "      <td>2303.51</td>\n",
       "      <td>1759.12</td>\n",
       "      <td>399.69</td>\n",
       "      <td>76.69</td>\n",
       "      <td>68.01</td>\n",
       "      <td>8392.25</td>\n",
       "      <td>4602.27</td>\n",
       "      <td>4559.20</td>\n",
       "      <td>14.03</td>\n",
       "      <td>3.68</td>\n",
       "      <td>25.36</td>\n",
       "      <td>3282.52</td>\n",
       "      <td>27.43</td>\n",
       "      <td>49.85</td>\n",
       "      <td>2139.26</td>\n",
       "      <td>624.22</td>\n",
       "      <td>59.58</td>\n",
       "      <td>19.90</td>\n",
       "      <td>20.56</td>\n",
       "      <td>56.98</td>\n",
       "      <td>27.24</td>\n",
       "      <td>50.07</td>\n",
       "      <td>24.18</td>\n",
       "      <td>74.57</td>\n",
       "      <td>108.66</td>\n",
       "      <td>6.93</td>\n",
       "      <td>12.38</td>\n",
       "      <td>488.14</td>\n",
       "      <td>5352.56</td>\n",
       "      <td>1662.30</td>\n",
       "      <td>35.97</td>\n",
       "      <td>170.28</td>\n",
       "      <td>127.54</td>\n",
       "      <td>9.42</td>\n",
       "      <td>4.81</td>\n",
       "      <td>22.04</td>\n",
       "      <td>3.48</td>\n",
       "      <td>2.99</td>\n",
       "      <td>259.17</td>\n",
       "      <td>6.08</td>\n",
       "      <td>55.23</td>\n",
       "      <td>182.55</td>\n",
       "      <td>3.57</td>\n",
       "      <td>267.29</td>\n",
       "      <td>200.95</td>\n",
       "      <td>66.34</td>\n",
       "      <td>1086.93</td>\n",
       "      <td>518.36</td>\n",
       "      <td>3.98</td>\n",
       "      <td>863.61</td>\n",
       "      <td>259.55</td>\n",
       "      <td>117.82</td>\n",
       "      <td>103.73</td>\n",
       "      <td>16048.31</td>\n",
       "      <td>163.18</td>\n",
       "      <td>16211.49</td>\n",
       "    </tr>\n",
       "    <tr>\n",
       "      <th>1985</th>\n",
       "      <td>NaN</td>\n",
       "      <td>Annual</td>\n",
       "      <td>2731.06</td>\n",
       "      <td>2180.91</td>\n",
       "      <td>428.10</td>\n",
       "      <td>78.08</td>\n",
       "      <td>43.97</td>\n",
       "      <td>8768.30</td>\n",
       "      <td>4962.81</td>\n",
       "      <td>4918.27</td>\n",
       "      <td>26.19</td>\n",
       "      <td>2.67</td>\n",
       "      <td>15.68</td>\n",
       "      <td>3453.72</td>\n",
       "      <td>39.08</td>\n",
       "      <td>249.27</td>\n",
       "      <td>2114.21</td>\n",
       "      <td>532.80</td>\n",
       "      <td>53.64</td>\n",
       "      <td>22.32</td>\n",
       "      <td>16.43</td>\n",
       "      <td>56.60</td>\n",
       "      <td>26.41</td>\n",
       "      <td>55.08</td>\n",
       "      <td>31.41</td>\n",
       "      <td>145.32</td>\n",
       "      <td>111.14</td>\n",
       "      <td>7.83</td>\n",
       "      <td>7.67</td>\n",
       "      <td>336.27</td>\n",
       "      <td>5498.16</td>\n",
       "      <td>1727.98</td>\n",
       "      <td>33.19</td>\n",
       "      <td>203.57</td>\n",
       "      <td>163.51</td>\n",
       "      <td>6.91</td>\n",
       "      <td>4.09</td>\n",
       "      <td>22.68</td>\n",
       "      <td>3.33</td>\n",
       "      <td>3.04</td>\n",
       "      <td>209.03</td>\n",
       "      <td>7.29</td>\n",
       "      <td>52.93</td>\n",
       "      <td>130.37</td>\n",
       "      <td>3.42</td>\n",
       "      <td>254.99</td>\n",
       "      <td>197.37</td>\n",
       "      <td>57.63</td>\n",
       "      <td>1091.38</td>\n",
       "      <td>602.46</td>\n",
       "      <td>4.62</td>\n",
       "      <td>882.46</td>\n",
       "      <td>265.21</td>\n",
       "      <td>120.43</td>\n",
       "      <td>99.41</td>\n",
       "      <td>16997.52</td>\n",
       "      <td>172.56</td>\n",
       "      <td>17170.08</td>\n",
       "    </tr>\n",
       "    <tr>\n",
       "      <th>...</th>\n",
       "      <td>...</td>\n",
       "      <td>...</td>\n",
       "      <td>...</td>\n",
       "      <td>...</td>\n",
       "      <td>...</td>\n",
       "      <td>...</td>\n",
       "      <td>...</td>\n",
       "      <td>...</td>\n",
       "      <td>...</td>\n",
       "      <td>...</td>\n",
       "      <td>...</td>\n",
       "      <td>...</td>\n",
       "      <td>...</td>\n",
       "      <td>...</td>\n",
       "      <td>...</td>\n",
       "      <td>...</td>\n",
       "      <td>...</td>\n",
       "      <td>...</td>\n",
       "      <td>...</td>\n",
       "      <td>...</td>\n",
       "      <td>...</td>\n",
       "      <td>...</td>\n",
       "      <td>...</td>\n",
       "      <td>...</td>\n",
       "      <td>...</td>\n",
       "      <td>...</td>\n",
       "      <td>...</td>\n",
       "      <td>...</td>\n",
       "      <td>...</td>\n",
       "      <td>...</td>\n",
       "      <td>...</td>\n",
       "      <td>...</td>\n",
       "      <td>...</td>\n",
       "      <td>...</td>\n",
       "      <td>...</td>\n",
       "      <td>...</td>\n",
       "      <td>...</td>\n",
       "      <td>...</td>\n",
       "      <td>...</td>\n",
       "      <td>...</td>\n",
       "      <td>...</td>\n",
       "      <td>...</td>\n",
       "      <td>...</td>\n",
       "      <td>...</td>\n",
       "      <td>...</td>\n",
       "      <td>...</td>\n",
       "      <td>...</td>\n",
       "      <td>...</td>\n",
       "      <td>...</td>\n",
       "      <td>...</td>\n",
       "      <td>...</td>\n",
       "      <td>...</td>\n",
       "      <td>...</td>\n",
       "      <td>...</td>\n",
       "      <td>...</td>\n",
       "      <td>...</td>\n",
       "      <td>...</td>\n",
       "      <td>...</td>\n",
       "    </tr>\n",
       "    <tr>\n",
       "      <th>2022</th>\n",
       "      <td>NaN</td>\n",
       "      <td>Q1</td>\n",
       "      <td>3879.73</td>\n",
       "      <td>3391.63</td>\n",
       "      <td>318.50</td>\n",
       "      <td>44.14</td>\n",
       "      <td>125.46</td>\n",
       "      <td>3724.28</td>\n",
       "      <td>1157.69</td>\n",
       "      <td>1150.85</td>\n",
       "      <td>1.61</td>\n",
       "      <td>4.87</td>\n",
       "      <td>0.36</td>\n",
       "      <td>1768.82</td>\n",
       "      <td>1.66</td>\n",
       "      <td>188.81</td>\n",
       "      <td>875.93</td>\n",
       "      <td>342.48</td>\n",
       "      <td>53.81</td>\n",
       "      <td>13.38</td>\n",
       "      <td>42.75</td>\n",
       "      <td>63.52</td>\n",
       "      <td>60.12</td>\n",
       "      <td>0.84</td>\n",
       "      <td>39.93</td>\n",
       "      <td>9.53</td>\n",
       "      <td>76.07</td>\n",
       "      <td>32.72</td>\n",
       "      <td>39.06</td>\n",
       "      <td>726.00</td>\n",
       "      <td>9745.37</td>\n",
       "      <td>2798.78</td>\n",
       "      <td>173.41</td>\n",
       "      <td>191.45</td>\n",
       "      <td>151.97</td>\n",
       "      <td>0.04</td>\n",
       "      <td>0.80</td>\n",
       "      <td>25.26</td>\n",
       "      <td>7.11</td>\n",
       "      <td>6.26</td>\n",
       "      <td>2811.32</td>\n",
       "      <td>5.45</td>\n",
       "      <td>229.67</td>\n",
       "      <td>330.47</td>\n",
       "      <td>51.85</td>\n",
       "      <td>781.98</td>\n",
       "      <td>696.87</td>\n",
       "      <td>85.11</td>\n",
       "      <td>927.32</td>\n",
       "      <td>560.47</td>\n",
       "      <td>3.39</td>\n",
       "      <td>283.59</td>\n",
       "      <td>333.06</td>\n",
       "      <td>126.01</td>\n",
       "      <td>702.74</td>\n",
       "      <td>17349.38</td>\n",
       "      <td>223.89</td>\n",
       "      <td>17573.27</td>\n",
       "    </tr>\n",
       "    <tr>\n",
       "      <th>2022</th>\n",
       "      <td>NaN</td>\n",
       "      <td>Q2</td>\n",
       "      <td>4017.42</td>\n",
       "      <td>3595.83</td>\n",
       "      <td>282.02</td>\n",
       "      <td>51.28</td>\n",
       "      <td>88.30</td>\n",
       "      <td>3354.31</td>\n",
       "      <td>1125.17</td>\n",
       "      <td>1093.61</td>\n",
       "      <td>4.80</td>\n",
       "      <td>1.26</td>\n",
       "      <td>25.51</td>\n",
       "      <td>1495.12</td>\n",
       "      <td>2.82</td>\n",
       "      <td>143.74</td>\n",
       "      <td>760.08</td>\n",
       "      <td>283.34</td>\n",
       "      <td>44.41</td>\n",
       "      <td>9.70</td>\n",
       "      <td>47.37</td>\n",
       "      <td>49.24</td>\n",
       "      <td>53.01</td>\n",
       "      <td>0.92</td>\n",
       "      <td>37.31</td>\n",
       "      <td>7.63</td>\n",
       "      <td>55.55</td>\n",
       "      <td>118.79</td>\n",
       "      <td>61.12</td>\n",
       "      <td>554.11</td>\n",
       "      <td>9914.15</td>\n",
       "      <td>2905.99</td>\n",
       "      <td>68.17</td>\n",
       "      <td>318.16</td>\n",
       "      <td>293.85</td>\n",
       "      <td>0.02</td>\n",
       "      <td>1.04</td>\n",
       "      <td>9.69</td>\n",
       "      <td>11.14</td>\n",
       "      <td>2.42</td>\n",
       "      <td>3188.31</td>\n",
       "      <td>4.66</td>\n",
       "      <td>157.57</td>\n",
       "      <td>433.43</td>\n",
       "      <td>35.69</td>\n",
       "      <td>735.40</td>\n",
       "      <td>655.22</td>\n",
       "      <td>80.18</td>\n",
       "      <td>920.49</td>\n",
       "      <td>525.94</td>\n",
       "      <td>3.54</td>\n",
       "      <td>375.59</td>\n",
       "      <td>231.85</td>\n",
       "      <td>131.28</td>\n",
       "      <td>473.72</td>\n",
       "      <td>17285.88</td>\n",
       "      <td>192.34</td>\n",
       "      <td>17478.22</td>\n",
       "    </tr>\n",
       "    <tr>\n",
       "      <th>2022</th>\n",
       "      <td>NaN</td>\n",
       "      <td>Q3</td>\n",
       "      <td>5625.36</td>\n",
       "      <td>5200.73</td>\n",
       "      <td>302.90</td>\n",
       "      <td>48.07</td>\n",
       "      <td>73.67</td>\n",
       "      <td>3482.78</td>\n",
       "      <td>1118.13</td>\n",
       "      <td>1073.90</td>\n",
       "      <td>0.31</td>\n",
       "      <td>2.41</td>\n",
       "      <td>41.52</td>\n",
       "      <td>1628.91</td>\n",
       "      <td>2.32</td>\n",
       "      <td>190.85</td>\n",
       "      <td>794.84</td>\n",
       "      <td>302.90</td>\n",
       "      <td>50.31</td>\n",
       "      <td>12.21</td>\n",
       "      <td>51.40</td>\n",
       "      <td>58.46</td>\n",
       "      <td>52.48</td>\n",
       "      <td>1.12</td>\n",
       "      <td>40.10</td>\n",
       "      <td>7.13</td>\n",
       "      <td>64.79</td>\n",
       "      <td>71.18</td>\n",
       "      <td>35.21</td>\n",
       "      <td>629.36</td>\n",
       "      <td>9851.81</td>\n",
       "      <td>2909.77</td>\n",
       "      <td>135.68</td>\n",
       "      <td>254.93</td>\n",
       "      <td>213.08</td>\n",
       "      <td>0.02</td>\n",
       "      <td>1.80</td>\n",
       "      <td>21.69</td>\n",
       "      <td>15.96</td>\n",
       "      <td>2.38</td>\n",
       "      <td>2910.89</td>\n",
       "      <td>4.88</td>\n",
       "      <td>208.15</td>\n",
       "      <td>261.26</td>\n",
       "      <td>36.88</td>\n",
       "      <td>660.84</td>\n",
       "      <td>594.68</td>\n",
       "      <td>66.16</td>\n",
       "      <td>1064.03</td>\n",
       "      <td>611.99</td>\n",
       "      <td>4.23</td>\n",
       "      <td>389.18</td>\n",
       "      <td>317.74</td>\n",
       "      <td>133.75</td>\n",
       "      <td>421.89</td>\n",
       "      <td>18959.95</td>\n",
       "      <td>334.06</td>\n",
       "      <td>19294.01</td>\n",
       "    </tr>\n",
       "    <tr>\n",
       "      <th>2022</th>\n",
       "      <td>NaN</td>\n",
       "      <td>Q4</td>\n",
       "      <td>5568.55</td>\n",
       "      <td>5072.56</td>\n",
       "      <td>344.31</td>\n",
       "      <td>52.87</td>\n",
       "      <td>98.81</td>\n",
       "      <td>3634.21</td>\n",
       "      <td>990.44</td>\n",
       "      <td>913.55</td>\n",
       "      <td>1.48</td>\n",
       "      <td>1.13</td>\n",
       "      <td>74.28</td>\n",
       "      <td>1768.54</td>\n",
       "      <td>4.41</td>\n",
       "      <td>172.44</td>\n",
       "      <td>871.80</td>\n",
       "      <td>357.19</td>\n",
       "      <td>47.36</td>\n",
       "      <td>12.73</td>\n",
       "      <td>47.13</td>\n",
       "      <td>58.49</td>\n",
       "      <td>61.80</td>\n",
       "      <td>1.23</td>\n",
       "      <td>46.28</td>\n",
       "      <td>7.74</td>\n",
       "      <td>79.94</td>\n",
       "      <td>110.71</td>\n",
       "      <td>35.06</td>\n",
       "      <td>729.46</td>\n",
       "      <td>11841.49</td>\n",
       "      <td>3329.16</td>\n",
       "      <td>167.05</td>\n",
       "      <td>338.28</td>\n",
       "      <td>291.97</td>\n",
       "      <td>0.09</td>\n",
       "      <td>1.39</td>\n",
       "      <td>22.90</td>\n",
       "      <td>16.93</td>\n",
       "      <td>4.99</td>\n",
       "      <td>3412.53</td>\n",
       "      <td>5.19</td>\n",
       "      <td>201.14</td>\n",
       "      <td>354.83</td>\n",
       "      <td>43.24</td>\n",
       "      <td>831.13</td>\n",
       "      <td>771.59</td>\n",
       "      <td>59.53</td>\n",
       "      <td>1301.22</td>\n",
       "      <td>701.92</td>\n",
       "      <td>3.99</td>\n",
       "      <td>446.76</td>\n",
       "      <td>438.46</td>\n",
       "      <td>138.94</td>\n",
       "      <td>688.81</td>\n",
       "      <td>21044.25</td>\n",
       "      <td>379.19</td>\n",
       "      <td>21423.44</td>\n",
       "    </tr>\n",
       "    <tr>\n",
       "      <th>2022</th>\n",
       "      <td>NaN</td>\n",
       "      <td>Annual</td>\n",
       "      <td>19091.07</td>\n",
       "      <td>17260.75</td>\n",
       "      <td>1247.72</td>\n",
       "      <td>196.36</td>\n",
       "      <td>386.24</td>\n",
       "      <td>14195.58</td>\n",
       "      <td>4391.42</td>\n",
       "      <td>4231.90</td>\n",
       "      <td>8.19</td>\n",
       "      <td>9.66</td>\n",
       "      <td>141.66</td>\n",
       "      <td>6661.39</td>\n",
       "      <td>11.21</td>\n",
       "      <td>695.84</td>\n",
       "      <td>3302.66</td>\n",
       "      <td>1285.91</td>\n",
       "      <td>195.89</td>\n",
       "      <td>48.03</td>\n",
       "      <td>188.65</td>\n",
       "      <td>229.71</td>\n",
       "      <td>227.41</td>\n",
       "      <td>4.11</td>\n",
       "      <td>163.61</td>\n",
       "      <td>32.03</td>\n",
       "      <td>276.34</td>\n",
       "      <td>333.39</td>\n",
       "      <td>170.45</td>\n",
       "      <td>2638.93</td>\n",
       "      <td>41352.81</td>\n",
       "      <td>11943.70</td>\n",
       "      <td>544.31</td>\n",
       "      <td>1102.81</td>\n",
       "      <td>950.87</td>\n",
       "      <td>0.17</td>\n",
       "      <td>5.04</td>\n",
       "      <td>79.54</td>\n",
       "      <td>51.15</td>\n",
       "      <td>16.04</td>\n",
       "      <td>12323.04</td>\n",
       "      <td>20.17</td>\n",
       "      <td>796.53</td>\n",
       "      <td>1379.99</td>\n",
       "      <td>167.66</td>\n",
       "      <td>3009.35</td>\n",
       "      <td>2718.36</td>\n",
       "      <td>290.98</td>\n",
       "      <td>4213.07</td>\n",
       "      <td>2400.32</td>\n",
       "      <td>15.15</td>\n",
       "      <td>1495.13</td>\n",
       "      <td>1321.11</td>\n",
       "      <td>529.99</td>\n",
       "      <td>2287.16</td>\n",
       "      <td>74639.47</td>\n",
       "      <td>1129.48</td>\n",
       "      <td>75768.95</td>\n",
       "    </tr>\n",
       "  </tbody>\n",
       "</table>\n",
       "<p>94 rows × 58 columns</p>\n",
       "</div>"
      ],
      "text/plain": [
       "     tyear  Period  Agriculture  CropProduction  Livestock  Forestry  Fishing  \\\n",
       "1981   NaN  Annual      2364.37         1854.76     341.41     77.90    90.30   \n",
       "1982   NaN  Annual      2425.96         1897.08     361.12     73.91    93.86   \n",
       "1983   NaN  Annual      2409.08         1842.70     393.13     75.28    97.96   \n",
       "1984   NaN  Annual      2303.51         1759.12     399.69     76.69    68.01   \n",
       "1985   NaN  Annual      2731.06         2180.91     428.10     78.08    43.97   \n",
       "...    ...     ...          ...             ...        ...       ...      ...   \n",
       "2022   NaN      Q1      3879.73         3391.63     318.50     44.14   125.46   \n",
       "2022   NaN      Q2      4017.42         3595.83     282.02     51.28    88.30   \n",
       "2022   NaN      Q3      5625.36         5200.73     302.90     48.07    73.67   \n",
       "2022   NaN      Q4      5568.55         5072.56     344.31     52.87    98.81   \n",
       "2022   NaN  Annual     19091.07        17260.75    1247.72    196.36   386.24   \n",
       "\n",
       "      Industry  MiningAndQuarrying  CrudePetroleumAndNaturalGas  CoalMining  \\\n",
       "1981  11753.40             5044.55                      4977.42       21.33   \n",
       "1982  10189.10             4507.93                      4453.09       10.29   \n",
       "1983   8255.76             4096.99                      4052.98        9.73   \n",
       "1984   8392.25             4602.27                      4559.20       14.03   \n",
       "1985   8768.30             4962.81                      4918.27       26.19   \n",
       "...        ...                 ...                          ...         ...   \n",
       "2022   3724.28             1157.69                      1150.85        1.61   \n",
       "2022   3354.31             1125.17                      1093.61        4.80   \n",
       "2022   3482.78             1118.13                      1073.90        0.31   \n",
       "2022   3634.21              990.44                       913.55        1.48   \n",
       "2022  14195.58             4391.42                      4231.90        8.19   \n",
       "\n",
       "      MetalOres  QuarryingAndOtherMinerals  Manufacturing  OilRefining  \\\n",
       "1981       7.86                      37.95        5838.89        36.58   \n",
       "1982       5.87                      38.68        4984.79        38.49   \n",
       "1983       4.82                      29.47        3537.72        27.86   \n",
       "1984       3.68                      25.36        3282.52        27.43   \n",
       "1985       2.67                      15.68        3453.72        39.08   \n",
       "...         ...                        ...            ...          ...   \n",
       "2022       4.87                       0.36        1768.82         1.66   \n",
       "2022       1.26                      25.51        1495.12         2.82   \n",
       "2022       2.41                      41.52        1628.91         2.32   \n",
       "2022       1.13                      74.28        1768.54         4.41   \n",
       "2022       9.66                     141.66        6661.39        11.21   \n",
       "\n",
       "      Cement  FoodBeverageAndTobacco  TextileApparelAndFootwear  \\\n",
       "1981  190.94                 3278.24                    1746.10   \n",
       "1982  223.85                 3042.93                     674.27   \n",
       "1983   79.27                 2096.32                     722.40   \n",
       "1984   49.85                 2139.26                     624.22   \n",
       "1985  249.27                 2114.21                     532.80   \n",
       "...      ...                     ...                        ...   \n",
       "2022  188.81                  875.93                     342.48   \n",
       "2022  143.74                  760.08                     283.34   \n",
       "2022  190.85                  794.84                     302.90   \n",
       "2022  172.44                  871.80                     357.19   \n",
       "2022  695.84                 3302.66                    1285.91   \n",
       "\n",
       "      WoodAndWoodProducts  PulpPaperAndPaperProducts  \\\n",
       "1981                53.32                      22.67   \n",
       "1982                50.31                      24.17   \n",
       "1983                54.75                      21.93   \n",
       "1984                59.58                      19.90   \n",
       "1985                53.64                      22.32   \n",
       "...                   ...                        ...   \n",
       "2022                53.81                      13.38   \n",
       "2022                44.41                       9.70   \n",
       "2022                50.31                      12.21   \n",
       "2022                47.36                      12.73   \n",
       "2022               195.89                      48.03   \n",
       "\n",
       "      ChemicalAndPharmaceuticalProducts  NonMetallicProducts  \\\n",
       "1981                              43.62                57.14   \n",
       "1982                              43.69                57.25   \n",
       "1983                              28.83                57.36   \n",
       "1984                              20.56                56.98   \n",
       "1985                              16.43                56.60   \n",
       "...                                 ...                  ...   \n",
       "2022                              42.75                63.52   \n",
       "2022                              47.37                49.24   \n",
       "2022                              51.40                58.46   \n",
       "2022                              47.13                58.49   \n",
       "2022                             188.65               229.71   \n",
       "\n",
       "      PlasticAndRubberProducts  ElectricalAndElectronics  \\\n",
       "1981                     26.43                     52.71   \n",
       "1982                     26.18                     61.86   \n",
       "1983                     26.70                     57.50   \n",
       "1984                     27.24                     50.07   \n",
       "1985                     26.41                     55.08   \n",
       "...                        ...                       ...   \n",
       "2022                     60.12                      0.84   \n",
       "2022                     53.01                      0.92   \n",
       "2022                     52.48                      1.12   \n",
       "2022                     61.80                      1.23   \n",
       "2022                    227.41                      4.11   \n",
       "\n",
       "      BasicMetalIronAndSteel  MotorVehiclesAndAssembly  OtherManufacturing  \\\n",
       "1981                   33.00                    186.75              111.40   \n",
       "1982                   38.22                    590.77              112.81   \n",
       "1983                   30.40                    223.67              110.72   \n",
       "1984                   24.18                     74.57              108.66   \n",
       "1985                   31.41                    145.32              111.14   \n",
       "...                      ...                       ...                 ...   \n",
       "2022                   39.93                      9.53               76.07   \n",
       "2022                   37.31                      7.63               55.55   \n",
       "2022                   40.10                      7.13               64.79   \n",
       "2022                   46.28                      7.74               79.94   \n",
       "2022                  163.61                     32.03              276.34   \n",
       "\n",
       "      ElectricityGasSteamAndAirCon  WaterSupplySewageWaste  Construction  \\\n",
       "1981                          6.16                   12.23        851.56   \n",
       "1982                          6.82                   10.35        679.20   \n",
       "1983                          6.56                   15.70        598.78   \n",
       "1984                          6.93                   12.38        488.14   \n",
       "1985                          7.83                    7.67        336.27   \n",
       "...                            ...                     ...           ...   \n",
       "2022                         32.72                   39.06        726.00   \n",
       "2022                        118.79                   61.12        554.11   \n",
       "2022                         71.18                   35.21        629.36   \n",
       "2022                        110.71                   35.06        729.46   \n",
       "2022                        333.39                  170.45       2638.93   \n",
       "\n",
       "      Services     Trade  AccommodationAndFoodServices  \\\n",
       "1981   5431.79   1770.38                         53.78   \n",
       "1982   5604.21   1846.95                         50.80   \n",
       "1983   5563.96   1801.78                         42.70   \n",
       "1984   5352.56   1662.30                         35.97   \n",
       "1985   5498.16   1727.98                         33.19   \n",
       "...        ...       ...                           ...   \n",
       "2022   9745.37   2798.78                        173.41   \n",
       "2022   9914.15   2905.99                         68.17   \n",
       "2022   9851.81   2909.77                        135.68   \n",
       "2022  11841.49   3329.16                        167.05   \n",
       "2022  41352.81  11943.70                        544.31   \n",
       "\n",
       "      TransportationAndStorage  RoadTransport  RailTransportAndPipelines  \\\n",
       "1981                    264.51         222.11                       9.46   \n",
       "1982                    211.89         168.11                      10.16   \n",
       "1983                    178.32         132.24                       9.21   \n",
       "1984                    170.28         127.54                       9.42   \n",
       "1985                    203.57         163.51                       6.91   \n",
       "...                        ...            ...                        ...   \n",
       "2022                    191.45         151.97                       0.04   \n",
       "2022                    318.16         293.85                       0.02   \n",
       "2022                    254.93         213.08                       0.02   \n",
       "2022                    338.28         291.97                       0.09   \n",
       "2022                   1102.81         950.87                       0.17   \n",
       "\n",
       "      WaterTransport  AirTransport  TransportServices  PostAndCourierServices  \\\n",
       "1981            5.74         18.66               4.48                    4.06   \n",
       "1982            4.66         21.24               4.52                    3.20   \n",
       "1983            7.21         22.53               4.25                    2.89   \n",
       "1984            4.81         22.04               3.48                    2.99   \n",
       "1985            4.09         22.68               3.33                    3.04   \n",
       "...              ...           ...                ...                     ...   \n",
       "2022            0.80         25.26               7.11                    6.26   \n",
       "2022            1.04          9.69              11.14                    2.42   \n",
       "2022            1.80         21.69              15.96                    2.38   \n",
       "2022            1.39         22.90              16.93                    4.99   \n",
       "2022            5.04         79.54              51.15                   16.04   \n",
       "\n",
       "      InformationAndCommunication  Publishing  \\\n",
       "1981                       271.15        8.59   \n",
       "1982                       290.07        9.70   \n",
       "1983                       284.82        6.85   \n",
       "1984                       259.17        6.08   \n",
       "1985                       209.03        7.29   \n",
       "...                           ...         ...   \n",
       "2022                      2811.32        5.45   \n",
       "2022                      3188.31        4.66   \n",
       "2022                      2910.89        4.88   \n",
       "2022                      3412.53        5.19   \n",
       "2022                     12323.04       20.17   \n",
       "\n",
       "      MotionPicturesSoundRecordingAndMusicProduction  Broadcasting  \\\n",
       "1981                                           71.09        174.97   \n",
       "1982                                           71.66        192.54   \n",
       "1983                                           67.41        200.12   \n",
       "1984                                           55.23        182.55   \n",
       "1985                                           52.93        130.37   \n",
       "...                                              ...           ...   \n",
       "2022                                          229.67        330.47   \n",
       "2022                                          157.57        433.43   \n",
       "2022                                          208.15        261.26   \n",
       "2022                                          201.14        354.83   \n",
       "2022                                          796.53       1379.99   \n",
       "\n",
       "      ArtsEntertainmentAndRecreation  FinanceAndInsurance  \\\n",
       "1981                            4.59               282.17   \n",
       "1982                            4.63               372.27   \n",
       "1983                            4.35               336.90   \n",
       "1984                            3.57               267.29   \n",
       "1985                            3.42               254.99   \n",
       "...                              ...                  ...   \n",
       "2022                           51.85               781.98   \n",
       "2022                           35.69               735.40   \n",
       "2022                           36.88               660.84   \n",
       "2022                           43.24               831.13   \n",
       "2022                          167.66              3009.35   \n",
       "\n",
       "      FinancialInstitutions  Insurance  RealEstate  \\\n",
       "1981                 196.91      85.26     1063.96   \n",
       "1982                 242.67     129.60     1074.05   \n",
       "1983                 251.21      85.68     1086.70   \n",
       "1984                 200.95      66.34     1086.93   \n",
       "1985                 197.37      57.63     1091.38   \n",
       "...                     ...        ...         ...   \n",
       "2022                 696.87      85.11      927.32   \n",
       "2022                 655.22      80.18      920.49   \n",
       "2022                 594.68      66.16     1064.03   \n",
       "2022                 771.59      59.53     1301.22   \n",
       "2022                2718.36     290.98     4213.07   \n",
       "\n",
       "      ProfessionalScientificAndTechnicalServices  \\\n",
       "1981                                      421.38   \n",
       "1982                                      423.67   \n",
       "1983                                      481.17   \n",
       "1984                                      518.36   \n",
       "1985                                      602.46   \n",
       "...                                          ...   \n",
       "2022                                      560.47   \n",
       "2022                                      525.94   \n",
       "2022                                      611.99   \n",
       "2022                                      701.92   \n",
       "2022                                     2400.32   \n",
       "\n",
       "      AdministrativeAndSupportServicesBusinessServices  PublicAdministration  \\\n",
       "1981                                              3.23                807.08   \n",
       "1982                                              3.25                825.92   \n",
       "1983                                              3.69                844.77   \n",
       "1984                                              3.98                863.61   \n",
       "1985                                              4.62                882.46   \n",
       "...                                                ...                   ...   \n",
       "2022                                              3.39                283.59   \n",
       "2022                                              3.54                375.59   \n",
       "2022                                              4.23                389.18   \n",
       "2022                                              3.99                446.76   \n",
       "2022                                             15.15               1495.13   \n",
       "\n",
       "      Education  HumanHealthAndSocialServices  OtherServices  \\\n",
       "1981     242.56                        113.46         133.53   \n",
       "1982     248.22                        117.88         134.60   \n",
       "1983     253.88                        118.27         126.60   \n",
       "1984     259.55                        117.82         103.73   \n",
       "1985     265.21                        120.43          99.41   \n",
       "...         ...                           ...            ...   \n",
       "2022     333.06                        126.01         702.74   \n",
       "2022     231.85                        131.28         473.72   \n",
       "2022     317.74                        133.75         421.89   \n",
       "2022     438.46                        138.94         688.81   \n",
       "2022    1321.11                        529.99        2287.16   \n",
       "\n",
       "      GDP at 2010 Constant Basic Prices  NetTaxesOnProducts  \\\n",
       "1981                           19549.56              198.97   \n",
       "1982                           18219.27              185.70   \n",
       "1983                           16228.81              165.58   \n",
       "1984                           16048.31              163.18   \n",
       "1985                           16997.52              172.56   \n",
       "...                                 ...                 ...   \n",
       "2022                           17349.38              223.89   \n",
       "2022                           17285.88              192.34   \n",
       "2022                           18959.95              334.06   \n",
       "2022                           21044.25              379.19   \n",
       "2022                           74639.47             1129.48   \n",
       "\n",
       "      GDP at 2010 Constant Market Prices  \n",
       "1981                            19748.53  \n",
       "1982                            18404.96  \n",
       "1983                            16394.39  \n",
       "1984                            16211.49  \n",
       "1985                            17170.08  \n",
       "...                                  ...  \n",
       "2022                            17573.27  \n",
       "2022                            17478.22  \n",
       "2022                            19294.01  \n",
       "2022                            21423.44  \n",
       "2022                            75768.95  \n",
       "\n",
       "[94 rows x 58 columns]"
      ]
     },
     "execution_count": 5,
     "metadata": {},
     "output_type": "execute_result"
    }
   ],
   "source": [
    "# Shift the columns one step to the right\n",
    "NGN_GDP = NGN_GDP.shift(axis=1)\n",
    "NGN_GDP"
   ]
  },
  {
   "cell_type": "code",
   "execution_count": 6,
   "id": "3bb0754a",
   "metadata": {},
   "outputs": [
    {
     "data": {
      "text/html": [
       "<div>\n",
       "<style scoped>\n",
       "    .dataframe tbody tr th:only-of-type {\n",
       "        vertical-align: middle;\n",
       "    }\n",
       "\n",
       "    .dataframe tbody tr th {\n",
       "        vertical-align: top;\n",
       "    }\n",
       "\n",
       "    .dataframe thead th {\n",
       "        text-align: right;\n",
       "    }\n",
       "</style>\n",
       "<table border=\"1\" class=\"dataframe\">\n",
       "  <thead>\n",
       "    <tr style=\"text-align: right;\">\n",
       "      <th></th>\n",
       "      <th>tyear</th>\n",
       "      <th>Period</th>\n",
       "      <th>Agriculture</th>\n",
       "      <th>CropProduction</th>\n",
       "      <th>Livestock</th>\n",
       "      <th>Forestry</th>\n",
       "      <th>Fishing</th>\n",
       "      <th>Industry</th>\n",
       "      <th>MiningAndQuarrying</th>\n",
       "      <th>CrudePetroleumAndNaturalGas</th>\n",
       "      <th>CoalMining</th>\n",
       "      <th>MetalOres</th>\n",
       "      <th>QuarryingAndOtherMinerals</th>\n",
       "      <th>Manufacturing</th>\n",
       "      <th>OilRefining</th>\n",
       "      <th>Cement</th>\n",
       "      <th>FoodBeverageAndTobacco</th>\n",
       "      <th>TextileApparelAndFootwear</th>\n",
       "      <th>WoodAndWoodProducts</th>\n",
       "      <th>PulpPaperAndPaperProducts</th>\n",
       "      <th>ChemicalAndPharmaceuticalProducts</th>\n",
       "      <th>NonMetallicProducts</th>\n",
       "      <th>PlasticAndRubberProducts</th>\n",
       "      <th>ElectricalAndElectronics</th>\n",
       "      <th>BasicMetalIronAndSteel</th>\n",
       "      <th>MotorVehiclesAndAssembly</th>\n",
       "      <th>OtherManufacturing</th>\n",
       "      <th>ElectricityGasSteamAndAirCon</th>\n",
       "      <th>WaterSupplySewageWaste</th>\n",
       "      <th>Construction</th>\n",
       "      <th>Services</th>\n",
       "      <th>Trade</th>\n",
       "      <th>AccommodationAndFoodServices</th>\n",
       "      <th>TransportationAndStorage</th>\n",
       "      <th>RoadTransport</th>\n",
       "      <th>RailTransportAndPipelines</th>\n",
       "      <th>WaterTransport</th>\n",
       "      <th>AirTransport</th>\n",
       "      <th>TransportServices</th>\n",
       "      <th>PostAndCourierServices</th>\n",
       "      <th>InformationAndCommunication</th>\n",
       "      <th>Publishing</th>\n",
       "      <th>MotionPicturesSoundRecordingAndMusicProduction</th>\n",
       "      <th>Broadcasting</th>\n",
       "      <th>ArtsEntertainmentAndRecreation</th>\n",
       "      <th>FinanceAndInsurance</th>\n",
       "      <th>FinancialInstitutions</th>\n",
       "      <th>Insurance</th>\n",
       "      <th>RealEstate</th>\n",
       "      <th>ProfessionalScientificAndTechnicalServices</th>\n",
       "      <th>AdministrativeAndSupportServicesBusinessServices</th>\n",
       "      <th>PublicAdministration</th>\n",
       "      <th>Education</th>\n",
       "      <th>HumanHealthAndSocialServices</th>\n",
       "      <th>OtherServices</th>\n",
       "      <th>GDP at 2010 Constant Basic Prices</th>\n",
       "      <th>NetTaxesOnProducts</th>\n",
       "      <th>GDP at 2010 Constant Market Prices</th>\n",
       "    </tr>\n",
       "  </thead>\n",
       "  <tbody>\n",
       "    <tr>\n",
       "      <th>1981</th>\n",
       "      <td>1981</td>\n",
       "      <td>Annual</td>\n",
       "      <td>2364.37</td>\n",
       "      <td>1854.76</td>\n",
       "      <td>341.41</td>\n",
       "      <td>77.90</td>\n",
       "      <td>90.30</td>\n",
       "      <td>11753.40</td>\n",
       "      <td>5044.55</td>\n",
       "      <td>4977.42</td>\n",
       "      <td>21.33</td>\n",
       "      <td>7.86</td>\n",
       "      <td>37.95</td>\n",
       "      <td>5838.89</td>\n",
       "      <td>36.58</td>\n",
       "      <td>190.94</td>\n",
       "      <td>3278.24</td>\n",
       "      <td>1746.10</td>\n",
       "      <td>53.32</td>\n",
       "      <td>22.67</td>\n",
       "      <td>43.62</td>\n",
       "      <td>57.14</td>\n",
       "      <td>26.43</td>\n",
       "      <td>52.71</td>\n",
       "      <td>33.00</td>\n",
       "      <td>186.75</td>\n",
       "      <td>111.40</td>\n",
       "      <td>6.16</td>\n",
       "      <td>12.23</td>\n",
       "      <td>851.56</td>\n",
       "      <td>5431.79</td>\n",
       "      <td>1770.38</td>\n",
       "      <td>53.78</td>\n",
       "      <td>264.51</td>\n",
       "      <td>222.11</td>\n",
       "      <td>9.46</td>\n",
       "      <td>5.74</td>\n",
       "      <td>18.66</td>\n",
       "      <td>4.48</td>\n",
       "      <td>4.06</td>\n",
       "      <td>271.15</td>\n",
       "      <td>8.59</td>\n",
       "      <td>71.09</td>\n",
       "      <td>174.97</td>\n",
       "      <td>4.59</td>\n",
       "      <td>282.17</td>\n",
       "      <td>196.91</td>\n",
       "      <td>85.26</td>\n",
       "      <td>1063.96</td>\n",
       "      <td>421.38</td>\n",
       "      <td>3.23</td>\n",
       "      <td>807.08</td>\n",
       "      <td>242.56</td>\n",
       "      <td>113.46</td>\n",
       "      <td>133.53</td>\n",
       "      <td>19549.56</td>\n",
       "      <td>198.97</td>\n",
       "      <td>19748.53</td>\n",
       "    </tr>\n",
       "    <tr>\n",
       "      <th>1982</th>\n",
       "      <td>1982</td>\n",
       "      <td>Annual</td>\n",
       "      <td>2425.96</td>\n",
       "      <td>1897.08</td>\n",
       "      <td>361.12</td>\n",
       "      <td>73.91</td>\n",
       "      <td>93.86</td>\n",
       "      <td>10189.10</td>\n",
       "      <td>4507.93</td>\n",
       "      <td>4453.09</td>\n",
       "      <td>10.29</td>\n",
       "      <td>5.87</td>\n",
       "      <td>38.68</td>\n",
       "      <td>4984.79</td>\n",
       "      <td>38.49</td>\n",
       "      <td>223.85</td>\n",
       "      <td>3042.93</td>\n",
       "      <td>674.27</td>\n",
       "      <td>50.31</td>\n",
       "      <td>24.17</td>\n",
       "      <td>43.69</td>\n",
       "      <td>57.25</td>\n",
       "      <td>26.18</td>\n",
       "      <td>61.86</td>\n",
       "      <td>38.22</td>\n",
       "      <td>590.77</td>\n",
       "      <td>112.81</td>\n",
       "      <td>6.82</td>\n",
       "      <td>10.35</td>\n",
       "      <td>679.20</td>\n",
       "      <td>5604.21</td>\n",
       "      <td>1846.95</td>\n",
       "      <td>50.80</td>\n",
       "      <td>211.89</td>\n",
       "      <td>168.11</td>\n",
       "      <td>10.16</td>\n",
       "      <td>4.66</td>\n",
       "      <td>21.24</td>\n",
       "      <td>4.52</td>\n",
       "      <td>3.20</td>\n",
       "      <td>290.07</td>\n",
       "      <td>9.70</td>\n",
       "      <td>71.66</td>\n",
       "      <td>192.54</td>\n",
       "      <td>4.63</td>\n",
       "      <td>372.27</td>\n",
       "      <td>242.67</td>\n",
       "      <td>129.60</td>\n",
       "      <td>1074.05</td>\n",
       "      <td>423.67</td>\n",
       "      <td>3.25</td>\n",
       "      <td>825.92</td>\n",
       "      <td>248.22</td>\n",
       "      <td>117.88</td>\n",
       "      <td>134.60</td>\n",
       "      <td>18219.27</td>\n",
       "      <td>185.70</td>\n",
       "      <td>18404.96</td>\n",
       "    </tr>\n",
       "    <tr>\n",
       "      <th>1983</th>\n",
       "      <td>1983</td>\n",
       "      <td>Annual</td>\n",
       "      <td>2409.08</td>\n",
       "      <td>1842.70</td>\n",
       "      <td>393.13</td>\n",
       "      <td>75.28</td>\n",
       "      <td>97.96</td>\n",
       "      <td>8255.76</td>\n",
       "      <td>4096.99</td>\n",
       "      <td>4052.98</td>\n",
       "      <td>9.73</td>\n",
       "      <td>4.82</td>\n",
       "      <td>29.47</td>\n",
       "      <td>3537.72</td>\n",
       "      <td>27.86</td>\n",
       "      <td>79.27</td>\n",
       "      <td>2096.32</td>\n",
       "      <td>722.40</td>\n",
       "      <td>54.75</td>\n",
       "      <td>21.93</td>\n",
       "      <td>28.83</td>\n",
       "      <td>57.36</td>\n",
       "      <td>26.70</td>\n",
       "      <td>57.50</td>\n",
       "      <td>30.40</td>\n",
       "      <td>223.67</td>\n",
       "      <td>110.72</td>\n",
       "      <td>6.56</td>\n",
       "      <td>15.70</td>\n",
       "      <td>598.78</td>\n",
       "      <td>5563.96</td>\n",
       "      <td>1801.78</td>\n",
       "      <td>42.70</td>\n",
       "      <td>178.32</td>\n",
       "      <td>132.24</td>\n",
       "      <td>9.21</td>\n",
       "      <td>7.21</td>\n",
       "      <td>22.53</td>\n",
       "      <td>4.25</td>\n",
       "      <td>2.89</td>\n",
       "      <td>284.82</td>\n",
       "      <td>6.85</td>\n",
       "      <td>67.41</td>\n",
       "      <td>200.12</td>\n",
       "      <td>4.35</td>\n",
       "      <td>336.90</td>\n",
       "      <td>251.21</td>\n",
       "      <td>85.68</td>\n",
       "      <td>1086.70</td>\n",
       "      <td>481.17</td>\n",
       "      <td>3.69</td>\n",
       "      <td>844.77</td>\n",
       "      <td>253.88</td>\n",
       "      <td>118.27</td>\n",
       "      <td>126.60</td>\n",
       "      <td>16228.81</td>\n",
       "      <td>165.58</td>\n",
       "      <td>16394.39</td>\n",
       "    </tr>\n",
       "    <tr>\n",
       "      <th>1984</th>\n",
       "      <td>1984</td>\n",
       "      <td>Annual</td>\n",
       "      <td>2303.51</td>\n",
       "      <td>1759.12</td>\n",
       "      <td>399.69</td>\n",
       "      <td>76.69</td>\n",
       "      <td>68.01</td>\n",
       "      <td>8392.25</td>\n",
       "      <td>4602.27</td>\n",
       "      <td>4559.20</td>\n",
       "      <td>14.03</td>\n",
       "      <td>3.68</td>\n",
       "      <td>25.36</td>\n",
       "      <td>3282.52</td>\n",
       "      <td>27.43</td>\n",
       "      <td>49.85</td>\n",
       "      <td>2139.26</td>\n",
       "      <td>624.22</td>\n",
       "      <td>59.58</td>\n",
       "      <td>19.90</td>\n",
       "      <td>20.56</td>\n",
       "      <td>56.98</td>\n",
       "      <td>27.24</td>\n",
       "      <td>50.07</td>\n",
       "      <td>24.18</td>\n",
       "      <td>74.57</td>\n",
       "      <td>108.66</td>\n",
       "      <td>6.93</td>\n",
       "      <td>12.38</td>\n",
       "      <td>488.14</td>\n",
       "      <td>5352.56</td>\n",
       "      <td>1662.30</td>\n",
       "      <td>35.97</td>\n",
       "      <td>170.28</td>\n",
       "      <td>127.54</td>\n",
       "      <td>9.42</td>\n",
       "      <td>4.81</td>\n",
       "      <td>22.04</td>\n",
       "      <td>3.48</td>\n",
       "      <td>2.99</td>\n",
       "      <td>259.17</td>\n",
       "      <td>6.08</td>\n",
       "      <td>55.23</td>\n",
       "      <td>182.55</td>\n",
       "      <td>3.57</td>\n",
       "      <td>267.29</td>\n",
       "      <td>200.95</td>\n",
       "      <td>66.34</td>\n",
       "      <td>1086.93</td>\n",
       "      <td>518.36</td>\n",
       "      <td>3.98</td>\n",
       "      <td>863.61</td>\n",
       "      <td>259.55</td>\n",
       "      <td>117.82</td>\n",
       "      <td>103.73</td>\n",
       "      <td>16048.31</td>\n",
       "      <td>163.18</td>\n",
       "      <td>16211.49</td>\n",
       "    </tr>\n",
       "    <tr>\n",
       "      <th>1985</th>\n",
       "      <td>1985</td>\n",
       "      <td>Annual</td>\n",
       "      <td>2731.06</td>\n",
       "      <td>2180.91</td>\n",
       "      <td>428.10</td>\n",
       "      <td>78.08</td>\n",
       "      <td>43.97</td>\n",
       "      <td>8768.30</td>\n",
       "      <td>4962.81</td>\n",
       "      <td>4918.27</td>\n",
       "      <td>26.19</td>\n",
       "      <td>2.67</td>\n",
       "      <td>15.68</td>\n",
       "      <td>3453.72</td>\n",
       "      <td>39.08</td>\n",
       "      <td>249.27</td>\n",
       "      <td>2114.21</td>\n",
       "      <td>532.80</td>\n",
       "      <td>53.64</td>\n",
       "      <td>22.32</td>\n",
       "      <td>16.43</td>\n",
       "      <td>56.60</td>\n",
       "      <td>26.41</td>\n",
       "      <td>55.08</td>\n",
       "      <td>31.41</td>\n",
       "      <td>145.32</td>\n",
       "      <td>111.14</td>\n",
       "      <td>7.83</td>\n",
       "      <td>7.67</td>\n",
       "      <td>336.27</td>\n",
       "      <td>5498.16</td>\n",
       "      <td>1727.98</td>\n",
       "      <td>33.19</td>\n",
       "      <td>203.57</td>\n",
       "      <td>163.51</td>\n",
       "      <td>6.91</td>\n",
       "      <td>4.09</td>\n",
       "      <td>22.68</td>\n",
       "      <td>3.33</td>\n",
       "      <td>3.04</td>\n",
       "      <td>209.03</td>\n",
       "      <td>7.29</td>\n",
       "      <td>52.93</td>\n",
       "      <td>130.37</td>\n",
       "      <td>3.42</td>\n",
       "      <td>254.99</td>\n",
       "      <td>197.37</td>\n",
       "      <td>57.63</td>\n",
       "      <td>1091.38</td>\n",
       "      <td>602.46</td>\n",
       "      <td>4.62</td>\n",
       "      <td>882.46</td>\n",
       "      <td>265.21</td>\n",
       "      <td>120.43</td>\n",
       "      <td>99.41</td>\n",
       "      <td>16997.52</td>\n",
       "      <td>172.56</td>\n",
       "      <td>17170.08</td>\n",
       "    </tr>\n",
       "    <tr>\n",
       "      <th>...</th>\n",
       "      <td>...</td>\n",
       "      <td>...</td>\n",
       "      <td>...</td>\n",
       "      <td>...</td>\n",
       "      <td>...</td>\n",
       "      <td>...</td>\n",
       "      <td>...</td>\n",
       "      <td>...</td>\n",
       "      <td>...</td>\n",
       "      <td>...</td>\n",
       "      <td>...</td>\n",
       "      <td>...</td>\n",
       "      <td>...</td>\n",
       "      <td>...</td>\n",
       "      <td>...</td>\n",
       "      <td>...</td>\n",
       "      <td>...</td>\n",
       "      <td>...</td>\n",
       "      <td>...</td>\n",
       "      <td>...</td>\n",
       "      <td>...</td>\n",
       "      <td>...</td>\n",
       "      <td>...</td>\n",
       "      <td>...</td>\n",
       "      <td>...</td>\n",
       "      <td>...</td>\n",
       "      <td>...</td>\n",
       "      <td>...</td>\n",
       "      <td>...</td>\n",
       "      <td>...</td>\n",
       "      <td>...</td>\n",
       "      <td>...</td>\n",
       "      <td>...</td>\n",
       "      <td>...</td>\n",
       "      <td>...</td>\n",
       "      <td>...</td>\n",
       "      <td>...</td>\n",
       "      <td>...</td>\n",
       "      <td>...</td>\n",
       "      <td>...</td>\n",
       "      <td>...</td>\n",
       "      <td>...</td>\n",
       "      <td>...</td>\n",
       "      <td>...</td>\n",
       "      <td>...</td>\n",
       "      <td>...</td>\n",
       "      <td>...</td>\n",
       "      <td>...</td>\n",
       "      <td>...</td>\n",
       "      <td>...</td>\n",
       "      <td>...</td>\n",
       "      <td>...</td>\n",
       "      <td>...</td>\n",
       "      <td>...</td>\n",
       "      <td>...</td>\n",
       "      <td>...</td>\n",
       "      <td>...</td>\n",
       "      <td>...</td>\n",
       "    </tr>\n",
       "    <tr>\n",
       "      <th>2022</th>\n",
       "      <td>2022</td>\n",
       "      <td>Q1</td>\n",
       "      <td>3879.73</td>\n",
       "      <td>3391.63</td>\n",
       "      <td>318.50</td>\n",
       "      <td>44.14</td>\n",
       "      <td>125.46</td>\n",
       "      <td>3724.28</td>\n",
       "      <td>1157.69</td>\n",
       "      <td>1150.85</td>\n",
       "      <td>1.61</td>\n",
       "      <td>4.87</td>\n",
       "      <td>0.36</td>\n",
       "      <td>1768.82</td>\n",
       "      <td>1.66</td>\n",
       "      <td>188.81</td>\n",
       "      <td>875.93</td>\n",
       "      <td>342.48</td>\n",
       "      <td>53.81</td>\n",
       "      <td>13.38</td>\n",
       "      <td>42.75</td>\n",
       "      <td>63.52</td>\n",
       "      <td>60.12</td>\n",
       "      <td>0.84</td>\n",
       "      <td>39.93</td>\n",
       "      <td>9.53</td>\n",
       "      <td>76.07</td>\n",
       "      <td>32.72</td>\n",
       "      <td>39.06</td>\n",
       "      <td>726.00</td>\n",
       "      <td>9745.37</td>\n",
       "      <td>2798.78</td>\n",
       "      <td>173.41</td>\n",
       "      <td>191.45</td>\n",
       "      <td>151.97</td>\n",
       "      <td>0.04</td>\n",
       "      <td>0.80</td>\n",
       "      <td>25.26</td>\n",
       "      <td>7.11</td>\n",
       "      <td>6.26</td>\n",
       "      <td>2811.32</td>\n",
       "      <td>5.45</td>\n",
       "      <td>229.67</td>\n",
       "      <td>330.47</td>\n",
       "      <td>51.85</td>\n",
       "      <td>781.98</td>\n",
       "      <td>696.87</td>\n",
       "      <td>85.11</td>\n",
       "      <td>927.32</td>\n",
       "      <td>560.47</td>\n",
       "      <td>3.39</td>\n",
       "      <td>283.59</td>\n",
       "      <td>333.06</td>\n",
       "      <td>126.01</td>\n",
       "      <td>702.74</td>\n",
       "      <td>17349.38</td>\n",
       "      <td>223.89</td>\n",
       "      <td>17573.27</td>\n",
       "    </tr>\n",
       "    <tr>\n",
       "      <th>2022</th>\n",
       "      <td>2022</td>\n",
       "      <td>Q2</td>\n",
       "      <td>4017.42</td>\n",
       "      <td>3595.83</td>\n",
       "      <td>282.02</td>\n",
       "      <td>51.28</td>\n",
       "      <td>88.30</td>\n",
       "      <td>3354.31</td>\n",
       "      <td>1125.17</td>\n",
       "      <td>1093.61</td>\n",
       "      <td>4.80</td>\n",
       "      <td>1.26</td>\n",
       "      <td>25.51</td>\n",
       "      <td>1495.12</td>\n",
       "      <td>2.82</td>\n",
       "      <td>143.74</td>\n",
       "      <td>760.08</td>\n",
       "      <td>283.34</td>\n",
       "      <td>44.41</td>\n",
       "      <td>9.70</td>\n",
       "      <td>47.37</td>\n",
       "      <td>49.24</td>\n",
       "      <td>53.01</td>\n",
       "      <td>0.92</td>\n",
       "      <td>37.31</td>\n",
       "      <td>7.63</td>\n",
       "      <td>55.55</td>\n",
       "      <td>118.79</td>\n",
       "      <td>61.12</td>\n",
       "      <td>554.11</td>\n",
       "      <td>9914.15</td>\n",
       "      <td>2905.99</td>\n",
       "      <td>68.17</td>\n",
       "      <td>318.16</td>\n",
       "      <td>293.85</td>\n",
       "      <td>0.02</td>\n",
       "      <td>1.04</td>\n",
       "      <td>9.69</td>\n",
       "      <td>11.14</td>\n",
       "      <td>2.42</td>\n",
       "      <td>3188.31</td>\n",
       "      <td>4.66</td>\n",
       "      <td>157.57</td>\n",
       "      <td>433.43</td>\n",
       "      <td>35.69</td>\n",
       "      <td>735.40</td>\n",
       "      <td>655.22</td>\n",
       "      <td>80.18</td>\n",
       "      <td>920.49</td>\n",
       "      <td>525.94</td>\n",
       "      <td>3.54</td>\n",
       "      <td>375.59</td>\n",
       "      <td>231.85</td>\n",
       "      <td>131.28</td>\n",
       "      <td>473.72</td>\n",
       "      <td>17285.88</td>\n",
       "      <td>192.34</td>\n",
       "      <td>17478.22</td>\n",
       "    </tr>\n",
       "    <tr>\n",
       "      <th>2022</th>\n",
       "      <td>2022</td>\n",
       "      <td>Q3</td>\n",
       "      <td>5625.36</td>\n",
       "      <td>5200.73</td>\n",
       "      <td>302.90</td>\n",
       "      <td>48.07</td>\n",
       "      <td>73.67</td>\n",
       "      <td>3482.78</td>\n",
       "      <td>1118.13</td>\n",
       "      <td>1073.90</td>\n",
       "      <td>0.31</td>\n",
       "      <td>2.41</td>\n",
       "      <td>41.52</td>\n",
       "      <td>1628.91</td>\n",
       "      <td>2.32</td>\n",
       "      <td>190.85</td>\n",
       "      <td>794.84</td>\n",
       "      <td>302.90</td>\n",
       "      <td>50.31</td>\n",
       "      <td>12.21</td>\n",
       "      <td>51.40</td>\n",
       "      <td>58.46</td>\n",
       "      <td>52.48</td>\n",
       "      <td>1.12</td>\n",
       "      <td>40.10</td>\n",
       "      <td>7.13</td>\n",
       "      <td>64.79</td>\n",
       "      <td>71.18</td>\n",
       "      <td>35.21</td>\n",
       "      <td>629.36</td>\n",
       "      <td>9851.81</td>\n",
       "      <td>2909.77</td>\n",
       "      <td>135.68</td>\n",
       "      <td>254.93</td>\n",
       "      <td>213.08</td>\n",
       "      <td>0.02</td>\n",
       "      <td>1.80</td>\n",
       "      <td>21.69</td>\n",
       "      <td>15.96</td>\n",
       "      <td>2.38</td>\n",
       "      <td>2910.89</td>\n",
       "      <td>4.88</td>\n",
       "      <td>208.15</td>\n",
       "      <td>261.26</td>\n",
       "      <td>36.88</td>\n",
       "      <td>660.84</td>\n",
       "      <td>594.68</td>\n",
       "      <td>66.16</td>\n",
       "      <td>1064.03</td>\n",
       "      <td>611.99</td>\n",
       "      <td>4.23</td>\n",
       "      <td>389.18</td>\n",
       "      <td>317.74</td>\n",
       "      <td>133.75</td>\n",
       "      <td>421.89</td>\n",
       "      <td>18959.95</td>\n",
       "      <td>334.06</td>\n",
       "      <td>19294.01</td>\n",
       "    </tr>\n",
       "    <tr>\n",
       "      <th>2022</th>\n",
       "      <td>2022</td>\n",
       "      <td>Q4</td>\n",
       "      <td>5568.55</td>\n",
       "      <td>5072.56</td>\n",
       "      <td>344.31</td>\n",
       "      <td>52.87</td>\n",
       "      <td>98.81</td>\n",
       "      <td>3634.21</td>\n",
       "      <td>990.44</td>\n",
       "      <td>913.55</td>\n",
       "      <td>1.48</td>\n",
       "      <td>1.13</td>\n",
       "      <td>74.28</td>\n",
       "      <td>1768.54</td>\n",
       "      <td>4.41</td>\n",
       "      <td>172.44</td>\n",
       "      <td>871.80</td>\n",
       "      <td>357.19</td>\n",
       "      <td>47.36</td>\n",
       "      <td>12.73</td>\n",
       "      <td>47.13</td>\n",
       "      <td>58.49</td>\n",
       "      <td>61.80</td>\n",
       "      <td>1.23</td>\n",
       "      <td>46.28</td>\n",
       "      <td>7.74</td>\n",
       "      <td>79.94</td>\n",
       "      <td>110.71</td>\n",
       "      <td>35.06</td>\n",
       "      <td>729.46</td>\n",
       "      <td>11841.49</td>\n",
       "      <td>3329.16</td>\n",
       "      <td>167.05</td>\n",
       "      <td>338.28</td>\n",
       "      <td>291.97</td>\n",
       "      <td>0.09</td>\n",
       "      <td>1.39</td>\n",
       "      <td>22.90</td>\n",
       "      <td>16.93</td>\n",
       "      <td>4.99</td>\n",
       "      <td>3412.53</td>\n",
       "      <td>5.19</td>\n",
       "      <td>201.14</td>\n",
       "      <td>354.83</td>\n",
       "      <td>43.24</td>\n",
       "      <td>831.13</td>\n",
       "      <td>771.59</td>\n",
       "      <td>59.53</td>\n",
       "      <td>1301.22</td>\n",
       "      <td>701.92</td>\n",
       "      <td>3.99</td>\n",
       "      <td>446.76</td>\n",
       "      <td>438.46</td>\n",
       "      <td>138.94</td>\n",
       "      <td>688.81</td>\n",
       "      <td>21044.25</td>\n",
       "      <td>379.19</td>\n",
       "      <td>21423.44</td>\n",
       "    </tr>\n",
       "    <tr>\n",
       "      <th>2022</th>\n",
       "      <td>2022</td>\n",
       "      <td>Annual</td>\n",
       "      <td>19091.07</td>\n",
       "      <td>17260.75</td>\n",
       "      <td>1247.72</td>\n",
       "      <td>196.36</td>\n",
       "      <td>386.24</td>\n",
       "      <td>14195.58</td>\n",
       "      <td>4391.42</td>\n",
       "      <td>4231.90</td>\n",
       "      <td>8.19</td>\n",
       "      <td>9.66</td>\n",
       "      <td>141.66</td>\n",
       "      <td>6661.39</td>\n",
       "      <td>11.21</td>\n",
       "      <td>695.84</td>\n",
       "      <td>3302.66</td>\n",
       "      <td>1285.91</td>\n",
       "      <td>195.89</td>\n",
       "      <td>48.03</td>\n",
       "      <td>188.65</td>\n",
       "      <td>229.71</td>\n",
       "      <td>227.41</td>\n",
       "      <td>4.11</td>\n",
       "      <td>163.61</td>\n",
       "      <td>32.03</td>\n",
       "      <td>276.34</td>\n",
       "      <td>333.39</td>\n",
       "      <td>170.45</td>\n",
       "      <td>2638.93</td>\n",
       "      <td>41352.81</td>\n",
       "      <td>11943.70</td>\n",
       "      <td>544.31</td>\n",
       "      <td>1102.81</td>\n",
       "      <td>950.87</td>\n",
       "      <td>0.17</td>\n",
       "      <td>5.04</td>\n",
       "      <td>79.54</td>\n",
       "      <td>51.15</td>\n",
       "      <td>16.04</td>\n",
       "      <td>12323.04</td>\n",
       "      <td>20.17</td>\n",
       "      <td>796.53</td>\n",
       "      <td>1379.99</td>\n",
       "      <td>167.66</td>\n",
       "      <td>3009.35</td>\n",
       "      <td>2718.36</td>\n",
       "      <td>290.98</td>\n",
       "      <td>4213.07</td>\n",
       "      <td>2400.32</td>\n",
       "      <td>15.15</td>\n",
       "      <td>1495.13</td>\n",
       "      <td>1321.11</td>\n",
       "      <td>529.99</td>\n",
       "      <td>2287.16</td>\n",
       "      <td>74639.47</td>\n",
       "      <td>1129.48</td>\n",
       "      <td>75768.95</td>\n",
       "    </tr>\n",
       "  </tbody>\n",
       "</table>\n",
       "<p>94 rows × 58 columns</p>\n",
       "</div>"
      ],
      "text/plain": [
       "      tyear  Period  Agriculture  CropProduction  Livestock  Forestry  \\\n",
       "1981   1981  Annual      2364.37         1854.76     341.41     77.90   \n",
       "1982   1982  Annual      2425.96         1897.08     361.12     73.91   \n",
       "1983   1983  Annual      2409.08         1842.70     393.13     75.28   \n",
       "1984   1984  Annual      2303.51         1759.12     399.69     76.69   \n",
       "1985   1985  Annual      2731.06         2180.91     428.10     78.08   \n",
       "...     ...     ...          ...             ...        ...       ...   \n",
       "2022   2022      Q1      3879.73         3391.63     318.50     44.14   \n",
       "2022   2022      Q2      4017.42         3595.83     282.02     51.28   \n",
       "2022   2022      Q3      5625.36         5200.73     302.90     48.07   \n",
       "2022   2022      Q4      5568.55         5072.56     344.31     52.87   \n",
       "2022   2022  Annual     19091.07        17260.75    1247.72    196.36   \n",
       "\n",
       "      Fishing  Industry  MiningAndQuarrying  CrudePetroleumAndNaturalGas  \\\n",
       "1981    90.30  11753.40             5044.55                      4977.42   \n",
       "1982    93.86  10189.10             4507.93                      4453.09   \n",
       "1983    97.96   8255.76             4096.99                      4052.98   \n",
       "1984    68.01   8392.25             4602.27                      4559.20   \n",
       "1985    43.97   8768.30             4962.81                      4918.27   \n",
       "...       ...       ...                 ...                          ...   \n",
       "2022   125.46   3724.28             1157.69                      1150.85   \n",
       "2022    88.30   3354.31             1125.17                      1093.61   \n",
       "2022    73.67   3482.78             1118.13                      1073.90   \n",
       "2022    98.81   3634.21              990.44                       913.55   \n",
       "2022   386.24  14195.58             4391.42                      4231.90   \n",
       "\n",
       "      CoalMining  MetalOres  QuarryingAndOtherMinerals  Manufacturing  \\\n",
       "1981       21.33       7.86                      37.95        5838.89   \n",
       "1982       10.29       5.87                      38.68        4984.79   \n",
       "1983        9.73       4.82                      29.47        3537.72   \n",
       "1984       14.03       3.68                      25.36        3282.52   \n",
       "1985       26.19       2.67                      15.68        3453.72   \n",
       "...          ...        ...                        ...            ...   \n",
       "2022        1.61       4.87                       0.36        1768.82   \n",
       "2022        4.80       1.26                      25.51        1495.12   \n",
       "2022        0.31       2.41                      41.52        1628.91   \n",
       "2022        1.48       1.13                      74.28        1768.54   \n",
       "2022        8.19       9.66                     141.66        6661.39   \n",
       "\n",
       "      OilRefining  Cement  FoodBeverageAndTobacco  TextileApparelAndFootwear  \\\n",
       "1981        36.58  190.94                 3278.24                    1746.10   \n",
       "1982        38.49  223.85                 3042.93                     674.27   \n",
       "1983        27.86   79.27                 2096.32                     722.40   \n",
       "1984        27.43   49.85                 2139.26                     624.22   \n",
       "1985        39.08  249.27                 2114.21                     532.80   \n",
       "...           ...     ...                     ...                        ...   \n",
       "2022         1.66  188.81                  875.93                     342.48   \n",
       "2022         2.82  143.74                  760.08                     283.34   \n",
       "2022         2.32  190.85                  794.84                     302.90   \n",
       "2022         4.41  172.44                  871.80                     357.19   \n",
       "2022        11.21  695.84                 3302.66                    1285.91   \n",
       "\n",
       "      WoodAndWoodProducts  PulpPaperAndPaperProducts  \\\n",
       "1981                53.32                      22.67   \n",
       "1982                50.31                      24.17   \n",
       "1983                54.75                      21.93   \n",
       "1984                59.58                      19.90   \n",
       "1985                53.64                      22.32   \n",
       "...                   ...                        ...   \n",
       "2022                53.81                      13.38   \n",
       "2022                44.41                       9.70   \n",
       "2022                50.31                      12.21   \n",
       "2022                47.36                      12.73   \n",
       "2022               195.89                      48.03   \n",
       "\n",
       "      ChemicalAndPharmaceuticalProducts  NonMetallicProducts  \\\n",
       "1981                              43.62                57.14   \n",
       "1982                              43.69                57.25   \n",
       "1983                              28.83                57.36   \n",
       "1984                              20.56                56.98   \n",
       "1985                              16.43                56.60   \n",
       "...                                 ...                  ...   \n",
       "2022                              42.75                63.52   \n",
       "2022                              47.37                49.24   \n",
       "2022                              51.40                58.46   \n",
       "2022                              47.13                58.49   \n",
       "2022                             188.65               229.71   \n",
       "\n",
       "      PlasticAndRubberProducts  ElectricalAndElectronics  \\\n",
       "1981                     26.43                     52.71   \n",
       "1982                     26.18                     61.86   \n",
       "1983                     26.70                     57.50   \n",
       "1984                     27.24                     50.07   \n",
       "1985                     26.41                     55.08   \n",
       "...                        ...                       ...   \n",
       "2022                     60.12                      0.84   \n",
       "2022                     53.01                      0.92   \n",
       "2022                     52.48                      1.12   \n",
       "2022                     61.80                      1.23   \n",
       "2022                    227.41                      4.11   \n",
       "\n",
       "      BasicMetalIronAndSteel  MotorVehiclesAndAssembly  OtherManufacturing  \\\n",
       "1981                   33.00                    186.75              111.40   \n",
       "1982                   38.22                    590.77              112.81   \n",
       "1983                   30.40                    223.67              110.72   \n",
       "1984                   24.18                     74.57              108.66   \n",
       "1985                   31.41                    145.32              111.14   \n",
       "...                      ...                       ...                 ...   \n",
       "2022                   39.93                      9.53               76.07   \n",
       "2022                   37.31                      7.63               55.55   \n",
       "2022                   40.10                      7.13               64.79   \n",
       "2022                   46.28                      7.74               79.94   \n",
       "2022                  163.61                     32.03              276.34   \n",
       "\n",
       "      ElectricityGasSteamAndAirCon  WaterSupplySewageWaste  Construction  \\\n",
       "1981                          6.16                   12.23        851.56   \n",
       "1982                          6.82                   10.35        679.20   \n",
       "1983                          6.56                   15.70        598.78   \n",
       "1984                          6.93                   12.38        488.14   \n",
       "1985                          7.83                    7.67        336.27   \n",
       "...                            ...                     ...           ...   \n",
       "2022                         32.72                   39.06        726.00   \n",
       "2022                        118.79                   61.12        554.11   \n",
       "2022                         71.18                   35.21        629.36   \n",
       "2022                        110.71                   35.06        729.46   \n",
       "2022                        333.39                  170.45       2638.93   \n",
       "\n",
       "      Services     Trade  AccommodationAndFoodServices  \\\n",
       "1981   5431.79   1770.38                         53.78   \n",
       "1982   5604.21   1846.95                         50.80   \n",
       "1983   5563.96   1801.78                         42.70   \n",
       "1984   5352.56   1662.30                         35.97   \n",
       "1985   5498.16   1727.98                         33.19   \n",
       "...        ...       ...                           ...   \n",
       "2022   9745.37   2798.78                        173.41   \n",
       "2022   9914.15   2905.99                         68.17   \n",
       "2022   9851.81   2909.77                        135.68   \n",
       "2022  11841.49   3329.16                        167.05   \n",
       "2022  41352.81  11943.70                        544.31   \n",
       "\n",
       "      TransportationAndStorage  RoadTransport  RailTransportAndPipelines  \\\n",
       "1981                    264.51         222.11                       9.46   \n",
       "1982                    211.89         168.11                      10.16   \n",
       "1983                    178.32         132.24                       9.21   \n",
       "1984                    170.28         127.54                       9.42   \n",
       "1985                    203.57         163.51                       6.91   \n",
       "...                        ...            ...                        ...   \n",
       "2022                    191.45         151.97                       0.04   \n",
       "2022                    318.16         293.85                       0.02   \n",
       "2022                    254.93         213.08                       0.02   \n",
       "2022                    338.28         291.97                       0.09   \n",
       "2022                   1102.81         950.87                       0.17   \n",
       "\n",
       "      WaterTransport  AirTransport  TransportServices  PostAndCourierServices  \\\n",
       "1981            5.74         18.66               4.48                    4.06   \n",
       "1982            4.66         21.24               4.52                    3.20   \n",
       "1983            7.21         22.53               4.25                    2.89   \n",
       "1984            4.81         22.04               3.48                    2.99   \n",
       "1985            4.09         22.68               3.33                    3.04   \n",
       "...              ...           ...                ...                     ...   \n",
       "2022            0.80         25.26               7.11                    6.26   \n",
       "2022            1.04          9.69              11.14                    2.42   \n",
       "2022            1.80         21.69              15.96                    2.38   \n",
       "2022            1.39         22.90              16.93                    4.99   \n",
       "2022            5.04         79.54              51.15                   16.04   \n",
       "\n",
       "      InformationAndCommunication  Publishing  \\\n",
       "1981                       271.15        8.59   \n",
       "1982                       290.07        9.70   \n",
       "1983                       284.82        6.85   \n",
       "1984                       259.17        6.08   \n",
       "1985                       209.03        7.29   \n",
       "...                           ...         ...   \n",
       "2022                      2811.32        5.45   \n",
       "2022                      3188.31        4.66   \n",
       "2022                      2910.89        4.88   \n",
       "2022                      3412.53        5.19   \n",
       "2022                     12323.04       20.17   \n",
       "\n",
       "      MotionPicturesSoundRecordingAndMusicProduction  Broadcasting  \\\n",
       "1981                                           71.09        174.97   \n",
       "1982                                           71.66        192.54   \n",
       "1983                                           67.41        200.12   \n",
       "1984                                           55.23        182.55   \n",
       "1985                                           52.93        130.37   \n",
       "...                                              ...           ...   \n",
       "2022                                          229.67        330.47   \n",
       "2022                                          157.57        433.43   \n",
       "2022                                          208.15        261.26   \n",
       "2022                                          201.14        354.83   \n",
       "2022                                          796.53       1379.99   \n",
       "\n",
       "      ArtsEntertainmentAndRecreation  FinanceAndInsurance  \\\n",
       "1981                            4.59               282.17   \n",
       "1982                            4.63               372.27   \n",
       "1983                            4.35               336.90   \n",
       "1984                            3.57               267.29   \n",
       "1985                            3.42               254.99   \n",
       "...                              ...                  ...   \n",
       "2022                           51.85               781.98   \n",
       "2022                           35.69               735.40   \n",
       "2022                           36.88               660.84   \n",
       "2022                           43.24               831.13   \n",
       "2022                          167.66              3009.35   \n",
       "\n",
       "      FinancialInstitutions  Insurance  RealEstate  \\\n",
       "1981                 196.91      85.26     1063.96   \n",
       "1982                 242.67     129.60     1074.05   \n",
       "1983                 251.21      85.68     1086.70   \n",
       "1984                 200.95      66.34     1086.93   \n",
       "1985                 197.37      57.63     1091.38   \n",
       "...                     ...        ...         ...   \n",
       "2022                 696.87      85.11      927.32   \n",
       "2022                 655.22      80.18      920.49   \n",
       "2022                 594.68      66.16     1064.03   \n",
       "2022                 771.59      59.53     1301.22   \n",
       "2022                2718.36     290.98     4213.07   \n",
       "\n",
       "      ProfessionalScientificAndTechnicalServices  \\\n",
       "1981                                      421.38   \n",
       "1982                                      423.67   \n",
       "1983                                      481.17   \n",
       "1984                                      518.36   \n",
       "1985                                      602.46   \n",
       "...                                          ...   \n",
       "2022                                      560.47   \n",
       "2022                                      525.94   \n",
       "2022                                      611.99   \n",
       "2022                                      701.92   \n",
       "2022                                     2400.32   \n",
       "\n",
       "      AdministrativeAndSupportServicesBusinessServices  PublicAdministration  \\\n",
       "1981                                              3.23                807.08   \n",
       "1982                                              3.25                825.92   \n",
       "1983                                              3.69                844.77   \n",
       "1984                                              3.98                863.61   \n",
       "1985                                              4.62                882.46   \n",
       "...                                                ...                   ...   \n",
       "2022                                              3.39                283.59   \n",
       "2022                                              3.54                375.59   \n",
       "2022                                              4.23                389.18   \n",
       "2022                                              3.99                446.76   \n",
       "2022                                             15.15               1495.13   \n",
       "\n",
       "      Education  HumanHealthAndSocialServices  OtherServices  \\\n",
       "1981     242.56                        113.46         133.53   \n",
       "1982     248.22                        117.88         134.60   \n",
       "1983     253.88                        118.27         126.60   \n",
       "1984     259.55                        117.82         103.73   \n",
       "1985     265.21                        120.43          99.41   \n",
       "...         ...                           ...            ...   \n",
       "2022     333.06                        126.01         702.74   \n",
       "2022     231.85                        131.28         473.72   \n",
       "2022     317.74                        133.75         421.89   \n",
       "2022     438.46                        138.94         688.81   \n",
       "2022    1321.11                        529.99        2287.16   \n",
       "\n",
       "      GDP at 2010 Constant Basic Prices  NetTaxesOnProducts  \\\n",
       "1981                           19549.56              198.97   \n",
       "1982                           18219.27              185.70   \n",
       "1983                           16228.81              165.58   \n",
       "1984                           16048.31              163.18   \n",
       "1985                           16997.52              172.56   \n",
       "...                                 ...                 ...   \n",
       "2022                           17349.38              223.89   \n",
       "2022                           17285.88              192.34   \n",
       "2022                           18959.95              334.06   \n",
       "2022                           21044.25              379.19   \n",
       "2022                           74639.47             1129.48   \n",
       "\n",
       "      GDP at 2010 Constant Market Prices  \n",
       "1981                            19748.53  \n",
       "1982                            18404.96  \n",
       "1983                            16394.39  \n",
       "1984                            16211.49  \n",
       "1985                            17170.08  \n",
       "...                                  ...  \n",
       "2022                            17573.27  \n",
       "2022                            17478.22  \n",
       "2022                            19294.01  \n",
       "2022                            21423.44  \n",
       "2022                            75768.95  \n",
       "\n",
       "[94 rows x 58 columns]"
      ]
     },
     "execution_count": 6,
     "metadata": {},
     "output_type": "execute_result"
    }
   ],
   "source": [
    "# Convert index to a new column\n",
    "NGN_GDP['index_column'] = NGN_GDP.index\n",
    "\n",
    "# Fill NaN values in 'tyear' column with values from 'index_column'\n",
    "NGN_GDP['tyear'] = NGN_GDP['tyear'].fillna(NGN_GDP[\"index_column\"])\n",
    "NGN_GDP=NGN_GDP.drop(columns=['index_column'])\n",
    "NGN_GDP"
   ]
  },
  {
   "cell_type": "code",
   "execution_count": 19,
   "id": "0175ab31",
   "metadata": {},
   "outputs": [],
   "source": [
    "# Agric_df\n",
    "agric_df = NGN_GDP[['Period','CropProduction','Livestock','Forestry','Fishing','Agriculture',\n",
    "                    'GDP at 2010 Constant Market Prices','NetTaxesOnProducts']]\n",
    "agric_df['AgricSectorTotal'] = agric_df[['CropProduction', 'Livestock', 'Forestry', 'Fishing']].sum(axis=1)\n",
    "\n",
    "\n",
    "\n",
    "#industry_df\n",
    "industry_df = NGN_GDP[['Period','CrudePetroleumAndNaturalGas','CoalMining','MetalOres','QuarryingAndOtherMinerals',\n",
    "                            'OilRefining','Cement','FoodBeverageAndTobacco','TextileApparelAndFootwear',\n",
    "                            'WoodAndWoodProducts','PulpPaperAndPaperProducts','ChemicalAndPharmaceuticalProducts',\n",
    "                            'NonMetallicProducts','PlasticAndRubberProducts','ElectricalAndElectronics',\n",
    "                            'BasicMetalIronAndSteel','MotorVehiclesAndAssembly','OtherManufacturing',\n",
    "                            'ElectricityGasSteamAndAirCon','WaterSupplySewageWaste','Construction',\n",
    "                      'GDP at 2010 Constant Market Prices','NetTaxesOnProducts']]\n",
    "\n",
    "#Service_df\n",
    "Services_df = NGN_GDP[['Period','Trade','AccommodationAndFoodServices','TransportationAndStorage','RoadTransport',\n",
    "                    'RailTransportAndPipelines','WaterTransport','AirTransport','TransportServices','PostAndCourierServices',\n",
    "                    'InformationAndCommunication','Publishing','MotionPicturesSoundRecordingAndMusicProduction','Broadcasting',\n",
    "                    'ArtsEntertainmentAndRecreation','FinanceAndInsurance','FinancialInstitutions','Insurance','RealEstate',                                           \n",
    "                    'ProfessionalScientificAndTechnicalServices','AdministrativeAndSupportServicesBusinessServices',\n",
    "                    'PublicAdministration','Education','HumanHealthAndSocialServices','OtherServices',\n",
    "                      ]]"
   ]
  },
  {
   "cell_type": "code",
   "execution_count": 23,
   "id": "5e61190b",
   "metadata": {},
   "outputs": [],
   "source": [
    "# Growth Rate Calculation:\n",
    "agric_df['CropProductionGrowth %'] = agric_df['CropProduction'].pct_change() * 100\n",
    "agric_df['LivestockGrowth %'] = agric_df['Livestock'].pct_change() * 100\n",
    "agric_df['ForestryGrowth %'] = agric_df['Forestry'].pct_change() * 100\n",
    "agric_df['FishingGrowth %'] = agric_df['Fishing'].pct_change() * 100\n",
    "\n",
    "# Round the growth rates to two decimal places\n",
    "agric_df = agric_df.round({'CropProductionGrowth %': 2, 'LivestockGrowth %': 2, 'ForestryGrowth %': 2, 'FishingGrowth %': 2})"
   ]
  },
  {
   "cell_type": "code",
   "execution_count": 24,
   "id": "bdef6cde",
   "metadata": {},
   "outputs": [
    {
     "data": {
      "text/html": [
       "<div>\n",
       "<style scoped>\n",
       "    .dataframe tbody tr th:only-of-type {\n",
       "        vertical-align: middle;\n",
       "    }\n",
       "\n",
       "    .dataframe tbody tr th {\n",
       "        vertical-align: top;\n",
       "    }\n",
       "\n",
       "    .dataframe thead th {\n",
       "        text-align: right;\n",
       "    }\n",
       "</style>\n",
       "<table border=\"1\" class=\"dataframe\">\n",
       "  <thead>\n",
       "    <tr style=\"text-align: right;\">\n",
       "      <th></th>\n",
       "      <th>Period</th>\n",
       "      <th>CropProduction</th>\n",
       "      <th>Livestock</th>\n",
       "      <th>Forestry</th>\n",
       "      <th>Fishing</th>\n",
       "      <th>Agriculture</th>\n",
       "      <th>GDP at 2010 Constant Market Prices</th>\n",
       "      <th>NetTaxesOnProducts</th>\n",
       "      <th>CropProductionGrowth %</th>\n",
       "      <th>LivestockGrowth %</th>\n",
       "      <th>ForestryGrowth %</th>\n",
       "      <th>FishingGrowth %</th>\n",
       "    </tr>\n",
       "  </thead>\n",
       "  <tbody>\n",
       "    <tr>\n",
       "      <th>1981</th>\n",
       "      <td>Annual</td>\n",
       "      <td>1854.76</td>\n",
       "      <td>341.41</td>\n",
       "      <td>77.90</td>\n",
       "      <td>90.30</td>\n",
       "      <td>2364.37</td>\n",
       "      <td>19748.53</td>\n",
       "      <td>198.97</td>\n",
       "      <td>NaN</td>\n",
       "      <td>NaN</td>\n",
       "      <td>NaN</td>\n",
       "      <td>NaN</td>\n",
       "    </tr>\n",
       "    <tr>\n",
       "      <th>1982</th>\n",
       "      <td>Annual</td>\n",
       "      <td>1897.08</td>\n",
       "      <td>361.12</td>\n",
       "      <td>73.91</td>\n",
       "      <td>93.86</td>\n",
       "      <td>2425.96</td>\n",
       "      <td>18404.96</td>\n",
       "      <td>185.70</td>\n",
       "      <td>2.28</td>\n",
       "      <td>5.77</td>\n",
       "      <td>-5.12</td>\n",
       "      <td>3.94</td>\n",
       "    </tr>\n",
       "    <tr>\n",
       "      <th>1983</th>\n",
       "      <td>Annual</td>\n",
       "      <td>1842.70</td>\n",
       "      <td>393.13</td>\n",
       "      <td>75.28</td>\n",
       "      <td>97.96</td>\n",
       "      <td>2409.08</td>\n",
       "      <td>16394.39</td>\n",
       "      <td>165.58</td>\n",
       "      <td>-2.87</td>\n",
       "      <td>8.86</td>\n",
       "      <td>1.85</td>\n",
       "      <td>4.37</td>\n",
       "    </tr>\n",
       "    <tr>\n",
       "      <th>1984</th>\n",
       "      <td>Annual</td>\n",
       "      <td>1759.12</td>\n",
       "      <td>399.69</td>\n",
       "      <td>76.69</td>\n",
       "      <td>68.01</td>\n",
       "      <td>2303.51</td>\n",
       "      <td>16211.49</td>\n",
       "      <td>163.18</td>\n",
       "      <td>-4.54</td>\n",
       "      <td>1.67</td>\n",
       "      <td>1.87</td>\n",
       "      <td>-30.57</td>\n",
       "    </tr>\n",
       "    <tr>\n",
       "      <th>1985</th>\n",
       "      <td>Annual</td>\n",
       "      <td>2180.91</td>\n",
       "      <td>428.10</td>\n",
       "      <td>78.08</td>\n",
       "      <td>43.97</td>\n",
       "      <td>2731.06</td>\n",
       "      <td>17170.08</td>\n",
       "      <td>172.56</td>\n",
       "      <td>23.98</td>\n",
       "      <td>7.11</td>\n",
       "      <td>1.81</td>\n",
       "      <td>-35.35</td>\n",
       "    </tr>\n",
       "  </tbody>\n",
       "</table>\n",
       "</div>"
      ],
      "text/plain": [
       "      Period  CropProduction  Livestock  Forestry  Fishing  Agriculture  \\\n",
       "1981  Annual         1854.76     341.41     77.90    90.30      2364.37   \n",
       "1982  Annual         1897.08     361.12     73.91    93.86      2425.96   \n",
       "1983  Annual         1842.70     393.13     75.28    97.96      2409.08   \n",
       "1984  Annual         1759.12     399.69     76.69    68.01      2303.51   \n",
       "1985  Annual         2180.91     428.10     78.08    43.97      2731.06   \n",
       "\n",
       "      GDP at 2010 Constant Market Prices  NetTaxesOnProducts  \\\n",
       "1981                            19748.53              198.97   \n",
       "1982                            18404.96              185.70   \n",
       "1983                            16394.39              165.58   \n",
       "1984                            16211.49              163.18   \n",
       "1985                            17170.08              172.56   \n",
       "\n",
       "      CropProductionGrowth %  LivestockGrowth %  ForestryGrowth %  \\\n",
       "1981                     NaN                NaN               NaN   \n",
       "1982                    2.28               5.77             -5.12   \n",
       "1983                   -2.87               8.86              1.85   \n",
       "1984                   -4.54               1.67              1.87   \n",
       "1985                   23.98               7.11              1.81   \n",
       "\n",
       "      FishingGrowth %  \n",
       "1981              NaN  \n",
       "1982             3.94  \n",
       "1983             4.37  \n",
       "1984           -30.57  \n",
       "1985           -35.35  "
      ]
     },
     "execution_count": 24,
     "metadata": {},
     "output_type": "execute_result"
    }
   ],
   "source": [
    "agric_df.head()"
   ]
  },
  {
   "cell_type": "code",
   "execution_count": 26,
   "id": "9327179d",
   "metadata": {},
   "outputs": [],
   "source": [
    "agriculture_columns = ['Agriculture', 'CropProduction', 'Livestock', 'Forestry', 'Fishing']\n",
    "total_gdp = agric_df['GDP at 2010 Constant Market Prices']\n",
    "gdp_agriculture = agric_df[agriculture_columns].sum(axis=1)\n",
    "tax_all_sectors = agric_df['NetTaxesOnProducts']\n",
    "\n",
    "# Calculate the tax for the Agriculture sector\n",
    "tax_agriculture = tax_all_sectors * (gdp_agriculture / total_gdp)\n",
    "\n",
    "# Save the calculated results as new columns in the DataFrame\n",
    "agric_df['GDP_Agriculture'] = gdp_agriculture\n",
    "agric_df['Tax_Agriculture'] = tax_agriculture"
   ]
  },
  {
   "cell_type": "code",
   "execution_count": 28,
   "id": "b2dfb52e",
   "metadata": {},
   "outputs": [],
   "source": [
    "agric_df['AgricGrowth (%)'] = agric_df[['CropProductionGrowth %', 'LivestockGrowth %', 'ForestryGrowth %', 'FishingGrowth %']].sum(axis=1)"
   ]
  },
  {
   "cell_type": "code",
   "execution_count": 29,
   "id": "eb2a6289",
   "metadata": {},
   "outputs": [
    {
     "data": {
      "text/html": [
       "<div>\n",
       "<style scoped>\n",
       "    .dataframe tbody tr th:only-of-type {\n",
       "        vertical-align: middle;\n",
       "    }\n",
       "\n",
       "    .dataframe tbody tr th {\n",
       "        vertical-align: top;\n",
       "    }\n",
       "\n",
       "    .dataframe thead th {\n",
       "        text-align: right;\n",
       "    }\n",
       "</style>\n",
       "<table border=\"1\" class=\"dataframe\">\n",
       "  <thead>\n",
       "    <tr style=\"text-align: right;\">\n",
       "      <th></th>\n",
       "      <th>Period</th>\n",
       "      <th>CropProduction</th>\n",
       "      <th>Livestock</th>\n",
       "      <th>Forestry</th>\n",
       "      <th>Fishing</th>\n",
       "      <th>Agriculture</th>\n",
       "      <th>GDP at 2010 Constant Market Prices</th>\n",
       "      <th>NetTaxesOnProducts</th>\n",
       "      <th>CropProductionGrowth %</th>\n",
       "      <th>LivestockGrowth %</th>\n",
       "      <th>ForestryGrowth %</th>\n",
       "      <th>FishingGrowth %</th>\n",
       "      <th>GDP_Agriculture</th>\n",
       "      <th>Tax_Agriculture</th>\n",
       "      <th>AgricGrowth (%)</th>\n",
       "    </tr>\n",
       "  </thead>\n",
       "  <tbody>\n",
       "    <tr>\n",
       "      <th>1981</th>\n",
       "      <td>Annual</td>\n",
       "      <td>1854.76</td>\n",
       "      <td>341.41</td>\n",
       "      <td>77.90</td>\n",
       "      <td>90.30</td>\n",
       "      <td>2364.37</td>\n",
       "      <td>19748.53</td>\n",
       "      <td>198.97</td>\n",
       "      <td>NaN</td>\n",
       "      <td>NaN</td>\n",
       "      <td>NaN</td>\n",
       "      <td>NaN</td>\n",
       "      <td>4728.74</td>\n",
       "      <td>47.642908</td>\n",
       "      <td>0.00</td>\n",
       "    </tr>\n",
       "    <tr>\n",
       "      <th>1982</th>\n",
       "      <td>Annual</td>\n",
       "      <td>1897.08</td>\n",
       "      <td>361.12</td>\n",
       "      <td>73.91</td>\n",
       "      <td>93.86</td>\n",
       "      <td>2425.96</td>\n",
       "      <td>18404.96</td>\n",
       "      <td>185.70</td>\n",
       "      <td>2.28</td>\n",
       "      <td>5.77</td>\n",
       "      <td>-5.12</td>\n",
       "      <td>3.94</td>\n",
       "      <td>4851.93</td>\n",
       "      <td>48.954380</td>\n",
       "      <td>6.87</td>\n",
       "    </tr>\n",
       "    <tr>\n",
       "      <th>1983</th>\n",
       "      <td>Annual</td>\n",
       "      <td>1842.70</td>\n",
       "      <td>393.13</td>\n",
       "      <td>75.28</td>\n",
       "      <td>97.96</td>\n",
       "      <td>2409.08</td>\n",
       "      <td>16394.39</td>\n",
       "      <td>165.58</td>\n",
       "      <td>-2.87</td>\n",
       "      <td>8.86</td>\n",
       "      <td>1.85</td>\n",
       "      <td>4.37</td>\n",
       "      <td>4818.15</td>\n",
       "      <td>48.662334</td>\n",
       "      <td>12.21</td>\n",
       "    </tr>\n",
       "    <tr>\n",
       "      <th>1984</th>\n",
       "      <td>Annual</td>\n",
       "      <td>1759.12</td>\n",
       "      <td>399.69</td>\n",
       "      <td>76.69</td>\n",
       "      <td>68.01</td>\n",
       "      <td>2303.51</td>\n",
       "      <td>16211.49</td>\n",
       "      <td>163.18</td>\n",
       "      <td>-4.54</td>\n",
       "      <td>1.67</td>\n",
       "      <td>1.87</td>\n",
       "      <td>-30.57</td>\n",
       "      <td>4607.02</td>\n",
       "      <td>46.372883</td>\n",
       "      <td>-31.57</td>\n",
       "    </tr>\n",
       "    <tr>\n",
       "      <th>1985</th>\n",
       "      <td>Annual</td>\n",
       "      <td>2180.91</td>\n",
       "      <td>428.10</td>\n",
       "      <td>78.08</td>\n",
       "      <td>43.97</td>\n",
       "      <td>2731.06</td>\n",
       "      <td>17170.08</td>\n",
       "      <td>172.56</td>\n",
       "      <td>23.98</td>\n",
       "      <td>7.11</td>\n",
       "      <td>1.81</td>\n",
       "      <td>-35.35</td>\n",
       "      <td>5462.12</td>\n",
       "      <td>54.894527</td>\n",
       "      <td>-2.45</td>\n",
       "    </tr>\n",
       "    <tr>\n",
       "      <th>...</th>\n",
       "      <td>...</td>\n",
       "      <td>...</td>\n",
       "      <td>...</td>\n",
       "      <td>...</td>\n",
       "      <td>...</td>\n",
       "      <td>...</td>\n",
       "      <td>...</td>\n",
       "      <td>...</td>\n",
       "      <td>...</td>\n",
       "      <td>...</td>\n",
       "      <td>...</td>\n",
       "      <td>...</td>\n",
       "      <td>...</td>\n",
       "      <td>...</td>\n",
       "      <td>...</td>\n",
       "    </tr>\n",
       "    <tr>\n",
       "      <th>2022</th>\n",
       "      <td>Q1</td>\n",
       "      <td>3391.63</td>\n",
       "      <td>318.50</td>\n",
       "      <td>44.14</td>\n",
       "      <td>125.46</td>\n",
       "      <td>3879.73</td>\n",
       "      <td>17573.27</td>\n",
       "      <td>223.89</td>\n",
       "      <td>-79.96</td>\n",
       "      <td>-74.32</td>\n",
       "      <td>-77.16</td>\n",
       "      <td>-67.37</td>\n",
       "      <td>7759.46</td>\n",
       "      <td>98.858408</td>\n",
       "      <td>-298.81</td>\n",
       "    </tr>\n",
       "    <tr>\n",
       "      <th>2022</th>\n",
       "      <td>Q2</td>\n",
       "      <td>3595.83</td>\n",
       "      <td>282.02</td>\n",
       "      <td>51.28</td>\n",
       "      <td>88.30</td>\n",
       "      <td>4017.42</td>\n",
       "      <td>17478.22</td>\n",
       "      <td>192.34</td>\n",
       "      <td>6.02</td>\n",
       "      <td>-11.45</td>\n",
       "      <td>16.18</td>\n",
       "      <td>-29.62</td>\n",
       "      <td>8034.85</td>\n",
       "      <td>88.419933</td>\n",
       "      <td>-18.87</td>\n",
       "    </tr>\n",
       "    <tr>\n",
       "      <th>2022</th>\n",
       "      <td>Q3</td>\n",
       "      <td>5200.73</td>\n",
       "      <td>302.90</td>\n",
       "      <td>48.07</td>\n",
       "      <td>73.67</td>\n",
       "      <td>5625.36</td>\n",
       "      <td>19294.01</td>\n",
       "      <td>334.06</td>\n",
       "      <td>44.63</td>\n",
       "      <td>7.40</td>\n",
       "      <td>-6.26</td>\n",
       "      <td>-16.57</td>\n",
       "      <td>11250.73</td>\n",
       "      <td>194.797186</td>\n",
       "      <td>29.20</td>\n",
       "    </tr>\n",
       "    <tr>\n",
       "      <th>2022</th>\n",
       "      <td>Q4</td>\n",
       "      <td>5072.56</td>\n",
       "      <td>344.31</td>\n",
       "      <td>52.87</td>\n",
       "      <td>98.81</td>\n",
       "      <td>5568.55</td>\n",
       "      <td>21423.44</td>\n",
       "      <td>379.19</td>\n",
       "      <td>-2.46</td>\n",
       "      <td>13.67</td>\n",
       "      <td>9.99</td>\n",
       "      <td>34.13</td>\n",
       "      <td>11137.10</td>\n",
       "      <td>197.124129</td>\n",
       "      <td>55.33</td>\n",
       "    </tr>\n",
       "    <tr>\n",
       "      <th>2022</th>\n",
       "      <td>Annual</td>\n",
       "      <td>17260.75</td>\n",
       "      <td>1247.72</td>\n",
       "      <td>196.36</td>\n",
       "      <td>386.24</td>\n",
       "      <td>19091.07</td>\n",
       "      <td>75768.95</td>\n",
       "      <td>1129.48</td>\n",
       "      <td>240.28</td>\n",
       "      <td>262.38</td>\n",
       "      <td>271.40</td>\n",
       "      <td>290.89</td>\n",
       "      <td>38182.14</td>\n",
       "      <td>569.177262</td>\n",
       "      <td>1064.95</td>\n",
       "    </tr>\n",
       "  </tbody>\n",
       "</table>\n",
       "<p>94 rows × 15 columns</p>\n",
       "</div>"
      ],
      "text/plain": [
       "      Period  CropProduction  Livestock  Forestry  Fishing  Agriculture  \\\n",
       "1981  Annual         1854.76     341.41     77.90    90.30      2364.37   \n",
       "1982  Annual         1897.08     361.12     73.91    93.86      2425.96   \n",
       "1983  Annual         1842.70     393.13     75.28    97.96      2409.08   \n",
       "1984  Annual         1759.12     399.69     76.69    68.01      2303.51   \n",
       "1985  Annual         2180.91     428.10     78.08    43.97      2731.06   \n",
       "...      ...             ...        ...       ...      ...          ...   \n",
       "2022      Q1         3391.63     318.50     44.14   125.46      3879.73   \n",
       "2022      Q2         3595.83     282.02     51.28    88.30      4017.42   \n",
       "2022      Q3         5200.73     302.90     48.07    73.67      5625.36   \n",
       "2022      Q4         5072.56     344.31     52.87    98.81      5568.55   \n",
       "2022  Annual        17260.75    1247.72    196.36   386.24     19091.07   \n",
       "\n",
       "      GDP at 2010 Constant Market Prices  NetTaxesOnProducts  \\\n",
       "1981                            19748.53              198.97   \n",
       "1982                            18404.96              185.70   \n",
       "1983                            16394.39              165.58   \n",
       "1984                            16211.49              163.18   \n",
       "1985                            17170.08              172.56   \n",
       "...                                  ...                 ...   \n",
       "2022                            17573.27              223.89   \n",
       "2022                            17478.22              192.34   \n",
       "2022                            19294.01              334.06   \n",
       "2022                            21423.44              379.19   \n",
       "2022                            75768.95             1129.48   \n",
       "\n",
       "      CropProductionGrowth %  LivestockGrowth %  ForestryGrowth %  \\\n",
       "1981                     NaN                NaN               NaN   \n",
       "1982                    2.28               5.77             -5.12   \n",
       "1983                   -2.87               8.86              1.85   \n",
       "1984                   -4.54               1.67              1.87   \n",
       "1985                   23.98               7.11              1.81   \n",
       "...                      ...                ...               ...   \n",
       "2022                  -79.96             -74.32            -77.16   \n",
       "2022                    6.02             -11.45             16.18   \n",
       "2022                   44.63               7.40             -6.26   \n",
       "2022                   -2.46              13.67              9.99   \n",
       "2022                  240.28             262.38            271.40   \n",
       "\n",
       "      FishingGrowth %  GDP_Agriculture  Tax_Agriculture  AgricGrowth (%)  \n",
       "1981              NaN          4728.74        47.642908             0.00  \n",
       "1982             3.94          4851.93        48.954380             6.87  \n",
       "1983             4.37          4818.15        48.662334            12.21  \n",
       "1984           -30.57          4607.02        46.372883           -31.57  \n",
       "1985           -35.35          5462.12        54.894527            -2.45  \n",
       "...               ...              ...              ...              ...  \n",
       "2022           -67.37          7759.46        98.858408          -298.81  \n",
       "2022           -29.62          8034.85        88.419933           -18.87  \n",
       "2022           -16.57         11250.73       194.797186            29.20  \n",
       "2022            34.13         11137.10       197.124129            55.33  \n",
       "2022           290.89         38182.14       569.177262          1064.95  \n",
       "\n",
       "[94 rows x 15 columns]"
      ]
     },
     "execution_count": 29,
     "metadata": {},
     "output_type": "execute_result"
    }
   ],
   "source": [
    "agric_df"
   ]
  },
  {
   "cell_type": "markdown",
   "id": "1499e8e7",
   "metadata": {},
   "source": [
    "# EDA and Visualization"
   ]
  },
  {
   "cell_type": "code",
   "execution_count": 30,
   "id": "a18fadd7",
   "metadata": {},
   "outputs": [
    {
     "data": {
      "text/html": [
       "<div>\n",
       "<style scoped>\n",
       "    .dataframe tbody tr th:only-of-type {\n",
       "        vertical-align: middle;\n",
       "    }\n",
       "\n",
       "    .dataframe tbody tr th {\n",
       "        vertical-align: top;\n",
       "    }\n",
       "\n",
       "    .dataframe thead th {\n",
       "        text-align: right;\n",
       "    }\n",
       "</style>\n",
       "<table border=\"1\" class=\"dataframe\">\n",
       "  <thead>\n",
       "    <tr style=\"text-align: right;\">\n",
       "      <th></th>\n",
       "      <th>CropProduction</th>\n",
       "      <th>Livestock</th>\n",
       "      <th>Forestry</th>\n",
       "      <th>Fishing</th>\n",
       "      <th>Agriculture</th>\n",
       "      <th>GDP at 2010 Constant Market Prices</th>\n",
       "      <th>NetTaxesOnProducts</th>\n",
       "      <th>CropProductionGrowth %</th>\n",
       "      <th>LivestockGrowth %</th>\n",
       "      <th>ForestryGrowth %</th>\n",
       "      <th>FishingGrowth %</th>\n",
       "      <th>GDP_Agriculture</th>\n",
       "      <th>Tax_Agriculture</th>\n",
       "      <th>AgricGrowth (%)</th>\n",
       "    </tr>\n",
       "  </thead>\n",
       "  <tbody>\n",
       "    <tr>\n",
       "      <th>count</th>\n",
       "      <td>94.000000</td>\n",
       "      <td>94.000000</td>\n",
       "      <td>94.000000</td>\n",
       "      <td>94.000000</td>\n",
       "      <td>94.000000</td>\n",
       "      <td>94.000000</td>\n",
       "      <td>94.000000</td>\n",
       "      <td>93.000000</td>\n",
       "      <td>93.000000</td>\n",
       "      <td>93.000000</td>\n",
       "      <td>93.000000</td>\n",
       "      <td>94.000000</td>\n",
       "      <td>94.000000</td>\n",
       "      <td>94.000000</td>\n",
       "    </tr>\n",
       "    <tr>\n",
       "      <th>mean</th>\n",
       "      <td>5473.691915</td>\n",
       "      <td>479.883830</td>\n",
       "      <td>73.886277</td>\n",
       "      <td>130.501277</td>\n",
       "      <td>6157.962872</td>\n",
       "      <td>26759.054255</td>\n",
       "      <td>302.936064</td>\n",
       "      <td>32.888495</td>\n",
       "      <td>28.385054</td>\n",
       "      <td>30.002366</td>\n",
       "      <td>30.240968</td>\n",
       "      <td>12315.926170</td>\n",
       "      <td>140.938590</td>\n",
       "      <td>120.224149</td>\n",
       "    </tr>\n",
       "    <tr>\n",
       "      <th>std</th>\n",
       "      <td>4161.197796</td>\n",
       "      <td>302.221609</td>\n",
       "      <td>45.069256</td>\n",
       "      <td>93.407963</td>\n",
       "      <td>4579.483067</td>\n",
       "      <td>17924.975086</td>\n",
       "      <td>217.888245</td>\n",
       "      <td>96.004308</td>\n",
       "      <td>95.695091</td>\n",
       "      <td>99.516264</td>\n",
       "      <td>104.028952</td>\n",
       "      <td>9158.965618</td>\n",
       "      <td>111.685033</td>\n",
       "      <td>390.190482</td>\n",
       "    </tr>\n",
       "    <tr>\n",
       "      <th>min</th>\n",
       "      <td>1759.120000</td>\n",
       "      <td>216.100000</td>\n",
       "      <td>30.160000</td>\n",
       "      <td>40.650000</td>\n",
       "      <td>2303.510000</td>\n",
       "      <td>12790.380000</td>\n",
       "      <td>121.690000</td>\n",
       "      <td>-80.590000</td>\n",
       "      <td>-76.410000</td>\n",
       "      <td>-77.940000</td>\n",
       "      <td>-72.520000</td>\n",
       "      <td>4607.020000</td>\n",
       "      <td>46.372883</td>\n",
       "      <td>-306.020000</td>\n",
       "    </tr>\n",
       "    <tr>\n",
       "      <th>25%</th>\n",
       "      <td>2999.085000</td>\n",
       "      <td>283.565000</td>\n",
       "      <td>41.467500</td>\n",
       "      <td>76.200000</td>\n",
       "      <td>3480.215000</td>\n",
       "      <td>16415.147500</td>\n",
       "      <td>178.657500</td>\n",
       "      <td>-5.830000</td>\n",
       "      <td>-3.010000</td>\n",
       "      <td>-5.120000</td>\n",
       "      <td>-16.570000</td>\n",
       "      <td>6960.437500</td>\n",
       "      <td>67.863894</td>\n",
       "      <td>0.025000</td>\n",
       "    </tr>\n",
       "    <tr>\n",
       "      <th>50%</th>\n",
       "      <td>3706.435000</td>\n",
       "      <td>336.750000</td>\n",
       "      <td>50.650000</td>\n",
       "      <td>94.335000</td>\n",
       "      <td>4155.970000</td>\n",
       "      <td>18429.725000</td>\n",
       "      <td>220.575000</td>\n",
       "      <td>6.220000</td>\n",
       "      <td>2.850000</td>\n",
       "      <td>5.850000</td>\n",
       "      <td>4.000000</td>\n",
       "      <td>8311.940000</td>\n",
       "      <td>98.364229</td>\n",
       "      <td>25.760000</td>\n",
       "    </tr>\n",
       "    <tr>\n",
       "      <th>75%</th>\n",
       "      <td>5070.322500</td>\n",
       "      <td>537.347500</td>\n",
       "      <td>87.340000</td>\n",
       "      <td>127.455000</td>\n",
       "      <td>5534.220000</td>\n",
       "      <td>24180.622500</td>\n",
       "      <td>315.025000</td>\n",
       "      <td>43.500000</td>\n",
       "      <td>14.750000</td>\n",
       "      <td>16.080000</td>\n",
       "      <td>20.980000</td>\n",
       "      <td>11068.442500</td>\n",
       "      <td>172.381411</td>\n",
       "      <td>49.380000</td>\n",
       "    </tr>\n",
       "    <tr>\n",
       "      <th>max</th>\n",
       "      <td>17260.750000</td>\n",
       "      <td>1247.720000</td>\n",
       "      <td>196.360000</td>\n",
       "      <td>386.240000</td>\n",
       "      <td>19091.070000</td>\n",
       "      <td>75768.950000</td>\n",
       "      <td>1129.480000</td>\n",
       "      <td>265.100000</td>\n",
       "      <td>262.380000</td>\n",
       "      <td>271.430000</td>\n",
       "      <td>290.890000</td>\n",
       "      <td>38182.140000</td>\n",
       "      <td>569.177262</td>\n",
       "      <td>1071.200000</td>\n",
       "    </tr>\n",
       "  </tbody>\n",
       "</table>\n",
       "</div>"
      ],
      "text/plain": [
       "       CropProduction    Livestock    Forestry     Fishing   Agriculture  \\\n",
       "count       94.000000    94.000000   94.000000   94.000000     94.000000   \n",
       "mean      5473.691915   479.883830   73.886277  130.501277   6157.962872   \n",
       "std       4161.197796   302.221609   45.069256   93.407963   4579.483067   \n",
       "min       1759.120000   216.100000   30.160000   40.650000   2303.510000   \n",
       "25%       2999.085000   283.565000   41.467500   76.200000   3480.215000   \n",
       "50%       3706.435000   336.750000   50.650000   94.335000   4155.970000   \n",
       "75%       5070.322500   537.347500   87.340000  127.455000   5534.220000   \n",
       "max      17260.750000  1247.720000  196.360000  386.240000  19091.070000   \n",
       "\n",
       "       GDP at 2010 Constant Market Prices  NetTaxesOnProducts  \\\n",
       "count                           94.000000           94.000000   \n",
       "mean                         26759.054255          302.936064   \n",
       "std                          17924.975086          217.888245   \n",
       "min                          12790.380000          121.690000   \n",
       "25%                          16415.147500          178.657500   \n",
       "50%                          18429.725000          220.575000   \n",
       "75%                          24180.622500          315.025000   \n",
       "max                          75768.950000         1129.480000   \n",
       "\n",
       "       CropProductionGrowth %  LivestockGrowth %  ForestryGrowth %  \\\n",
       "count               93.000000          93.000000         93.000000   \n",
       "mean                32.888495          28.385054         30.002366   \n",
       "std                 96.004308          95.695091         99.516264   \n",
       "min                -80.590000         -76.410000        -77.940000   \n",
       "25%                 -5.830000          -3.010000         -5.120000   \n",
       "50%                  6.220000           2.850000          5.850000   \n",
       "75%                 43.500000          14.750000         16.080000   \n",
       "max                265.100000         262.380000        271.430000   \n",
       "\n",
       "       FishingGrowth %  GDP_Agriculture  Tax_Agriculture  AgricGrowth (%)  \n",
       "count        93.000000        94.000000        94.000000        94.000000  \n",
       "mean         30.240968     12315.926170       140.938590       120.224149  \n",
       "std         104.028952      9158.965618       111.685033       390.190482  \n",
       "min         -72.520000      4607.020000        46.372883      -306.020000  \n",
       "25%         -16.570000      6960.437500        67.863894         0.025000  \n",
       "50%           4.000000      8311.940000        98.364229        25.760000  \n",
       "75%          20.980000     11068.442500       172.381411        49.380000  \n",
       "max         290.890000     38182.140000       569.177262      1071.200000  "
      ]
     },
     "execution_count": 30,
     "metadata": {},
     "output_type": "execute_result"
    }
   ],
   "source": [
    "agric_df.describe()"
   ]
  },
  {
   "cell_type": "code",
   "execution_count": 71,
   "id": "f0f2dc71",
   "metadata": {},
   "outputs": [
    {
     "data": {
      "image/png": "[encoded data removed]",
      "text/plain": [
       "<Figure size 640x480 with 1 Axes>"
      ]
     },
     "metadata": {},
     "output_type": "display_data"
    },
    {
     "name": "stdout",
     "output_type": "stream",
     "text": [
      "Skewness: 1.6487034495124124\n",
      "Kurtosis: 1.356559455537215\n"
     ]
    },
    {
     "data": {
      "image/png": "[encoded data removed]",
      "text/plain": [
       "<Figure size 640x480 with 1 Axes>"
      ]
     },
     "metadata": {},
     "output_type": "display_data"
    },
    {
     "data": {
      "image/png": "[encoded data removed]",
      "text/plain": [
       "<Figure size 640x480 with 1 Axes>"
      ]
     },
     "metadata": {},
     "output_type": "display_data"
    }
   ],
   "source": [
    "# Histogram\n",
    "plt.hist(agric_df['GDP_Agriculture'], bins=10)\n",
    "plt.xlabel('GDP_Agriculture')\n",
    "plt.ylabel('Frequency')\n",
    "plt.title('Distribution of GDP for Agricultural Sector')\n",
    "plt.show()\n",
    "\n",
    "# Calculate skewness and kurtosis\n",
    "skewness = skew(agric_df['GDP_Agriculture'])\n",
    "kurt = kurtosis(agric_df['GDP_Agriculture'])\n",
    "\n",
    "# Print the results\n",
    "print(f\"Skewness: {skewness}\")\n",
    "print(f\"Kurtosis: {kurt}\")\n",
    "\n",
    "\n",
    "# Box Plot\n",
    "plt.boxplot(agric_df['GDP_Agriculture'])\n",
    "plt.xlabel('GDP_Agriculture')\n",
    "plt.ylabel('Values')\n",
    "plt.title('Box plot of GDP for Agricultural Sector')\n",
    "plt.show()\n",
    "\n",
    "# Density Plot\n",
    "agric_df['GDP_Agriculture'].plot.kde()\n",
    "plt.xlabel('GDP_Agriculture')\n",
    "plt.ylabel('Density')\n",
    "plt.title('Density plot of GDP for Agricultural Sector')\n",
    "plt.show()\n"
   ]
  },
  {
   "cell_type": "code",
   "execution_count": 56,
   "id": "3aeeda09",
   "metadata": {},
   "outputs": [
    {
     "data": {
      "application/vnd.plotly.v1+json": {
       "config": {
        "plotlyServerURL": "https://plot.ly"
       },
       "data": [
        {
         "mode": "lines",
         "name": "GDP_Agriculture",
         "type": "scatter",
         "x": [
          1981,
          1982,
          1983,
          1984,
          1985,
          1986,
          1987,
          1988,
          1989,
          1990,
          1991,
          1992,
          1993,
          1994,
          1995,
          1996,
          1997,
          1998,
          1999,
          2000,
          2001,
          2002,
          2003,
          2004,
          2005,
          2006,
          2007,
          2008,
          2009,
          2010,
          2011,
          2012,
          2013,
          2014,
          2015,
          2016,
          2017,
          2018,
          2019,
          2020,
          2021,
          2022
         ],
         "y": [
          4728.74,
          4851.929999999999,
          4818.15,
          4607.0199999999995,
          5462.12,
          5973.670000000001,
          5783.34,
          6349.14,
          6651.900000000001,
          6929.429999999999,
          7181.68,
          7349.580000000001,
          7487.33,
          7679.36,
          7954.76,
          8267.1,
          8611.359999999999,
          8950.49,
          9407.280000000002,
          9681.95,
          10049.08,
          15634.17,
          16729.66,
          17777.149999999998,
          19033.989999999998,
          20444.94,
          21916.94,
          23290.74,
          24660.66,
          26097.780000000002,
          26858.75,
          28659.41,
          29501.04,
          30760.78,
          31904.44,
          33214.68,
          34359.00000000001,
          35088.3,
          35917.159999999996,
          36696.35,
          37476.82,
          38182.14
         ]
        }
       ],
       "layout": {
        "template": {
         "data": {
          "bar": [
           {
            "error_x": {
             "color": "#2a3f5f"
            },
            "error_y": {
             "color": "#2a3f5f"
            },
            "marker": {
             "line": {
              "color": "#E5ECF6",
              "width": 0.5
             },
             "pattern": {
              "fillmode": "overlay",
              "size": 10,
              "solidity": 0.2
             }
            },
            "type": "bar"
           }
          ],
          "barpolar": [
           {
            "marker": {
             "line": {
              "color": "#E5ECF6",
              "width": 0.5
             },
             "pattern": {
              "fillmode": "overlay",
              "size": 10,
              "solidity": 0.2
             }
            },
            "type": "barpolar"
           }
          ],
          "carpet": [
           {
            "aaxis": {
             "endlinecolor": "#2a3f5f",
             "gridcolor": "white",
             "linecolor": "white",
             "minorgridcolor": "white",
             "startlinecolor": "#2a3f5f"
            },
            "baxis": {
             "endlinecolor": "#2a3f5f",
             "gridcolor": "white",
             "linecolor": "white",
             "minorgridcolor": "white",
             "startlinecolor": "#2a3f5f"
            },
            "type": "carpet"
           }
          ],
          "choropleth": [
           {
            "colorbar": {
             "outlinewidth": 0,
             "ticks": ""
            },
            "type": "choropleth"
           }
          ],
          "contour": [
           {
            "colorbar": {
             "outlinewidth": 0,
             "ticks": ""
            },
            "colorscale": [
             [
              0,
              "#0d0887"
             ],
             [
              0.1111111111111111,
              "#46039f"
             ],
             [
              0.2222222222222222,
              "#7201a8"
             ],
             [
              0.3333333333333333,
              "#9c179e"
             ],
             [
              0.4444444444444444,
              "#bd3786"
             ],
             [
              0.5555555555555556,
              "#d8576b"
             ],
             [
              0.6666666666666666,
              "#ed7953"
             ],
             [
              0.7777777777777778,
              "#fb9f3a"
             ],
             [
              0.8888888888888888,
              "#fdca26"
             ],
             [
              1,
              "#f0f921"
             ]
            ],
            "type": "contour"
           }
          ],
          "contourcarpet": [
           {
            "colorbar": {
             "outlinewidth": 0,
             "ticks": ""
            },
            "type": "contourcarpet"
           }
          ],
          "heatmap": [
           {
            "colorbar": {
             "outlinewidth": 0,
             "ticks": ""
            },
            "colorscale": [
             [
              0,
              "#0d0887"
             ],
             [
              0.1111111111111111,
              "#46039f"
             ],
             [
              0.2222222222222222,
              "#7201a8"
             ],
             [
              0.3333333333333333,
              "#9c179e"
             ],
             [
              0.4444444444444444,
              "#bd3786"
             ],
             [
              0.5555555555555556,
              "#d8576b"
             ],
             [
              0.6666666666666666,
              "#ed7953"
             ],
             [
              0.7777777777777778,
              "#fb9f3a"
             ],
             [
              0.8888888888888888,
              "#fdca26"
             ],
             [
              1,
              "#f0f921"
             ]
            ],
            "type": "heatmap"
           }
          ],
          "heatmapgl": [
           {
            "colorbar": {
             "outlinewidth": 0,
             "ticks": ""
            },
            "colorscale": [
             [
              0,
              "#0d0887"
             ],
             [
              0.1111111111111111,
              "#46039f"
             ],
             [
              0.2222222222222222,
              "#7201a8"
             ],
             [
              0.3333333333333333,
              "#9c179e"
             ],
             [
              0.4444444444444444,
              "#bd3786"
             ],
             [
              0.5555555555555556,
              "#d8576b"
             ],
             [
              0.6666666666666666,
              "#ed7953"
             ],
             [
              0.7777777777777778,
              "#fb9f3a"
             ],
             [
              0.8888888888888888,
              "#fdca26"
             ],
             [
              1,
              "#f0f921"
             ]
            ],
            "type": "heatmapgl"
           }
          ],
          "histogram": [
           {
            "marker": {
             "pattern": {
              "fillmode": "overlay",
              "size": 10,
              "solidity": 0.2
             }
            },
            "type": "histogram"
           }
          ],
          "histogram2d": [
           {
            "colorbar": {
             "outlinewidth": 0,
             "ticks": ""
            },
            "colorscale": [
             [
              0,
              "#0d0887"
             ],
             [
              0.1111111111111111,
              "#46039f"
             ],
             [
              0.2222222222222222,
              "#7201a8"
             ],
             [
              0.3333333333333333,
              "#9c179e"
             ],
             [
              0.4444444444444444,
              "#bd3786"
             ],
             [
              0.5555555555555556,
              "#d8576b"
             ],
             [
              0.6666666666666666,
              "#ed7953"
             ],
             [
              0.7777777777777778,
              "#fb9f3a"
             ],
             [
              0.8888888888888888,
              "#fdca26"
             ],
             [
              1,
              "#f0f921"
             ]
            ],
            "type": "histogram2d"
           }
          ],
          "histogram2dcontour": [
           {
            "colorbar": {
             "outlinewidth": 0,
             "ticks": ""
            },
            "colorscale": [
             [
              0,
              "#0d0887"
             ],
             [
              0.1111111111111111,
              "#46039f"
             ],
             [
              0.2222222222222222,
              "#7201a8"
             ],
             [
              0.3333333333333333,
              "#9c179e"
             ],
             [
              0.4444444444444444,
              "#bd3786"
             ],
             [
              0.5555555555555556,
              "#d8576b"
             ],
             [
              0.6666666666666666,
              "#ed7953"
             ],
             [
              0.7777777777777778,
              "#fb9f3a"
             ],
             [
              0.8888888888888888,
              "#fdca26"
             ],
             [
              1,
              "#f0f921"
             ]
            ],
            "type": "histogram2dcontour"
           }
          ],
          "mesh3d": [
           {
            "colorbar": {
             "outlinewidth": 0,
             "ticks": ""
            },
            "type": "mesh3d"
           }
          ],
          "parcoords": [
           {
            "line": {
             "colorbar": {
              "outlinewidth": 0,
              "ticks": ""
             }
            },
            "type": "parcoords"
           }
          ],
          "pie": [
           {
            "automargin": true,
            "type": "pie"
           }
          ],
          "scatter": [
           {
            "fillpattern": {
             "fillmode": "overlay",
             "size": 10,
             "solidity": 0.2
            },
            "type": "scatter"
           }
          ],
          "scatter3d": [
           {
            "line": {
             "colorbar": {
              "outlinewidth": 0,
              "ticks": ""
             }
            },
            "marker": {
             "colorbar": {
              "outlinewidth": 0,
              "ticks": ""
             }
            },
            "type": "scatter3d"
           }
          ],
          "scattercarpet": [
           {
            "marker": {
             "colorbar": {
              "outlinewidth": 0,
              "ticks": ""
             }
            },
            "type": "scattercarpet"
           }
          ],
          "scattergeo": [
           {
            "marker": {
             "colorbar": {
              "outlinewidth": 0,
              "ticks": ""
             }
            },
            "type": "scattergeo"
           }
          ],
          "scattergl": [
           {
            "marker": {
             "colorbar": {
              "outlinewidth": 0,
              "ticks": ""
             }
            },
            "type": "scattergl"
           }
          ],
          "scattermapbox": [
           {
            "marker": {
             "colorbar": {
              "outlinewidth": 0,
              "ticks": ""
             }
            },
            "type": "scattermapbox"
           }
          ],
          "scatterpolar": [
           {
            "marker": {
             "colorbar": {
              "outlinewidth": 0,
              "ticks": ""
             }
            },
            "type": "scatterpolar"
           }
          ],
          "scatterpolargl": [
           {
            "marker": {
             "colorbar": {
              "outlinewidth": 0,
              "ticks": ""
             }
            },
            "type": "scatterpolargl"
           }
          ],
          "scatterternary": [
           {
            "marker": {
             "colorbar": {
              "outlinewidth": 0,
              "ticks": ""
             }
            },
            "type": "scatterternary"
           }
          ],
          "surface": [
           {
            "colorbar": {
             "outlinewidth": 0,
             "ticks": ""
            },
            "colorscale": [
             [
              0,
              "#0d0887"
             ],
             [
              0.1111111111111111,
              "#46039f"
             ],
             [
              0.2222222222222222,
              "#7201a8"
             ],
             [
              0.3333333333333333,
              "#9c179e"
             ],
             [
              0.4444444444444444,
              "#bd3786"
             ],
             [
              0.5555555555555556,
              "#d8576b"
             ],
             [
              0.6666666666666666,
              "#ed7953"
             ],
             [
              0.7777777777777778,
              "#fb9f3a"
             ],
             [
              0.8888888888888888,
              "#fdca26"
             ],
             [
              1,
              "#f0f921"
             ]
            ],
            "type": "surface"
           }
          ],
          "table": [
           {
            "cells": {
             "fill": {
              "color": "#EBF0F8"
             },
             "line": {
              "color": "white"
             }
            },
            "header": {
             "fill": {
              "color": "#C8D4E3"
             },
             "line": {
              "color": "white"
             }
            },
            "type": "table"
           }
          ]
         },
         "layout": {
          "annotationdefaults": {
           "arrowcolor": "#2a3f5f",
           "arrowhead": 0,
           "arrowwidth": 1
          },
          "autotypenumbers": "strict",
          "coloraxis": {
           "colorbar": {
            "outlinewidth": 0,
            "ticks": ""
           }
          },
          "colorscale": {
           "diverging": [
            [
             0,
             "#8e0152"
            ],
            [
             0.1,
             "#c51b7d"
            ],
            [
             0.2,
             "#de77ae"
            ],
            [
             0.3,
             "#f1b6da"
            ],
            [
             0.4,
             "#fde0ef"
            ],
            [
             0.5,
             "#f7f7f7"
            ],
            [
             0.6,
             "#e6f5d0"
            ],
            [
             0.7,
             "#b8e186"
            ],
            [
             0.8,
             "#7fbc41"
            ],
            [
             0.9,
             "#4d9221"
            ],
            [
             1,
             "#276419"
            ]
           ],
           "sequential": [
            [
             0,
             "#0d0887"
            ],
            [
             0.1111111111111111,
             "#46039f"
            ],
            [
             0.2222222222222222,
             "#7201a8"
            ],
            [
             0.3333333333333333,
             "#9c179e"
            ],
            [
             0.4444444444444444,
             "#bd3786"
            ],
            [
             0.5555555555555556,
             "#d8576b"
            ],
            [
             0.6666666666666666,
             "#ed7953"
            ],
            [
             0.7777777777777778,
             "#fb9f3a"
            ],
            [
             0.8888888888888888,
             "#fdca26"
            ],
            [
             1,
             "#f0f921"
            ]
           ],
           "sequentialminus": [
            [
             0,
             "#0d0887"
            ],
            [
             0.1111111111111111,
             "#46039f"
            ],
            [
             0.2222222222222222,
             "#7201a8"
            ],
            [
             0.3333333333333333,
             "#9c179e"
            ],
            [
             0.4444444444444444,
             "#bd3786"
            ],
            [
             0.5555555555555556,
             "#d8576b"
            ],
            [
             0.6666666666666666,
             "#ed7953"
            ],
            [
             0.7777777777777778,
             "#fb9f3a"
            ],
            [
             0.8888888888888888,
             "#fdca26"
            ],
            [
             1,
             "#f0f921"
            ]
           ]
          },
          "colorway": [
           "#636efa",
           "#EF553B",
           "#00cc96",
           "#ab63fa",
           "#FFA15A",
           "#19d3f3",
           "#FF6692",
           "#B6E880",
           "#FF97FF",
           "#FECB52"
          ],
          "font": {
           "color": "#2a3f5f"
          },
          "geo": {
           "bgcolor": "white",
           "lakecolor": "white",
           "landcolor": "#E5ECF6",
           "showlakes": true,
           "showland": true,
           "subunitcolor": "white"
          },
          "hoverlabel": {
           "align": "left"
          },
          "hovermode": "closest",
          "mapbox": {
           "style": "light"
          },
          "paper_bgcolor": "white",
          "plot_bgcolor": "#E5ECF6",
          "polar": {
           "angularaxis": {
            "gridcolor": "white",
            "linecolor": "white",
            "ticks": ""
           },
           "bgcolor": "#E5ECF6",
           "radialaxis": {
            "gridcolor": "white",
            "linecolor": "white",
            "ticks": ""
           }
          },
          "scene": {
           "xaxis": {
            "backgroundcolor": "#E5ECF6",
            "gridcolor": "white",
            "gridwidth": 2,
            "linecolor": "white",
            "showbackground": true,
            "ticks": "",
            "zerolinecolor": "white"
           },
           "yaxis": {
            "backgroundcolor": "#E5ECF6",
            "gridcolor": "white",
            "gridwidth": 2,
            "linecolor": "white",
            "showbackground": true,
            "ticks": "",
            "zerolinecolor": "white"
           },
           "zaxis": {
            "backgroundcolor": "#E5ECF6",
            "gridcolor": "white",
            "gridwidth": 2,
            "linecolor": "white",
            "showbackground": true,
            "ticks": "",
            "zerolinecolor": "white"
           }
          },
          "shapedefaults": {
           "line": {
            "color": "#2a3f5f"
           }
          },
          "ternary": {
           "aaxis": {
            "gridcolor": "white",
            "linecolor": "white",
            "ticks": ""
           },
           "baxis": {
            "gridcolor": "white",
            "linecolor": "white",
            "ticks": ""
           },
           "bgcolor": "#E5ECF6",
           "caxis": {
            "gridcolor": "white",
            "linecolor": "white",
            "ticks": ""
           }
          },
          "title": {
           "x": 0.05
          },
          "xaxis": {
           "automargin": true,
           "gridcolor": "white",
           "linecolor": "white",
           "ticks": "",
           "title": {
            "standoff": 15
           },
           "zerolinecolor": "white",
           "zerolinewidth": 2
          },
          "yaxis": {
           "automargin": true,
           "gridcolor": "white",
           "linecolor": "white",
           "ticks": "",
           "title": {
            "standoff": 15
           },
           "zerolinecolor": "white",
           "zerolinewidth": 2
          }
         }
        },
        "title": {
         "text": "Agricultural contribution to GDP over Time (Annual)"
        },
        "xaxis": {
         "title": {
          "text": "Index"
         }
        },
        "yaxis": {
         "title": {
          "text": "GDP_Agriculture"
         }
        }
       }
      },
      "text/html": [
       "<div>                            <div id=\"5b1d16b5-c1c7-464e-affa-fff2cf597e67\" class=\"plotly-graph-div\" style=\"height:525px; width:100%;\"></div>            <script type=\"text/javascript\">                require([\"plotly\"], function(Plotly) {                    window.PLOTLYENV=window.PLOTLYENV || {};                                    if (document.getElementById(\"5b1d16b5-c1c7-464e-affa-fff2cf597e67\")) {                    Plotly.newPlot(                        \"5b1d16b5-c1c7-464e-affa-fff2cf597e67\",                        [{\"mode\":\"lines\",\"name\":\"GDP_Agriculture\",\"x\":[1981,1982,1983,1984,1985,1986,1987,1988,1989,1990,1991,1992,1993,1994,1995,1996,1997,1998,1999,2000,2001,2002,2003,2004,2005,2006,2007,2008,2009,2010,2011,2012,2013,2014,2015,2016,2017,2018,2019,2020,2021,2022],\"y\":[4728.74,4851.929999999999,4818.15,4607.0199999999995,5462.12,5973.670000000001,5783.34,6349.14,6651.900000000001,6929.429999999999,7181.68,7349.580000000001,7487.33,7679.36,7954.76,8267.1,8611.359999999999,8950.49,9407.280000000002,9681.95,10049.08,15634.17,16729.66,17777.149999999998,19033.989999999998,20444.94,21916.94,23290.74,24660.66,26097.780000000002,26858.75,28659.41,29501.04,30760.78,31904.44,33214.68,34359.00000000001,35088.3,35917.159999999996,36696.35,37476.82,38182.14],\"type\":\"scatter\"}],                        {\"template\":{\"data\":{\"histogram2dcontour\":[{\"type\":\"histogram2dcontour\",\"colorbar\":{\"outlinewidth\":0,\"ticks\":\"\"},\"colorscale\":[[0.0,\"#0d0887\"],[0.1111111111111111,\"#46039f\"],[0.2222222222222222,\"#7201a8\"],[0.3333333333333333,\"#9c179e\"],[0.4444444444444444,\"#bd3786\"],[0.5555555555555556,\"#d8576b\"],[0.6666666666666666,\"#ed7953\"],[0.7777777777777778,\"#fb9f3a\"],[0.8888888888888888,\"#fdca26\"],[1.0,\"#f0f921\"]]}],\"choropleth\":[{\"type\":\"choropleth\",\"colorbar\":{\"outlinewidth\":0,\"ticks\":\"\"}}],\"histogram2d\":[{\"type\":\"histogram2d\",\"colorbar\":{\"outlinewidth\":0,\"ticks\":\"\"},\"colorscale\":[[0.0,\"#0d0887\"],[0.1111111111111111,\"#46039f\"],[0.2222222222222222,\"#7201a8\"],[0.3333333333333333,\"#9c179e\"],[0.4444444444444444,\"#bd3786\"],[0.5555555555555556,\"#d8576b\"],[0.6666666666666666,\"#ed7953\"],[0.7777777777777778,\"#fb9f3a\"],[0.8888888888888888,\"#fdca26\"],[1.0,\"#f0f921\"]]}],\"heatmap\":[{\"type\":\"heatmap\",\"colorbar\":{\"outlinewidth\":0,\"ticks\":\"\"},\"colorscale\":[[0.0,\"#0d0887\"],[0.1111111111111111,\"#46039f\"],[0.2222222222222222,\"#7201a8\"],[0.3333333333333333,\"#9c179e\"],[0.4444444444444444,\"#bd3786\"],[0.5555555555555556,\"#d8576b\"],[0.6666666666666666,\"#ed7953\"],[0.7777777777777778,\"#fb9f3a\"],[0.8888888888888888,\"#fdca26\"],[1.0,\"#f0f921\"]]}],\"heatmapgl\":[{\"type\":\"heatmapgl\",\"colorbar\":{\"outlinewidth\":0,\"ticks\":\"\"},\"colorscale\":[[0.0,\"#0d0887\"],[0.1111111111111111,\"#46039f\"],[0.2222222222222222,\"#7201a8\"],[0.3333333333333333,\"#9c179e\"],[0.4444444444444444,\"#bd3786\"],[0.5555555555555556,\"#d8576b\"],[0.6666666666666666,\"#ed7953\"],[0.7777777777777778,\"#fb9f3a\"],[0.8888888888888888,\"#fdca26\"],[1.0,\"#f0f921\"]]}],\"contourcarpet\":[{\"type\":\"contourcarpet\",\"colorbar\":{\"outlinewidth\":0,\"ticks\":\"\"}}],\"contour\":[{\"type\":\"contour\",\"colorbar\":{\"outlinewidth\":0,\"ticks\":\"\"},\"colorscale\":[[0.0,\"#0d0887\"],[0.1111111111111111,\"#46039f\"],[0.2222222222222222,\"#7201a8\"],[0.3333333333333333,\"#9c179e\"],[0.4444444444444444,\"#bd3786\"],[0.5555555555555556,\"#d8576b\"],[0.6666666666666666,\"#ed7953\"],[0.7777777777777778,\"#fb9f3a\"],[0.8888888888888888,\"#fdca26\"],[1.0,\"#f0f921\"]]}],\"surface\":[{\"type\":\"surface\",\"colorbar\":{\"outlinewidth\":0,\"ticks\":\"\"},\"colorscale\":[[0.0,\"#0d0887\"],[0.1111111111111111,\"#46039f\"],[0.2222222222222222,\"#7201a8\"],[0.3333333333333333,\"#9c179e\"],[0.4444444444444444,\"#bd3786\"],[0.5555555555555556,\"#d8576b\"],[0.6666666666666666,\"#ed7953\"],[0.7777777777777778,\"#fb9f3a\"],[0.8888888888888888,\"#fdca26\"],[1.0,\"#f0f921\"]]}],\"mesh3d\":[{\"type\":\"mesh3d\",\"colorbar\":{\"outlinewidth\":0,\"ticks\":\"\"}}],\"scatter\":[{\"fillpattern\":{\"fillmode\":\"overlay\",\"size\":10,\"solidity\":0.2},\"type\":\"scatter\"}],\"parcoords\":[{\"type\":\"parcoords\",\"line\":{\"colorbar\":{\"outlinewidth\":0,\"ticks\":\"\"}}}],\"scatterpolargl\":[{\"type\":\"scatterpolargl\",\"marker\":{\"colorbar\":{\"outlinewidth\":0,\"ticks\":\"\"}}}],\"bar\":[{\"error_x\":{\"color\":\"#2a3f5f\"},\"error_y\":{\"color\":\"#2a3f5f\"},\"marker\":{\"line\":{\"color\":\"#E5ECF6\",\"width\":0.5},\"pattern\":{\"fillmode\":\"overlay\",\"size\":10,\"solidity\":0.2}},\"type\":\"bar\"}],\"scattergeo\":[{\"type\":\"scattergeo\",\"marker\":{\"colorbar\":{\"outlinewidth\":0,\"ticks\":\"\"}}}],\"scatterpolar\":[{\"type\":\"scatterpolar\",\"marker\":{\"colorbar\":{\"outlinewidth\":0,\"ticks\":\"\"}}}],\"histogram\":[{\"marker\":{\"pattern\":{\"fillmode\":\"overlay\",\"size\":10,\"solidity\":0.2}},\"type\":\"histogram\"}],\"scattergl\":[{\"type\":\"scattergl\",\"marker\":{\"colorbar\":{\"outlinewidth\":0,\"ticks\":\"\"}}}],\"scatter3d\":[{\"type\":\"scatter3d\",\"line\":{\"colorbar\":{\"outlinewidth\":0,\"ticks\":\"\"}},\"marker\":{\"colorbar\":{\"outlinewidth\":0,\"ticks\":\"\"}}}],\"scattermapbox\":[{\"type\":\"scattermapbox\",\"marker\":{\"colorbar\":{\"outlinewidth\":0,\"ticks\":\"\"}}}],\"scatterternary\":[{\"type\":\"scatterternary\",\"marker\":{\"colorbar\":{\"outlinewidth\":0,\"ticks\":\"\"}}}],\"scattercarpet\":[{\"type\":\"scattercarpet\",\"marker\":{\"colorbar\":{\"outlinewidth\":0,\"ticks\":\"\"}}}],\"carpet\":[{\"aaxis\":{\"endlinecolor\":\"#2a3f5f\",\"gridcolor\":\"white\",\"linecolor\":\"white\",\"minorgridcolor\":\"white\",\"startlinecolor\":\"#2a3f5f\"},\"baxis\":{\"endlinecolor\":\"#2a3f5f\",\"gridcolor\":\"white\",\"linecolor\":\"white\",\"minorgridcolor\":\"white\",\"startlinecolor\":\"#2a3f5f\"},\"type\":\"carpet\"}],\"table\":[{\"cells\":{\"fill\":{\"color\":\"#EBF0F8\"},\"line\":{\"color\":\"white\"}},\"header\":{\"fill\":{\"color\":\"#C8D4E3\"},\"line\":{\"color\":\"white\"}},\"type\":\"table\"}],\"barpolar\":[{\"marker\":{\"line\":{\"color\":\"#E5ECF6\",\"width\":0.5},\"pattern\":{\"fillmode\":\"overlay\",\"size\":10,\"solidity\":0.2}},\"type\":\"barpolar\"}],\"pie\":[{\"automargin\":true,\"type\":\"pie\"}]},\"layout\":{\"autotypenumbers\":\"strict\",\"colorway\":[\"#636efa\",\"#EF553B\",\"#00cc96\",\"#ab63fa\",\"#FFA15A\",\"#19d3f3\",\"#FF6692\",\"#B6E880\",\"#FF97FF\",\"#FECB52\"],\"font\":{\"color\":\"#2a3f5f\"},\"hovermode\":\"closest\",\"hoverlabel\":{\"align\":\"left\"},\"paper_bgcolor\":\"white\",\"plot_bgcolor\":\"#E5ECF6\",\"polar\":{\"bgcolor\":\"#E5ECF6\",\"angularaxis\":{\"gridcolor\":\"white\",\"linecolor\":\"white\",\"ticks\":\"\"},\"radialaxis\":{\"gridcolor\":\"white\",\"linecolor\":\"white\",\"ticks\":\"\"}},\"ternary\":{\"bgcolor\":\"#E5ECF6\",\"aaxis\":{\"gridcolor\":\"white\",\"linecolor\":\"white\",\"ticks\":\"\"},\"baxis\":{\"gridcolor\":\"white\",\"linecolor\":\"white\",\"ticks\":\"\"},\"caxis\":{\"gridcolor\":\"white\",\"linecolor\":\"white\",\"ticks\":\"\"}},\"coloraxis\":{\"colorbar\":{\"outlinewidth\":0,\"ticks\":\"\"}},\"colorscale\":{\"sequential\":[[0.0,\"#0d0887\"],[0.1111111111111111,\"#46039f\"],[0.2222222222222222,\"#7201a8\"],[0.3333333333333333,\"#9c179e\"],[0.4444444444444444,\"#bd3786\"],[0.5555555555555556,\"#d8576b\"],[0.6666666666666666,\"#ed7953\"],[0.7777777777777778,\"#fb9f3a\"],[0.8888888888888888,\"#fdca26\"],[1.0,\"#f0f921\"]],\"sequentialminus\":[[0.0,\"#0d0887\"],[0.1111111111111111,\"#46039f\"],[0.2222222222222222,\"#7201a8\"],[0.3333333333333333,\"#9c179e\"],[0.4444444444444444,\"#bd3786\"],[0.5555555555555556,\"#d8576b\"],[0.6666666666666666,\"#ed7953\"],[0.7777777777777778,\"#fb9f3a\"],[0.8888888888888888,\"#fdca26\"],[1.0,\"#f0f921\"]],\"diverging\":[[0,\"#8e0152\"],[0.1,\"#c51b7d\"],[0.2,\"#de77ae\"],[0.3,\"#f1b6da\"],[0.4,\"#fde0ef\"],[0.5,\"#f7f7f7\"],[0.6,\"#e6f5d0\"],[0.7,\"#b8e186\"],[0.8,\"#7fbc41\"],[0.9,\"#4d9221\"],[1,\"#276419\"]]},\"xaxis\":{\"gridcolor\":\"white\",\"linecolor\":\"white\",\"ticks\":\"\",\"title\":{\"standoff\":15},\"zerolinecolor\":\"white\",\"automargin\":true,\"zerolinewidth\":2},\"yaxis\":{\"gridcolor\":\"white\",\"linecolor\":\"white\",\"ticks\":\"\",\"title\":{\"standoff\":15},\"zerolinecolor\":\"white\",\"automargin\":true,\"zerolinewidth\":2},\"scene\":{\"xaxis\":{\"backgroundcolor\":\"#E5ECF6\",\"gridcolor\":\"white\",\"linecolor\":\"white\",\"showbackground\":true,\"ticks\":\"\",\"zerolinecolor\":\"white\",\"gridwidth\":2},\"yaxis\":{\"backgroundcolor\":\"#E5ECF6\",\"gridcolor\":\"white\",\"linecolor\":\"white\",\"showbackground\":true,\"ticks\":\"\",\"zerolinecolor\":\"white\",\"gridwidth\":2},\"zaxis\":{\"backgroundcolor\":\"#E5ECF6\",\"gridcolor\":\"white\",\"linecolor\":\"white\",\"showbackground\":true,\"ticks\":\"\",\"zerolinecolor\":\"white\",\"gridwidth\":2}},\"shapedefaults\":{\"line\":{\"color\":\"#2a3f5f\"}},\"annotationdefaults\":{\"arrowcolor\":\"#2a3f5f\",\"arrowhead\":0,\"arrowwidth\":1},\"geo\":{\"bgcolor\":\"white\",\"landcolor\":\"#E5ECF6\",\"subunitcolor\":\"white\",\"showland\":true,\"showlakes\":true,\"lakecolor\":\"white\"},\"title\":{\"x\":0.05},\"mapbox\":{\"style\":\"light\"}}},\"title\":{\"text\":\"Agricultural contribution to GDP over Time (Annual)\"},\"xaxis\":{\"title\":{\"text\":\"Index\"}},\"yaxis\":{\"title\":{\"text\":\"GDP_Agriculture\"}}},                        {\"responsive\": true}                    ).then(function(){\n",
       "                            \n",
       "var gd = document.getElementById('5b1d16b5-c1c7-464e-affa-fff2cf597e67');\n",
       "var x = new MutationObserver(function (mutations, observer) {{\n",
       "        var display = window.getComputedStyle(gd).display;\n",
       "        if (!display || display === 'none') {{\n",
       "            console.log([gd, 'removed!']);\n",
       "            Plotly.purge(gd);\n",
       "            observer.disconnect();\n",
       "        }}\n",
       "}});\n",
       "\n",
       "// Listen for the removal of the full notebook cells\n",
       "var notebookContainer = gd.closest('#notebook-container');\n",
       "if (notebookContainer) {{\n",
       "    x.observe(notebookContainer, {childList: true});\n",
       "}}\n",
       "\n",
       "// Listen for the clearing of the current output cell\n",
       "var outputEl = gd.closest('.output');\n",
       "if (outputEl) {{\n",
       "    x.observe(outputEl, {childList: true});\n",
       "}}\n",
       "\n",
       "                        })                };                });            </script>        </div>"
      ]
     },
     "metadata": {},
     "output_type": "display_data"
    },
    {
     "data": {
      "application/vnd.plotly.v1+json": {
       "config": {
        "plotlyServerURL": "https://plot.ly"
       },
       "data": [
        {
         "name": "Agriculture",
         "type": "bar",
         "x": [
          1981,
          1982,
          1983,
          1984,
          1985,
          1986,
          1987,
          1988,
          1989,
          1990,
          1991,
          1992,
          1993,
          1994,
          1995,
          1996,
          1997,
          1998,
          1999,
          2000,
          2001,
          2002,
          2003,
          2004,
          2005,
          2006,
          2007,
          2008,
          2009,
          2010,
          2011,
          2012,
          2013,
          2014,
          2015,
          2016,
          2017,
          2018,
          2019,
          2020,
          2021,
          2022
         ],
         "y": [
          2364.37,
          2425.96,
          2409.08,
          2303.51,
          2731.06,
          2986.84,
          2891.67,
          3174.57,
          3325.95,
          3464.72,
          3590.84,
          3674.79,
          3743.67,
          3839.68,
          3977.38,
          4133.55,
          4305.68,
          4475.24,
          4703.64,
          4840.97,
          5024.54,
          7817.08,
          8364.83,
          8888.57,
          9516.99,
          10222.47,
          10958.47,
          11645.37,
          12330.33,
          13048.89,
          13429.38,
          14329.71,
          14750.52,
          15380.39,
          15952.22,
          16607.34,
          17179.5,
          17544.15,
          17958.58,
          18348.18,
          18738.41,
          19091.07
         ]
        }
       ],
       "layout": {
        "template": {
         "data": {
          "bar": [
           {
            "error_x": {
             "color": "#2a3f5f"
            },
            "error_y": {
             "color": "#2a3f5f"
            },
            "marker": {
             "line": {
              "color": "#E5ECF6",
              "width": 0.5
             },
             "pattern": {
              "fillmode": "overlay",
              "size": 10,
              "solidity": 0.2
             }
            },
            "type": "bar"
           }
          ],
          "barpolar": [
           {
            "marker": {
             "line": {
              "color": "#E5ECF6",
              "width": 0.5
             },
             "pattern": {
              "fillmode": "overlay",
              "size": 10,
              "solidity": 0.2
             }
            },
            "type": "barpolar"
           }
          ],
          "carpet": [
           {
            "aaxis": {
             "endlinecolor": "#2a3f5f",
             "gridcolor": "white",
             "linecolor": "white",
             "minorgridcolor": "white",
             "startlinecolor": "#2a3f5f"
            },
            "baxis": {
             "endlinecolor": "#2a3f5f",
             "gridcolor": "white",
             "linecolor": "white",
             "minorgridcolor": "white",
             "startlinecolor": "#2a3f5f"
            },
            "type": "carpet"
           }
          ],
          "choropleth": [
           {
            "colorbar": {
             "outlinewidth": 0,
             "ticks": ""
            },
            "type": "choropleth"
           }
          ],
          "contour": [
           {
            "colorbar": {
             "outlinewidth": 0,
             "ticks": ""
            },
            "colorscale": [
             [
              0,
              "#0d0887"
             ],
             [
              0.1111111111111111,
              "#46039f"
             ],
             [
              0.2222222222222222,
              "#7201a8"
             ],
             [
              0.3333333333333333,
              "#9c179e"
             ],
             [
              0.4444444444444444,
              "#bd3786"
             ],
             [
              0.5555555555555556,
              "#d8576b"
             ],
             [
              0.6666666666666666,
              "#ed7953"
             ],
             [
              0.7777777777777778,
              "#fb9f3a"
             ],
             [
              0.8888888888888888,
              "#fdca26"
             ],
             [
              1,
              "#f0f921"
             ]
            ],
            "type": "contour"
           }
          ],
          "contourcarpet": [
           {
            "colorbar": {
             "outlinewidth": 0,
             "ticks": ""
            },
            "type": "contourcarpet"
           }
          ],
          "heatmap": [
           {
            "colorbar": {
             "outlinewidth": 0,
             "ticks": ""
            },
            "colorscale": [
             [
              0,
              "#0d0887"
             ],
             [
              0.1111111111111111,
              "#46039f"
             ],
             [
              0.2222222222222222,
              "#7201a8"
             ],
             [
              0.3333333333333333,
              "#9c179e"
             ],
             [
              0.4444444444444444,
              "#bd3786"
             ],
             [
              0.5555555555555556,
              "#d8576b"
             ],
             [
              0.6666666666666666,
              "#ed7953"
             ],
             [
              0.7777777777777778,
              "#fb9f3a"
             ],
             [
              0.8888888888888888,
              "#fdca26"
             ],
             [
              1,
              "#f0f921"
             ]
            ],
            "type": "heatmap"
           }
          ],
          "heatmapgl": [
           {
            "colorbar": {
             "outlinewidth": 0,
             "ticks": ""
            },
            "colorscale": [
             [
              0,
              "#0d0887"
             ],
             [
              0.1111111111111111,
              "#46039f"
             ],
             [
              0.2222222222222222,
              "#7201a8"
             ],
             [
              0.3333333333333333,
              "#9c179e"
             ],
             [
              0.4444444444444444,
              "#bd3786"
             ],
             [
              0.5555555555555556,
              "#d8576b"
             ],
             [
              0.6666666666666666,
              "#ed7953"
             ],
             [
              0.7777777777777778,
              "#fb9f3a"
             ],
             [
              0.8888888888888888,
              "#fdca26"
             ],
             [
              1,
              "#f0f921"
             ]
            ],
            "type": "heatmapgl"
           }
          ],
          "histogram": [
           {
            "marker": {
             "pattern": {
              "fillmode": "overlay",
              "size": 10,
              "solidity": 0.2
             }
            },
            "type": "histogram"
           }
          ],
          "histogram2d": [
           {
            "colorbar": {
             "outlinewidth": 0,
             "ticks": ""
            },
            "colorscale": [
             [
              0,
              "#0d0887"
             ],
             [
              0.1111111111111111,
              "#46039f"
             ],
             [
              0.2222222222222222,
              "#7201a8"
             ],
             [
              0.3333333333333333,
              "#9c179e"
             ],
             [
              0.4444444444444444,
              "#bd3786"
             ],
             [
              0.5555555555555556,
              "#d8576b"
             ],
             [
              0.6666666666666666,
              "#ed7953"
             ],
             [
              0.7777777777777778,
              "#fb9f3a"
             ],
             [
              0.8888888888888888,
              "#fdca26"
             ],
             [
              1,
              "#f0f921"
             ]
            ],
            "type": "histogram2d"
           }
          ],
          "histogram2dcontour": [
           {
            "colorbar": {
             "outlinewidth": 0,
             "ticks": ""
            },
            "colorscale": [
             [
              0,
              "#0d0887"
             ],
             [
              0.1111111111111111,
              "#46039f"
             ],
             [
              0.2222222222222222,
              "#7201a8"
             ],
             [
              0.3333333333333333,
              "#9c179e"
             ],
             [
              0.4444444444444444,
              "#bd3786"
             ],
             [
              0.5555555555555556,
              "#d8576b"
             ],
             [
              0.6666666666666666,
              "#ed7953"
             ],
             [
              0.7777777777777778,
              "#fb9f3a"
             ],
             [
              0.8888888888888888,
              "#fdca26"
             ],
             [
              1,
              "#f0f921"
             ]
            ],
            "type": "histogram2dcontour"
           }
          ],
          "mesh3d": [
           {
            "colorbar": {
             "outlinewidth": 0,
             "ticks": ""
            },
            "type": "mesh3d"
           }
          ],
          "parcoords": [
           {
            "line": {
             "colorbar": {
              "outlinewidth": 0,
              "ticks": ""
             }
            },
            "type": "parcoords"
           }
          ],
          "pie": [
           {
            "automargin": true,
            "type": "pie"
           }
          ],
          "scatter": [
           {
            "fillpattern": {
             "fillmode": "overlay",
             "size": 10,
             "solidity": 0.2
            },
            "type": "scatter"
           }
          ],
          "scatter3d": [
           {
            "line": {
             "colorbar": {
              "outlinewidth": 0,
              "ticks": ""
             }
            },
            "marker": {
             "colorbar": {
              "outlinewidth": 0,
              "ticks": ""
             }
            },
            "type": "scatter3d"
           }
          ],
          "scattercarpet": [
           {
            "marker": {
             "colorbar": {
              "outlinewidth": 0,
              "ticks": ""
             }
            },
            "type": "scattercarpet"
           }
          ],
          "scattergeo": [
           {
            "marker": {
             "colorbar": {
              "outlinewidth": 0,
              "ticks": ""
             }
            },
            "type": "scattergeo"
           }
          ],
          "scattergl": [
           {
            "marker": {
             "colorbar": {
              "outlinewidth": 0,
              "ticks": ""
             }
            },
            "type": "scattergl"
           }
          ],
          "scattermapbox": [
           {
            "marker": {
             "colorbar": {
              "outlinewidth": 0,
              "ticks": ""
             }
            },
            "type": "scattermapbox"
           }
          ],
          "scatterpolar": [
           {
            "marker": {
             "colorbar": {
              "outlinewidth": 0,
              "ticks": ""
             }
            },
            "type": "scatterpolar"
           }
          ],
          "scatterpolargl": [
           {
            "marker": {
             "colorbar": {
              "outlinewidth": 0,
              "ticks": ""
             }
            },
            "type": "scatterpolargl"
           }
          ],
          "scatterternary": [
           {
            "marker": {
             "colorbar": {
              "outlinewidth": 0,
              "ticks": ""
             }
            },
            "type": "scatterternary"
           }
          ],
          "surface": [
           {
            "colorbar": {
             "outlinewidth": 0,
             "ticks": ""
            },
            "colorscale": [
             [
              0,
              "#0d0887"
             ],
             [
              0.1111111111111111,
              "#46039f"
             ],
             [
              0.2222222222222222,
              "#7201a8"
             ],
             [
              0.3333333333333333,
              "#9c179e"
             ],
             [
              0.4444444444444444,
              "#bd3786"
             ],
             [
              0.5555555555555556,
              "#d8576b"
             ],
             [
              0.6666666666666666,
              "#ed7953"
             ],
             [
              0.7777777777777778,
              "#fb9f3a"
             ],
             [
              0.8888888888888888,
              "#fdca26"
             ],
             [
              1,
              "#f0f921"
             ]
            ],
            "type": "surface"
           }
          ],
          "table": [
           {
            "cells": {
             "fill": {
              "color": "#EBF0F8"
             },
             "line": {
              "color": "white"
             }
            },
            "header": {
             "fill": {
              "color": "#C8D4E3"
             },
             "line": {
              "color": "white"
             }
            },
            "type": "table"
           }
          ]
         },
         "layout": {
          "annotationdefaults": {
           "arrowcolor": "#2a3f5f",
           "arrowhead": 0,
           "arrowwidth": 1
          },
          "autotypenumbers": "strict",
          "coloraxis": {
           "colorbar": {
            "outlinewidth": 0,
            "ticks": ""
           }
          },
          "colorscale": {
           "diverging": [
            [
             0,
             "#8e0152"
            ],
            [
             0.1,
             "#c51b7d"
            ],
            [
             0.2,
             "#de77ae"
            ],
            [
             0.3,
             "#f1b6da"
            ],
            [
             0.4,
             "#fde0ef"
            ],
            [
             0.5,
             "#f7f7f7"
            ],
            [
             0.6,
             "#e6f5d0"
            ],
            [
             0.7,
             "#b8e186"
            ],
            [
             0.8,
             "#7fbc41"
            ],
            [
             0.9,
             "#4d9221"
            ],
            [
             1,
             "#276419"
            ]
           ],
           "sequential": [
            [
             0,
             "#0d0887"
            ],
            [
             0.1111111111111111,
             "#46039f"
            ],
            [
             0.2222222222222222,
             "#7201a8"
            ],
            [
             0.3333333333333333,
             "#9c179e"
            ],
            [
             0.4444444444444444,
             "#bd3786"
            ],
            [
             0.5555555555555556,
             "#d8576b"
            ],
            [
             0.6666666666666666,
             "#ed7953"
            ],
            [
             0.7777777777777778,
             "#fb9f3a"
            ],
            [
             0.8888888888888888,
             "#fdca26"
            ],
            [
             1,
             "#f0f921"
            ]
           ],
           "sequentialminus": [
            [
             0,
             "#0d0887"
            ],
            [
             0.1111111111111111,
             "#46039f"
            ],
            [
             0.2222222222222222,
             "#7201a8"
            ],
            [
             0.3333333333333333,
             "#9c179e"
            ],
            [
             0.4444444444444444,
             "#bd3786"
            ],
            [
             0.5555555555555556,
             "#d8576b"
            ],
            [
             0.6666666666666666,
             "#ed7953"
            ],
            [
             0.7777777777777778,
             "#fb9f3a"
            ],
            [
             0.8888888888888888,
             "#fdca26"
            ],
            [
             1,
             "#f0f921"
            ]
           ]
          },
          "colorway": [
           "#636efa",
           "#EF553B",
           "#00cc96",
           "#ab63fa",
           "#FFA15A",
           "#19d3f3",
           "#FF6692",
           "#B6E880",
           "#FF97FF",
           "#FECB52"
          ],
          "font": {
           "color": "#2a3f5f"
          },
          "geo": {
           "bgcolor": "white",
           "lakecolor": "white",
           "landcolor": "#E5ECF6",
           "showlakes": true,
           "showland": true,
           "subunitcolor": "white"
          },
          "hoverlabel": {
           "align": "left"
          },
          "hovermode": "closest",
          "mapbox": {
           "style": "light"
          },
          "paper_bgcolor": "white",
          "plot_bgcolor": "#E5ECF6",
          "polar": {
           "angularaxis": {
            "gridcolor": "white",
            "linecolor": "white",
            "ticks": ""
           },
           "bgcolor": "#E5ECF6",
           "radialaxis": {
            "gridcolor": "white",
            "linecolor": "white",
            "ticks": ""
           }
          },
          "scene": {
           "xaxis": {
            "backgroundcolor": "#E5ECF6",
            "gridcolor": "white",
            "gridwidth": 2,
            "linecolor": "white",
            "showbackground": true,
            "ticks": "",
            "zerolinecolor": "white"
           },
           "yaxis": {
            "backgroundcolor": "#E5ECF6",
            "gridcolor": "white",
            "gridwidth": 2,
            "linecolor": "white",
            "showbackground": true,
            "ticks": "",
            "zerolinecolor": "white"
           },
           "zaxis": {
            "backgroundcolor": "#E5ECF6",
            "gridcolor": "white",
            "gridwidth": 2,
            "linecolor": "white",
            "showbackground": true,
            "ticks": "",
            "zerolinecolor": "white"
           }
          },
          "shapedefaults": {
           "line": {
            "color": "#2a3f5f"
           }
          },
          "ternary": {
           "aaxis": {
            "gridcolor": "white",
            "linecolor": "white",
            "ticks": ""
           },
           "baxis": {
            "gridcolor": "white",
            "linecolor": "white",
            "ticks": ""
           },
           "bgcolor": "#E5ECF6",
           "caxis": {
            "gridcolor": "white",
            "linecolor": "white",
            "ticks": ""
           }
          },
          "title": {
           "x": 0.05
          },
          "xaxis": {
           "automargin": true,
           "gridcolor": "white",
           "linecolor": "white",
           "ticks": "",
           "title": {
            "standoff": 15
           },
           "zerolinecolor": "white",
           "zerolinewidth": 2
          },
          "yaxis": {
           "automargin": true,
           "gridcolor": "white",
           "linecolor": "white",
           "ticks": "",
           "title": {
            "standoff": 15
           },
           "zerolinecolor": "white",
           "zerolinewidth": 2
          }
         }
        },
        "title": {
         "text": "Agricultural contribution to GDP over Time (Annual)"
        },
        "xaxis": {
         "title": {
          "text": "Index"
         }
        },
        "yaxis": {
         "title": {
          "text": "Agriculture"
         }
        }
       }
      },
      "text/html": [
       "<div>                            <div id=\"8832d1df-2a53-4552-9eee-60257b42e038\" class=\"plotly-graph-div\" style=\"height:525px; width:100%;\"></div>            <script type=\"text/javascript\">                require([\"plotly\"], function(Plotly) {                    window.PLOTLYENV=window.PLOTLYENV || {};                                    if (document.getElementById(\"8832d1df-2a53-4552-9eee-60257b42e038\")) {                    Plotly.newPlot(                        \"8832d1df-2a53-4552-9eee-60257b42e038\",                        [{\"name\":\"Agriculture\",\"x\":[1981,1982,1983,1984,1985,1986,1987,1988,1989,1990,1991,1992,1993,1994,1995,1996,1997,1998,1999,2000,2001,2002,2003,2004,2005,2006,2007,2008,2009,2010,2011,2012,2013,2014,2015,2016,2017,2018,2019,2020,2021,2022],\"y\":[2364.37,2425.96,2409.08,2303.51,2731.06,2986.84,2891.67,3174.57,3325.95,3464.72,3590.84,3674.79,3743.67,3839.68,3977.38,4133.55,4305.68,4475.24,4703.64,4840.97,5024.54,7817.08,8364.83,8888.57,9516.99,10222.47,10958.47,11645.37,12330.33,13048.89,13429.38,14329.71,14750.52,15380.39,15952.22,16607.34,17179.5,17544.15,17958.58,18348.18,18738.41,19091.07],\"type\":\"bar\"}],                        {\"template\":{\"data\":{\"histogram2dcontour\":[{\"type\":\"histogram2dcontour\",\"colorbar\":{\"outlinewidth\":0,\"ticks\":\"\"},\"colorscale\":[[0.0,\"#0d0887\"],[0.1111111111111111,\"#46039f\"],[0.2222222222222222,\"#7201a8\"],[0.3333333333333333,\"#9c179e\"],[0.4444444444444444,\"#bd3786\"],[0.5555555555555556,\"#d8576b\"],[0.6666666666666666,\"#ed7953\"],[0.7777777777777778,\"#fb9f3a\"],[0.8888888888888888,\"#fdca26\"],[1.0,\"#f0f921\"]]}],\"choropleth\":[{\"type\":\"choropleth\",\"colorbar\":{\"outlinewidth\":0,\"ticks\":\"\"}}],\"histogram2d\":[{\"type\":\"histogram2d\",\"colorbar\":{\"outlinewidth\":0,\"ticks\":\"\"},\"colorscale\":[[0.0,\"#0d0887\"],[0.1111111111111111,\"#46039f\"],[0.2222222222222222,\"#7201a8\"],[0.3333333333333333,\"#9c179e\"],[0.4444444444444444,\"#bd3786\"],[0.5555555555555556,\"#d8576b\"],[0.6666666666666666,\"#ed7953\"],[0.7777777777777778,\"#fb9f3a\"],[0.8888888888888888,\"#fdca26\"],[1.0,\"#f0f921\"]]}],\"heatmap\":[{\"type\":\"heatmap\",\"colorbar\":{\"outlinewidth\":0,\"ticks\":\"\"},\"colorscale\":[[0.0,\"#0d0887\"],[0.1111111111111111,\"#46039f\"],[0.2222222222222222,\"#7201a8\"],[0.3333333333333333,\"#9c179e\"],[0.4444444444444444,\"#bd3786\"],[0.5555555555555556,\"#d8576b\"],[0.6666666666666666,\"#ed7953\"],[0.7777777777777778,\"#fb9f3a\"],[0.8888888888888888,\"#fdca26\"],[1.0,\"#f0f921\"]]}],\"heatmapgl\":[{\"type\":\"heatmapgl\",\"colorbar\":{\"outlinewidth\":0,\"ticks\":\"\"},\"colorscale\":[[0.0,\"#0d0887\"],[0.1111111111111111,\"#46039f\"],[0.2222222222222222,\"#7201a8\"],[0.3333333333333333,\"#9c179e\"],[0.4444444444444444,\"#bd3786\"],[0.5555555555555556,\"#d8576b\"],[0.6666666666666666,\"#ed7953\"],[0.7777777777777778,\"#fb9f3a\"],[0.8888888888888888,\"#fdca26\"],[1.0,\"#f0f921\"]]}],\"contourcarpet\":[{\"type\":\"contourcarpet\",\"colorbar\":{\"outlinewidth\":0,\"ticks\":\"\"}}],\"contour\":[{\"type\":\"contour\",\"colorbar\":{\"outlinewidth\":0,\"ticks\":\"\"},\"colorscale\":[[0.0,\"#0d0887\"],[0.1111111111111111,\"#46039f\"],[0.2222222222222222,\"#7201a8\"],[0.3333333333333333,\"#9c179e\"],[0.4444444444444444,\"#bd3786\"],[0.5555555555555556,\"#d8576b\"],[0.6666666666666666,\"#ed7953\"],[0.7777777777777778,\"#fb9f3a\"],[0.8888888888888888,\"#fdca26\"],[1.0,\"#f0f921\"]]}],\"surface\":[{\"type\":\"surface\",\"colorbar\":{\"outlinewidth\":0,\"ticks\":\"\"},\"colorscale\":[[0.0,\"#0d0887\"],[0.1111111111111111,\"#46039f\"],[0.2222222222222222,\"#7201a8\"],[0.3333333333333333,\"#9c179e\"],[0.4444444444444444,\"#bd3786\"],[0.5555555555555556,\"#d8576b\"],[0.6666666666666666,\"#ed7953\"],[0.7777777777777778,\"#fb9f3a\"],[0.8888888888888888,\"#fdca26\"],[1.0,\"#f0f921\"]]}],\"mesh3d\":[{\"type\":\"mesh3d\",\"colorbar\":{\"outlinewidth\":0,\"ticks\":\"\"}}],\"scatter\":[{\"fillpattern\":{\"fillmode\":\"overlay\",\"size\":10,\"solidity\":0.2},\"type\":\"scatter\"}],\"parcoords\":[{\"type\":\"parcoords\",\"line\":{\"colorbar\":{\"outlinewidth\":0,\"ticks\":\"\"}}}],\"scatterpolargl\":[{\"type\":\"scatterpolargl\",\"marker\":{\"colorbar\":{\"outlinewidth\":0,\"ticks\":\"\"}}}],\"bar\":[{\"error_x\":{\"color\":\"#2a3f5f\"},\"error_y\":{\"color\":\"#2a3f5f\"},\"marker\":{\"line\":{\"color\":\"#E5ECF6\",\"width\":0.5},\"pattern\":{\"fillmode\":\"overlay\",\"size\":10,\"solidity\":0.2}},\"type\":\"bar\"}],\"scattergeo\":[{\"type\":\"scattergeo\",\"marker\":{\"colorbar\":{\"outlinewidth\":0,\"ticks\":\"\"}}}],\"scatterpolar\":[{\"type\":\"scatterpolar\",\"marker\":{\"colorbar\":{\"outlinewidth\":0,\"ticks\":\"\"}}}],\"histogram\":[{\"marker\":{\"pattern\":{\"fillmode\":\"overlay\",\"size\":10,\"solidity\":0.2}},\"type\":\"histogram\"}],\"scattergl\":[{\"type\":\"scattergl\",\"marker\":{\"colorbar\":{\"outlinewidth\":0,\"ticks\":\"\"}}}],\"scatter3d\":[{\"type\":\"scatter3d\",\"line\":{\"colorbar\":{\"outlinewidth\":0,\"ticks\":\"\"}},\"marker\":{\"colorbar\":{\"outlinewidth\":0,\"ticks\":\"\"}}}],\"scattermapbox\":[{\"type\":\"scattermapbox\",\"marker\":{\"colorbar\":{\"outlinewidth\":0,\"ticks\":\"\"}}}],\"scatterternary\":[{\"type\":\"scatterternary\",\"marker\":{\"colorbar\":{\"outlinewidth\":0,\"ticks\":\"\"}}}],\"scattercarpet\":[{\"type\":\"scattercarpet\",\"marker\":{\"colorbar\":{\"outlinewidth\":0,\"ticks\":\"\"}}}],\"carpet\":[{\"aaxis\":{\"endlinecolor\":\"#2a3f5f\",\"gridcolor\":\"white\",\"linecolor\":\"white\",\"minorgridcolor\":\"white\",\"startlinecolor\":\"#2a3f5f\"},\"baxis\":{\"endlinecolor\":\"#2a3f5f\",\"gridcolor\":\"white\",\"linecolor\":\"white\",\"minorgridcolor\":\"white\",\"startlinecolor\":\"#2a3f5f\"},\"type\":\"carpet\"}],\"table\":[{\"cells\":{\"fill\":{\"color\":\"#EBF0F8\"},\"line\":{\"color\":\"white\"}},\"header\":{\"fill\":{\"color\":\"#C8D4E3\"},\"line\":{\"color\":\"white\"}},\"type\":\"table\"}],\"barpolar\":[{\"marker\":{\"line\":{\"color\":\"#E5ECF6\",\"width\":0.5},\"pattern\":{\"fillmode\":\"overlay\",\"size\":10,\"solidity\":0.2}},\"type\":\"barpolar\"}],\"pie\":[{\"automargin\":true,\"type\":\"pie\"}]},\"layout\":{\"autotypenumbers\":\"strict\",\"colorway\":[\"#636efa\",\"#EF553B\",\"#00cc96\",\"#ab63fa\",\"#FFA15A\",\"#19d3f3\",\"#FF6692\",\"#B6E880\",\"#FF97FF\",\"#FECB52\"],\"font\":{\"color\":\"#2a3f5f\"},\"hovermode\":\"closest\",\"hoverlabel\":{\"align\":\"left\"},\"paper_bgcolor\":\"white\",\"plot_bgcolor\":\"#E5ECF6\",\"polar\":{\"bgcolor\":\"#E5ECF6\",\"angularaxis\":{\"gridcolor\":\"white\",\"linecolor\":\"white\",\"ticks\":\"\"},\"radialaxis\":{\"gridcolor\":\"white\",\"linecolor\":\"white\",\"ticks\":\"\"}},\"ternary\":{\"bgcolor\":\"#E5ECF6\",\"aaxis\":{\"gridcolor\":\"white\",\"linecolor\":\"white\",\"ticks\":\"\"},\"baxis\":{\"gridcolor\":\"white\",\"linecolor\":\"white\",\"ticks\":\"\"},\"caxis\":{\"gridcolor\":\"white\",\"linecolor\":\"white\",\"ticks\":\"\"}},\"coloraxis\":{\"colorbar\":{\"outlinewidth\":0,\"ticks\":\"\"}},\"colorscale\":{\"sequential\":[[0.0,\"#0d0887\"],[0.1111111111111111,\"#46039f\"],[0.2222222222222222,\"#7201a8\"],[0.3333333333333333,\"#9c179e\"],[0.4444444444444444,\"#bd3786\"],[0.5555555555555556,\"#d8576b\"],[0.6666666666666666,\"#ed7953\"],[0.7777777777777778,\"#fb9f3a\"],[0.8888888888888888,\"#fdca26\"],[1.0,\"#f0f921\"]],\"sequentialminus\":[[0.0,\"#0d0887\"],[0.1111111111111111,\"#46039f\"],[0.2222222222222222,\"#7201a8\"],[0.3333333333333333,\"#9c179e\"],[0.4444444444444444,\"#bd3786\"],[0.5555555555555556,\"#d8576b\"],[0.6666666666666666,\"#ed7953\"],[0.7777777777777778,\"#fb9f3a\"],[0.8888888888888888,\"#fdca26\"],[1.0,\"#f0f921\"]],\"diverging\":[[0,\"#8e0152\"],[0.1,\"#c51b7d\"],[0.2,\"#de77ae\"],[0.3,\"#f1b6da\"],[0.4,\"#fde0ef\"],[0.5,\"#f7f7f7\"],[0.6,\"#e6f5d0\"],[0.7,\"#b8e186\"],[0.8,\"#7fbc41\"],[0.9,\"#4d9221\"],[1,\"#276419\"]]},\"xaxis\":{\"gridcolor\":\"white\",\"linecolor\":\"white\",\"ticks\":\"\",\"title\":{\"standoff\":15},\"zerolinecolor\":\"white\",\"automargin\":true,\"zerolinewidth\":2},\"yaxis\":{\"gridcolor\":\"white\",\"linecolor\":\"white\",\"ticks\":\"\",\"title\":{\"standoff\":15},\"zerolinecolor\":\"white\",\"automargin\":true,\"zerolinewidth\":2},\"scene\":{\"xaxis\":{\"backgroundcolor\":\"#E5ECF6\",\"gridcolor\":\"white\",\"linecolor\":\"white\",\"showbackground\":true,\"ticks\":\"\",\"zerolinecolor\":\"white\",\"gridwidth\":2},\"yaxis\":{\"backgroundcolor\":\"#E5ECF6\",\"gridcolor\":\"white\",\"linecolor\":\"white\",\"showbackground\":true,\"ticks\":\"\",\"zerolinecolor\":\"white\",\"gridwidth\":2},\"zaxis\":{\"backgroundcolor\":\"#E5ECF6\",\"gridcolor\":\"white\",\"linecolor\":\"white\",\"showbackground\":true,\"ticks\":\"\",\"zerolinecolor\":\"white\",\"gridwidth\":2}},\"shapedefaults\":{\"line\":{\"color\":\"#2a3f5f\"}},\"annotationdefaults\":{\"arrowcolor\":\"#2a3f5f\",\"arrowhead\":0,\"arrowwidth\":1},\"geo\":{\"bgcolor\":\"white\",\"landcolor\":\"#E5ECF6\",\"subunitcolor\":\"white\",\"showland\":true,\"showlakes\":true,\"lakecolor\":\"white\"},\"title\":{\"x\":0.05},\"mapbox\":{\"style\":\"light\"}}},\"title\":{\"text\":\"Agricultural contribution to GDP over Time (Annual)\"},\"xaxis\":{\"title\":{\"text\":\"Index\"}},\"yaxis\":{\"title\":{\"text\":\"Agriculture\"}}},                        {\"responsive\": true}                    ).then(function(){\n",
       "                            \n",
       "var gd = document.getElementById('8832d1df-2a53-4552-9eee-60257b42e038');\n",
       "var x = new MutationObserver(function (mutations, observer) {{\n",
       "        var display = window.getComputedStyle(gd).display;\n",
       "        if (!display || display === 'none') {{\n",
       "            console.log([gd, 'removed!']);\n",
       "            Plotly.purge(gd);\n",
       "            observer.disconnect();\n",
       "        }}\n",
       "}});\n",
       "\n",
       "// Listen for the removal of the full notebook cells\n",
       "var notebookContainer = gd.closest('#notebook-container');\n",
       "if (notebookContainer) {{\n",
       "    x.observe(notebookContainer, {childList: true});\n",
       "}}\n",
       "\n",
       "// Listen for the clearing of the current output cell\n",
       "var outputEl = gd.closest('.output');\n",
       "if (outputEl) {{\n",
       "    x.observe(outputEl, {childList: true});\n",
       "}}\n",
       "\n",
       "                        })                };                });            </script>        </div>"
      ]
     },
     "metadata": {},
     "output_type": "display_data"
    }
   ],
   "source": [
    "# Filter the dataframe for annual data\n",
    "annual_df = agric_df[agric_df['Period'] == 'Annual']\n",
    "\n",
    "# Line Plot\n",
    "fig = go.Figure()\n",
    "fig.add_trace(go.Scatter(x=annual_df.index, y=annual_df['GDP_Agriculture'], mode='lines', name='GDP_Agriculture'))\n",
    "fig.update_layout(title='Agricultural contribution to GDP over Time (Annual)', xaxis_title='Index', yaxis_title='GDP_Agriculture')\n",
    "fig.show()\n",
    "\n",
    "# Bar Chart\n",
    "fig = go.Figure()\n",
    "fig.add_trace(go.Bar(x=annual_df.index, y=annual_df['Agriculture'], name='Agriculture'))\n",
    "fig.update_layout(title='Agricultural contribution to GDP over Time (Annual)', xaxis_title='Index', yaxis_title='Agriculture')\n",
    "fig.show()"
   ]
  },
  {
   "cell_type": "code",
   "execution_count": 49,
   "id": "a4004864",
   "metadata": {},
   "outputs": [
    {
     "data": {
      "application/vnd.plotly.v1+json": {
       "config": {
        "plotlyServerURL": "https://plot.ly"
       },
       "data": [
        {
         "mode": "lines",
         "name": "CropProduction",
         "type": "scatter",
         "x": [
          1981,
          1982,
          1983,
          1984,
          1985,
          1986,
          1987,
          1988,
          1989,
          1990,
          1991,
          1992,
          1993,
          1994,
          1995,
          1996,
          1997,
          1998,
          1999,
          2000,
          2001,
          2002,
          2003,
          2004,
          2005,
          2006,
          2007,
          2008,
          2009,
          2010,
          2011,
          2012,
          2013,
          2014,
          2015,
          2016,
          2017,
          2018,
          2019,
          2020,
          2021,
          2022
         ],
         "y": [
          1854.76,
          1897.08,
          1842.7,
          1759.12,
          2180.91,
          2427.1,
          2330,
          2581.6,
          2710.67,
          2828.59,
          2955.88,
          3044.55,
          3132.84,
          3226.83,
          3336.54,
          3463,
          3611.91,
          3752.77,
          3949.42,
          4067.9,
          4222.48,
          6977.88,
          7493.02,
          7956.66,
          8524.15,
          9162.65,
          9826.77,
          10437.99,
          11046.16,
          11683.9,
          12017.19,
          12919.54,
          13247.8,
          13793.45,
          14274.94,
          14894.45,
          15437.05,
          15786.44,
          16181.99,
          16544.52,
          16920.52,
          17260.75
         ]
        },
        {
         "mode": "lines",
         "name": "Livestock",
         "type": "scatter",
         "x": [
          1981,
          1982,
          1983,
          1984,
          1985,
          1986,
          1987,
          1988,
          1989,
          1990,
          1991,
          1992,
          1993,
          1994,
          1995,
          1996,
          1997,
          1998,
          1999,
          2000,
          2001,
          2002,
          2003,
          2004,
          2005,
          2006,
          2007,
          2008,
          2009,
          2010,
          2011,
          2012,
          2013,
          2014,
          2015,
          2016,
          2017,
          2018,
          2019,
          2020,
          2021,
          2022
         ],
         "y": [
          341.41,
          361.12,
          393.13,
          399.69,
          428.1,
          421.63,
          433.43,
          444.27,
          453.16,
          462.22,
          454.82,
          458.92,
          461.67,
          466.29,
          485.87,
          499.96,
          512.46,
          526.3,
          541.03,
          553.48,
          570.08,
          597.5,
          622.56,
          663.03,
          707.87,
          756.73,
          809.16,
          864.19,
          920.2,
          979.56,
          999.4,
          972.76,
          1030.94,
          1086.85,
          1151.32,
          1185.12,
          1204.21,
          1208.13,
          1210.06,
          1233.11,
          1240.22,
          1247.72
         ]
        },
        {
         "mode": "lines",
         "name": "Forestry",
         "type": "scatter",
         "x": [
          1981,
          1982,
          1983,
          1984,
          1985,
          1986,
          1987,
          1988,
          1989,
          1990,
          1991,
          1992,
          1993,
          1994,
          1995,
          1996,
          1997,
          1998,
          1999,
          2000,
          2001,
          2002,
          2003,
          2004,
          2005,
          2006,
          2007,
          2008,
          2009,
          2010,
          2011,
          2012,
          2013,
          2014,
          2015,
          2016,
          2017,
          2018,
          2019,
          2020,
          2021,
          2022
         ],
         "y": [
          77.9,
          73.91,
          75.28,
          76.69,
          78.08,
          86.59,
          87.59,
          88.91,
          67.31,
          72.61,
          74.79,
          76.51,
          78.04,
          80.07,
          81.83,
          82.24,
          82.98,
          83.98,
          85.07,
          86.35,
          88.07,
          88.69,
          90.02,
          95.87,
          101.55,
          107.66,
          114.25,
          121.22,
          128.31,
          135.72,
          142.46,
          146.09,
          154.31,
          161.34,
          167.26,
          171.64,
          177.33,
          182.75,
          187.47,
          190.51,
          193.22,
          196.36
         ]
        },
        {
         "mode": "lines",
         "name": "Fishing",
         "type": "scatter",
         "x": [
          1981,
          1982,
          1983,
          1984,
          1985,
          1986,
          1987,
          1988,
          1989,
          1990,
          1991,
          1992,
          1993,
          1994,
          1995,
          1996,
          1997,
          1998,
          1999,
          2000,
          2001,
          2002,
          2003,
          2004,
          2005,
          2006,
          2007,
          2008,
          2009,
          2010,
          2011,
          2012,
          2013,
          2014,
          2015,
          2016,
          2017,
          2018,
          2019,
          2020,
          2021,
          2022
         ],
         "y": [
          90.3,
          93.86,
          97.96,
          68.01,
          43.97,
          51.51,
          40.65,
          59.79,
          94.81,
          101.29,
          105.35,
          94.81,
          71.11,
          66.49,
          73.14,
          88.35,
          98.33,
          112.2,
          128.12,
          133.25,
          143.91,
          153.02,
          159.23,
          173.02,
          183.43,
          195.43,
          208.29,
          221.97,
          235.66,
          249.71,
          270.32,
          291.31,
          317.47,
          338.75,
          358.7,
          356.13,
          360.91,
          366.83,
          379.06,
          380.03,
          384.45,
          386.24
         ]
        }
       ],
       "layout": {
        "template": {
         "data": {
          "bar": [
           {
            "error_x": {
             "color": "#2a3f5f"
            },
            "error_y": {
             "color": "#2a3f5f"
            },
            "marker": {
             "line": {
              "color": "#E5ECF6",
              "width": 0.5
             },
             "pattern": {
              "fillmode": "overlay",
              "size": 10,
              "solidity": 0.2
             }
            },
            "type": "bar"
           }
          ],
          "barpolar": [
           {
            "marker": {
             "line": {
              "color": "#E5ECF6",
              "width": 0.5
             },
             "pattern": {
              "fillmode": "overlay",
              "size": 10,
              "solidity": 0.2
             }
            },
            "type": "barpolar"
           }
          ],
          "carpet": [
           {
            "aaxis": {
             "endlinecolor": "#2a3f5f",
             "gridcolor": "white",
             "linecolor": "white",
             "minorgridcolor": "white",
             "startlinecolor": "#2a3f5f"
            },
            "baxis": {
             "endlinecolor": "#2a3f5f",
             "gridcolor": "white",
             "linecolor": "white",
             "minorgridcolor": "white",
             "startlinecolor": "#2a3f5f"
            },
            "type": "carpet"
           }
          ],
          "choropleth": [
           {
            "colorbar": {
             "outlinewidth": 0,
             "ticks": ""
            },
            "type": "choropleth"
           }
          ],
          "contour": [
           {
            "colorbar": {
             "outlinewidth": 0,
             "ticks": ""
            },
            "colorscale": [
             [
              0,
              "#0d0887"
             ],
             [
              0.1111111111111111,
              "#46039f"
             ],
             [
              0.2222222222222222,
              "#7201a8"
             ],
             [
              0.3333333333333333,
              "#9c179e"
             ],
             [
              0.4444444444444444,
              "#bd3786"
             ],
             [
              0.5555555555555556,
              "#d8576b"
             ],
             [
              0.6666666666666666,
              "#ed7953"
             ],
             [
              0.7777777777777778,
              "#fb9f3a"
             ],
             [
              0.8888888888888888,
              "#fdca26"
             ],
             [
              1,
              "#f0f921"
             ]
            ],
            "type": "contour"
           }
          ],
          "contourcarpet": [
           {
            "colorbar": {
             "outlinewidth": 0,
             "ticks": ""
            },
            "type": "contourcarpet"
           }
          ],
          "heatmap": [
           {
            "colorbar": {
             "outlinewidth": 0,
             "ticks": ""
            },
            "colorscale": [
             [
              0,
              "#0d0887"
             ],
             [
              0.1111111111111111,
              "#46039f"
             ],
             [
              0.2222222222222222,
              "#7201a8"
             ],
             [
              0.3333333333333333,
              "#9c179e"
             ],
             [
              0.4444444444444444,
              "#bd3786"
             ],
             [
              0.5555555555555556,
              "#d8576b"
             ],
             [
              0.6666666666666666,
              "#ed7953"
             ],
             [
              0.7777777777777778,
              "#fb9f3a"
             ],
             [
              0.8888888888888888,
              "#fdca26"
             ],
             [
              1,
              "#f0f921"
             ]
            ],
            "type": "heatmap"
           }
          ],
          "heatmapgl": [
           {
            "colorbar": {
             "outlinewidth": 0,
             "ticks": ""
            },
            "colorscale": [
             [
              0,
              "#0d0887"
             ],
             [
              0.1111111111111111,
              "#46039f"
             ],
             [
              0.2222222222222222,
              "#7201a8"
             ],
             [
              0.3333333333333333,
              "#9c179e"
             ],
             [
              0.4444444444444444,
              "#bd3786"
             ],
             [
              0.5555555555555556,
              "#d8576b"
             ],
             [
              0.6666666666666666,
              "#ed7953"
             ],
             [
              0.7777777777777778,
              "#fb9f3a"
             ],
             [
              0.8888888888888888,
              "#fdca26"
             ],
             [
              1,
              "#f0f921"
             ]
            ],
            "type": "heatmapgl"
           }
          ],
          "histogram": [
           {
            "marker": {
             "pattern": {
              "fillmode": "overlay",
              "size": 10,
              "solidity": 0.2
             }
            },
            "type": "histogram"
           }
          ],
          "histogram2d": [
           {
            "colorbar": {
             "outlinewidth": 0,
             "ticks": ""
            },
            "colorscale": [
             [
              0,
              "#0d0887"
             ],
             [
              0.1111111111111111,
              "#46039f"
             ],
             [
              0.2222222222222222,
              "#7201a8"
             ],
             [
              0.3333333333333333,
              "#9c179e"
             ],
             [
              0.4444444444444444,
              "#bd3786"
             ],
             [
              0.5555555555555556,
              "#d8576b"
             ],
             [
              0.6666666666666666,
              "#ed7953"
             ],
             [
              0.7777777777777778,
              "#fb9f3a"
             ],
             [
              0.8888888888888888,
              "#fdca26"
             ],
             [
              1,
              "#f0f921"
             ]
            ],
            "type": "histogram2d"
           }
          ],
          "histogram2dcontour": [
           {
            "colorbar": {
             "outlinewidth": 0,
             "ticks": ""
            },
            "colorscale": [
             [
              0,
              "#0d0887"
             ],
             [
              0.1111111111111111,
              "#46039f"
             ],
             [
              0.2222222222222222,
              "#7201a8"
             ],
             [
              0.3333333333333333,
              "#9c179e"
             ],
             [
              0.4444444444444444,
              "#bd3786"
             ],
             [
              0.5555555555555556,
              "#d8576b"
             ],
             [
              0.6666666666666666,
              "#ed7953"
             ],
             [
              0.7777777777777778,
              "#fb9f3a"
             ],
             [
              0.8888888888888888,
              "#fdca26"
             ],
             [
              1,
              "#f0f921"
             ]
            ],
            "type": "histogram2dcontour"
           }
          ],
          "mesh3d": [
           {
            "colorbar": {
             "outlinewidth": 0,
             "ticks": ""
            },
            "type": "mesh3d"
           }
          ],
          "parcoords": [
           {
            "line": {
             "colorbar": {
              "outlinewidth": 0,
              "ticks": ""
             }
            },
            "type": "parcoords"
           }
          ],
          "pie": [
           {
            "automargin": true,
            "type": "pie"
           }
          ],
          "scatter": [
           {
            "fillpattern": {
             "fillmode": "overlay",
             "size": 10,
             "solidity": 0.2
            },
            "type": "scatter"
           }
          ],
          "scatter3d": [
           {
            "line": {
             "colorbar": {
              "outlinewidth": 0,
              "ticks": ""
             }
            },
            "marker": {
             "colorbar": {
              "outlinewidth": 0,
              "ticks": ""
             }
            },
            "type": "scatter3d"
           }
          ],
          "scattercarpet": [
           {
            "marker": {
             "colorbar": {
              "outlinewidth": 0,
              "ticks": ""
             }
            },
            "type": "scattercarpet"
           }
          ],
          "scattergeo": [
           {
            "marker": {
             "colorbar": {
              "outlinewidth": 0,
              "ticks": ""
             }
            },
            "type": "scattergeo"
           }
          ],
          "scattergl": [
           {
            "marker": {
             "colorbar": {
              "outlinewidth": 0,
              "ticks": ""
             }
            },
            "type": "scattergl"
           }
          ],
          "scattermapbox": [
           {
            "marker": {
             "colorbar": {
              "outlinewidth": 0,
              "ticks": ""
             }
            },
            "type": "scattermapbox"
           }
          ],
          "scatterpolar": [
           {
            "marker": {
             "colorbar": {
              "outlinewidth": 0,
              "ticks": ""
             }
            },
            "type": "scatterpolar"
           }
          ],
          "scatterpolargl": [
           {
            "marker": {
             "colorbar": {
              "outlinewidth": 0,
              "ticks": ""
             }
            },
            "type": "scatterpolargl"
           }
          ],
          "scatterternary": [
           {
            "marker": {
             "colorbar": {
              "outlinewidth": 0,
              "ticks": ""
             }
            },
            "type": "scatterternary"
           }
          ],
          "surface": [
           {
            "colorbar": {
             "outlinewidth": 0,
             "ticks": ""
            },
            "colorscale": [
             [
              0,
              "#0d0887"
             ],
             [
              0.1111111111111111,
              "#46039f"
             ],
             [
              0.2222222222222222,
              "#7201a8"
             ],
             [
              0.3333333333333333,
              "#9c179e"
             ],
             [
              0.4444444444444444,
              "#bd3786"
             ],
             [
              0.5555555555555556,
              "#d8576b"
             ],
             [
              0.6666666666666666,
              "#ed7953"
             ],
             [
              0.7777777777777778,
              "#fb9f3a"
             ],
             [
              0.8888888888888888,
              "#fdca26"
             ],
             [
              1,
              "#f0f921"
             ]
            ],
            "type": "surface"
           }
          ],
          "table": [
           {
            "cells": {
             "fill": {
              "color": "#EBF0F8"
             },
             "line": {
              "color": "white"
             }
            },
            "header": {
             "fill": {
              "color": "#C8D4E3"
             },
             "line": {
              "color": "white"
             }
            },
            "type": "table"
           }
          ]
         },
         "layout": {
          "annotationdefaults": {
           "arrowcolor": "#2a3f5f",
           "arrowhead": 0,
           "arrowwidth": 1
          },
          "autotypenumbers": "strict",
          "coloraxis": {
           "colorbar": {
            "outlinewidth": 0,
            "ticks": ""
           }
          },
          "colorscale": {
           "diverging": [
            [
             0,
             "#8e0152"
            ],
            [
             0.1,
             "#c51b7d"
            ],
            [
             0.2,
             "#de77ae"
            ],
            [
             0.3,
             "#f1b6da"
            ],
            [
             0.4,
             "#fde0ef"
            ],
            [
             0.5,
             "#f7f7f7"
            ],
            [
             0.6,
             "#e6f5d0"
            ],
            [
             0.7,
             "#b8e186"
            ],
            [
             0.8,
             "#7fbc41"
            ],
            [
             0.9,
             "#4d9221"
            ],
            [
             1,
             "#276419"
            ]
           ],
           "sequential": [
            [
             0,
             "#0d0887"
            ],
            [
             0.1111111111111111,
             "#46039f"
            ],
            [
             0.2222222222222222,
             "#7201a8"
            ],
            [
             0.3333333333333333,
             "#9c179e"
            ],
            [
             0.4444444444444444,
             "#bd3786"
            ],
            [
             0.5555555555555556,
             "#d8576b"
            ],
            [
             0.6666666666666666,
             "#ed7953"
            ],
            [
             0.7777777777777778,
             "#fb9f3a"
            ],
            [
             0.8888888888888888,
             "#fdca26"
            ],
            [
             1,
             "#f0f921"
            ]
           ],
           "sequentialminus": [
            [
             0,
             "#0d0887"
            ],
            [
             0.1111111111111111,
             "#46039f"
            ],
            [
             0.2222222222222222,
             "#7201a8"
            ],
            [
             0.3333333333333333,
             "#9c179e"
            ],
            [
             0.4444444444444444,
             "#bd3786"
            ],
            [
             0.5555555555555556,
             "#d8576b"
            ],
            [
             0.6666666666666666,
             "#ed7953"
            ],
            [
             0.7777777777777778,
             "#fb9f3a"
            ],
            [
             0.8888888888888888,
             "#fdca26"
            ],
            [
             1,
             "#f0f921"
            ]
           ]
          },
          "colorway": [
           "#636efa",
           "#EF553B",
           "#00cc96",
           "#ab63fa",
           "#FFA15A",
           "#19d3f3",
           "#FF6692",
           "#B6E880",
           "#FF97FF",
           "#FECB52"
          ],
          "font": {
           "color": "#2a3f5f"
          },
          "geo": {
           "bgcolor": "white",
           "lakecolor": "white",
           "landcolor": "#E5ECF6",
           "showlakes": true,
           "showland": true,
           "subunitcolor": "white"
          },
          "hoverlabel": {
           "align": "left"
          },
          "hovermode": "closest",
          "mapbox": {
           "style": "light"
          },
          "paper_bgcolor": "white",
          "plot_bgcolor": "#E5ECF6",
          "polar": {
           "angularaxis": {
            "gridcolor": "white",
            "linecolor": "white",
            "ticks": ""
           },
           "bgcolor": "#E5ECF6",
           "radialaxis": {
            "gridcolor": "white",
            "linecolor": "white",
            "ticks": ""
           }
          },
          "scene": {
           "xaxis": {
            "backgroundcolor": "#E5ECF6",
            "gridcolor": "white",
            "gridwidth": 2,
            "linecolor": "white",
            "showbackground": true,
            "ticks": "",
            "zerolinecolor": "white"
           },
           "yaxis": {
            "backgroundcolor": "#E5ECF6",
            "gridcolor": "white",
            "gridwidth": 2,
            "linecolor": "white",
            "showbackground": true,
            "ticks": "",
            "zerolinecolor": "white"
           },
           "zaxis": {
            "backgroundcolor": "#E5ECF6",
            "gridcolor": "white",
            "gridwidth": 2,
            "linecolor": "white",
            "showbackground": true,
            "ticks": "",
            "zerolinecolor": "white"
           }
          },
          "shapedefaults": {
           "line": {
            "color": "#2a3f5f"
           }
          },
          "ternary": {
           "aaxis": {
            "gridcolor": "white",
            "linecolor": "white",
            "ticks": ""
           },
           "baxis": {
            "gridcolor": "white",
            "linecolor": "white",
            "ticks": ""
           },
           "bgcolor": "#E5ECF6",
           "caxis": {
            "gridcolor": "white",
            "linecolor": "white",
            "ticks": ""
           }
          },
          "title": {
           "x": 0.05
          },
          "xaxis": {
           "automargin": true,
           "gridcolor": "white",
           "linecolor": "white",
           "ticks": "",
           "title": {
            "standoff": 15
           },
           "zerolinecolor": "white",
           "zerolinewidth": 2
          },
          "yaxis": {
           "automargin": true,
           "gridcolor": "white",
           "linecolor": "white",
           "ticks": "",
           "title": {
            "standoff": 15
           },
           "zerolinecolor": "white",
           "zerolinewidth": 2
          }
         }
        },
        "title": {
         "text": "GDP Trend over Time for Different Sectors within Agriculture (Annual)"
        },
        "xaxis": {
         "title": {
          "text": "Index"
         }
        },
        "yaxis": {
         "title": {
          "text": "GDP"
         }
        }
       }
      },
      "text/html": [
       "<div>                            <div id=\"bf4426c5-6c26-40bb-a7dc-74ff94bd2d91\" class=\"plotly-graph-div\" style=\"height:525px; width:100%;\"></div>            <script type=\"text/javascript\">                require([\"plotly\"], function(Plotly) {                    window.PLOTLYENV=window.PLOTLYENV || {};                                    if (document.getElementById(\"bf4426c5-6c26-40bb-a7dc-74ff94bd2d91\")) {                    Plotly.newPlot(                        \"bf4426c5-6c26-40bb-a7dc-74ff94bd2d91\",                        [{\"mode\":\"lines\",\"name\":\"CropProduction\",\"x\":[1981,1982,1983,1984,1985,1986,1987,1988,1989,1990,1991,1992,1993,1994,1995,1996,1997,1998,1999,2000,2001,2002,2003,2004,2005,2006,2007,2008,2009,2010,2011,2012,2013,2014,2015,2016,2017,2018,2019,2020,2021,2022],\"y\":[1854.76,1897.08,1842.7,1759.12,2180.91,2427.1,2330.0,2581.6,2710.67,2828.59,2955.88,3044.55,3132.84,3226.83,3336.54,3463.0,3611.91,3752.77,3949.42,4067.9,4222.48,6977.88,7493.02,7956.66,8524.15,9162.65,9826.77,10437.99,11046.16,11683.9,12017.19,12919.54,13247.8,13793.45,14274.94,14894.45,15437.05,15786.44,16181.99,16544.52,16920.52,17260.75],\"type\":\"scatter\"},{\"mode\":\"lines\",\"name\":\"Livestock\",\"x\":[1981,1982,1983,1984,1985,1986,1987,1988,1989,1990,1991,1992,1993,1994,1995,1996,1997,1998,1999,2000,2001,2002,2003,2004,2005,2006,2007,2008,2009,2010,2011,2012,2013,2014,2015,2016,2017,2018,2019,2020,2021,2022],\"y\":[341.41,361.12,393.13,399.69,428.1,421.63,433.43,444.27,453.16,462.22,454.82,458.92,461.67,466.29,485.87,499.96,512.46,526.3,541.03,553.48,570.08,597.5,622.56,663.03,707.87,756.73,809.16,864.19,920.2,979.56,999.4,972.76,1030.94,1086.85,1151.32,1185.12,1204.21,1208.13,1210.06,1233.11,1240.22,1247.72],\"type\":\"scatter\"},{\"mode\":\"lines\",\"name\":\"Forestry\",\"x\":[1981,1982,1983,1984,1985,1986,1987,1988,1989,1990,1991,1992,1993,1994,1995,1996,1997,1998,1999,2000,2001,2002,2003,2004,2005,2006,2007,2008,2009,2010,2011,2012,2013,2014,2015,2016,2017,2018,2019,2020,2021,2022],\"y\":[77.9,73.91,75.28,76.69,78.08,86.59,87.59,88.91,67.31,72.61,74.79,76.51,78.04,80.07,81.83,82.24,82.98,83.98,85.07,86.35,88.07,88.69,90.02,95.87,101.55,107.66,114.25,121.22,128.31,135.72,142.46,146.09,154.31,161.34,167.26,171.64,177.33,182.75,187.47,190.51,193.22,196.36],\"type\":\"scatter\"},{\"mode\":\"lines\",\"name\":\"Fishing\",\"x\":[1981,1982,1983,1984,1985,1986,1987,1988,1989,1990,1991,1992,1993,1994,1995,1996,1997,1998,1999,2000,2001,2002,2003,2004,2005,2006,2007,2008,2009,2010,2011,2012,2013,2014,2015,2016,2017,2018,2019,2020,2021,2022],\"y\":[90.3,93.86,97.96,68.01,43.97,51.51,40.65,59.79,94.81,101.29,105.35,94.81,71.11,66.49,73.14,88.35,98.33,112.2,128.12,133.25,143.91,153.02,159.23,173.02,183.43,195.43,208.29,221.97,235.66,249.71,270.32,291.31,317.47,338.75,358.7,356.13,360.91,366.83,379.06,380.03,384.45,386.24],\"type\":\"scatter\"}],                        {\"template\":{\"data\":{\"histogram2dcontour\":[{\"type\":\"histogram2dcontour\",\"colorbar\":{\"outlinewidth\":0,\"ticks\":\"\"},\"colorscale\":[[0.0,\"#0d0887\"],[0.1111111111111111,\"#46039f\"],[0.2222222222222222,\"#7201a8\"],[0.3333333333333333,\"#9c179e\"],[0.4444444444444444,\"#bd3786\"],[0.5555555555555556,\"#d8576b\"],[0.6666666666666666,\"#ed7953\"],[0.7777777777777778,\"#fb9f3a\"],[0.8888888888888888,\"#fdca26\"],[1.0,\"#f0f921\"]]}],\"choropleth\":[{\"type\":\"choropleth\",\"colorbar\":{\"outlinewidth\":0,\"ticks\":\"\"}}],\"histogram2d\":[{\"type\":\"histogram2d\",\"colorbar\":{\"outlinewidth\":0,\"ticks\":\"\"},\"colorscale\":[[0.0,\"#0d0887\"],[0.1111111111111111,\"#46039f\"],[0.2222222222222222,\"#7201a8\"],[0.3333333333333333,\"#9c179e\"],[0.4444444444444444,\"#bd3786\"],[0.5555555555555556,\"#d8576b\"],[0.6666666666666666,\"#ed7953\"],[0.7777777777777778,\"#fb9f3a\"],[0.8888888888888888,\"#fdca26\"],[1.0,\"#f0f921\"]]}],\"heatmap\":[{\"type\":\"heatmap\",\"colorbar\":{\"outlinewidth\":0,\"ticks\":\"\"},\"colorscale\":[[0.0,\"#0d0887\"],[0.1111111111111111,\"#46039f\"],[0.2222222222222222,\"#7201a8\"],[0.3333333333333333,\"#9c179e\"],[0.4444444444444444,\"#bd3786\"],[0.5555555555555556,\"#d8576b\"],[0.6666666666666666,\"#ed7953\"],[0.7777777777777778,\"#fb9f3a\"],[0.8888888888888888,\"#fdca26\"],[1.0,\"#f0f921\"]]}],\"heatmapgl\":[{\"type\":\"heatmapgl\",\"colorbar\":{\"outlinewidth\":0,\"ticks\":\"\"},\"colorscale\":[[0.0,\"#0d0887\"],[0.1111111111111111,\"#46039f\"],[0.2222222222222222,\"#7201a8\"],[0.3333333333333333,\"#9c179e\"],[0.4444444444444444,\"#bd3786\"],[0.5555555555555556,\"#d8576b\"],[0.6666666666666666,\"#ed7953\"],[0.7777777777777778,\"#fb9f3a\"],[0.8888888888888888,\"#fdca26\"],[1.0,\"#f0f921\"]]}],\"contourcarpet\":[{\"type\":\"contourcarpet\",\"colorbar\":{\"outlinewidth\":0,\"ticks\":\"\"}}],\"contour\":[{\"type\":\"contour\",\"colorbar\":{\"outlinewidth\":0,\"ticks\":\"\"},\"colorscale\":[[0.0,\"#0d0887\"],[0.1111111111111111,\"#46039f\"],[0.2222222222222222,\"#7201a8\"],[0.3333333333333333,\"#9c179e\"],[0.4444444444444444,\"#bd3786\"],[0.5555555555555556,\"#d8576b\"],[0.6666666666666666,\"#ed7953\"],[0.7777777777777778,\"#fb9f3a\"],[0.8888888888888888,\"#fdca26\"],[1.0,\"#f0f921\"]]}],\"surface\":[{\"type\":\"surface\",\"colorbar\":{\"outlinewidth\":0,\"ticks\":\"\"},\"colorscale\":[[0.0,\"#0d0887\"],[0.1111111111111111,\"#46039f\"],[0.2222222222222222,\"#7201a8\"],[0.3333333333333333,\"#9c179e\"],[0.4444444444444444,\"#bd3786\"],[0.5555555555555556,\"#d8576b\"],[0.6666666666666666,\"#ed7953\"],[0.7777777777777778,\"#fb9f3a\"],[0.8888888888888888,\"#fdca26\"],[1.0,\"#f0f921\"]]}],\"mesh3d\":[{\"type\":\"mesh3d\",\"colorbar\":{\"outlinewidth\":0,\"ticks\":\"\"}}],\"scatter\":[{\"fillpattern\":{\"fillmode\":\"overlay\",\"size\":10,\"solidity\":0.2},\"type\":\"scatter\"}],\"parcoords\":[{\"type\":\"parcoords\",\"line\":{\"colorbar\":{\"outlinewidth\":0,\"ticks\":\"\"}}}],\"scatterpolargl\":[{\"type\":\"scatterpolargl\",\"marker\":{\"colorbar\":{\"outlinewidth\":0,\"ticks\":\"\"}}}],\"bar\":[{\"error_x\":{\"color\":\"#2a3f5f\"},\"error_y\":{\"color\":\"#2a3f5f\"},\"marker\":{\"line\":{\"color\":\"#E5ECF6\",\"width\":0.5},\"pattern\":{\"fillmode\":\"overlay\",\"size\":10,\"solidity\":0.2}},\"type\":\"bar\"}],\"scattergeo\":[{\"type\":\"scattergeo\",\"marker\":{\"colorbar\":{\"outlinewidth\":0,\"ticks\":\"\"}}}],\"scatterpolar\":[{\"type\":\"scatterpolar\",\"marker\":{\"colorbar\":{\"outlinewidth\":0,\"ticks\":\"\"}}}],\"histogram\":[{\"marker\":{\"pattern\":{\"fillmode\":\"overlay\",\"size\":10,\"solidity\":0.2}},\"type\":\"histogram\"}],\"scattergl\":[{\"type\":\"scattergl\",\"marker\":{\"colorbar\":{\"outlinewidth\":0,\"ticks\":\"\"}}}],\"scatter3d\":[{\"type\":\"scatter3d\",\"line\":{\"colorbar\":{\"outlinewidth\":0,\"ticks\":\"\"}},\"marker\":{\"colorbar\":{\"outlinewidth\":0,\"ticks\":\"\"}}}],\"scattermapbox\":[{\"type\":\"scattermapbox\",\"marker\":{\"colorbar\":{\"outlinewidth\":0,\"ticks\":\"\"}}}],\"scatterternary\":[{\"type\":\"scatterternary\",\"marker\":{\"colorbar\":{\"outlinewidth\":0,\"ticks\":\"\"}}}],\"scattercarpet\":[{\"type\":\"scattercarpet\",\"marker\":{\"colorbar\":{\"outlinewidth\":0,\"ticks\":\"\"}}}],\"carpet\":[{\"aaxis\":{\"endlinecolor\":\"#2a3f5f\",\"gridcolor\":\"white\",\"linecolor\":\"white\",\"minorgridcolor\":\"white\",\"startlinecolor\":\"#2a3f5f\"},\"baxis\":{\"endlinecolor\":\"#2a3f5f\",\"gridcolor\":\"white\",\"linecolor\":\"white\",\"minorgridcolor\":\"white\",\"startlinecolor\":\"#2a3f5f\"},\"type\":\"carpet\"}],\"table\":[{\"cells\":{\"fill\":{\"color\":\"#EBF0F8\"},\"line\":{\"color\":\"white\"}},\"header\":{\"fill\":{\"color\":\"#C8D4E3\"},\"line\":{\"color\":\"white\"}},\"type\":\"table\"}],\"barpolar\":[{\"marker\":{\"line\":{\"color\":\"#E5ECF6\",\"width\":0.5},\"pattern\":{\"fillmode\":\"overlay\",\"size\":10,\"solidity\":0.2}},\"type\":\"barpolar\"}],\"pie\":[{\"automargin\":true,\"type\":\"pie\"}]},\"layout\":{\"autotypenumbers\":\"strict\",\"colorway\":[\"#636efa\",\"#EF553B\",\"#00cc96\",\"#ab63fa\",\"#FFA15A\",\"#19d3f3\",\"#FF6692\",\"#B6E880\",\"#FF97FF\",\"#FECB52\"],\"font\":{\"color\":\"#2a3f5f\"},\"hovermode\":\"closest\",\"hoverlabel\":{\"align\":\"left\"},\"paper_bgcolor\":\"white\",\"plot_bgcolor\":\"#E5ECF6\",\"polar\":{\"bgcolor\":\"#E5ECF6\",\"angularaxis\":{\"gridcolor\":\"white\",\"linecolor\":\"white\",\"ticks\":\"\"},\"radialaxis\":{\"gridcolor\":\"white\",\"linecolor\":\"white\",\"ticks\":\"\"}},\"ternary\":{\"bgcolor\":\"#E5ECF6\",\"aaxis\":{\"gridcolor\":\"white\",\"linecolor\":\"white\",\"ticks\":\"\"},\"baxis\":{\"gridcolor\":\"white\",\"linecolor\":\"white\",\"ticks\":\"\"},\"caxis\":{\"gridcolor\":\"white\",\"linecolor\":\"white\",\"ticks\":\"\"}},\"coloraxis\":{\"colorbar\":{\"outlinewidth\":0,\"ticks\":\"\"}},\"colorscale\":{\"sequential\":[[0.0,\"#0d0887\"],[0.1111111111111111,\"#46039f\"],[0.2222222222222222,\"#7201a8\"],[0.3333333333333333,\"#9c179e\"],[0.4444444444444444,\"#bd3786\"],[0.5555555555555556,\"#d8576b\"],[0.6666666666666666,\"#ed7953\"],[0.7777777777777778,\"#fb9f3a\"],[0.8888888888888888,\"#fdca26\"],[1.0,\"#f0f921\"]],\"sequentialminus\":[[0.0,\"#0d0887\"],[0.1111111111111111,\"#46039f\"],[0.2222222222222222,\"#7201a8\"],[0.3333333333333333,\"#9c179e\"],[0.4444444444444444,\"#bd3786\"],[0.5555555555555556,\"#d8576b\"],[0.6666666666666666,\"#ed7953\"],[0.7777777777777778,\"#fb9f3a\"],[0.8888888888888888,\"#fdca26\"],[1.0,\"#f0f921\"]],\"diverging\":[[0,\"#8e0152\"],[0.1,\"#c51b7d\"],[0.2,\"#de77ae\"],[0.3,\"#f1b6da\"],[0.4,\"#fde0ef\"],[0.5,\"#f7f7f7\"],[0.6,\"#e6f5d0\"],[0.7,\"#b8e186\"],[0.8,\"#7fbc41\"],[0.9,\"#4d9221\"],[1,\"#276419\"]]},\"xaxis\":{\"gridcolor\":\"white\",\"linecolor\":\"white\",\"ticks\":\"\",\"title\":{\"standoff\":15},\"zerolinecolor\":\"white\",\"automargin\":true,\"zerolinewidth\":2},\"yaxis\":{\"gridcolor\":\"white\",\"linecolor\":\"white\",\"ticks\":\"\",\"title\":{\"standoff\":15},\"zerolinecolor\":\"white\",\"automargin\":true,\"zerolinewidth\":2},\"scene\":{\"xaxis\":{\"backgroundcolor\":\"#E5ECF6\",\"gridcolor\":\"white\",\"linecolor\":\"white\",\"showbackground\":true,\"ticks\":\"\",\"zerolinecolor\":\"white\",\"gridwidth\":2},\"yaxis\":{\"backgroundcolor\":\"#E5ECF6\",\"gridcolor\":\"white\",\"linecolor\":\"white\",\"showbackground\":true,\"ticks\":\"\",\"zerolinecolor\":\"white\",\"gridwidth\":2},\"zaxis\":{\"backgroundcolor\":\"#E5ECF6\",\"gridcolor\":\"white\",\"linecolor\":\"white\",\"showbackground\":true,\"ticks\":\"\",\"zerolinecolor\":\"white\",\"gridwidth\":2}},\"shapedefaults\":{\"line\":{\"color\":\"#2a3f5f\"}},\"annotationdefaults\":{\"arrowcolor\":\"#2a3f5f\",\"arrowhead\":0,\"arrowwidth\":1},\"geo\":{\"bgcolor\":\"white\",\"landcolor\":\"#E5ECF6\",\"subunitcolor\":\"white\",\"showland\":true,\"showlakes\":true,\"lakecolor\":\"white\"},\"title\":{\"x\":0.05},\"mapbox\":{\"style\":\"light\"}}},\"title\":{\"text\":\"GDP Trend over Time for Different Sectors within Agriculture (Annual)\"},\"xaxis\":{\"title\":{\"text\":\"Index\"}},\"yaxis\":{\"title\":{\"text\":\"GDP\"}}},                        {\"responsive\": true}                    ).then(function(){\n",
       "                            \n",
       "var gd = document.getElementById('bf4426c5-6c26-40bb-a7dc-74ff94bd2d91');\n",
       "var x = new MutationObserver(function (mutations, observer) {{\n",
       "        var display = window.getComputedStyle(gd).display;\n",
       "        if (!display || display === 'none') {{\n",
       "            console.log([gd, 'removed!']);\n",
       "            Plotly.purge(gd);\n",
       "            observer.disconnect();\n",
       "        }}\n",
       "}});\n",
       "\n",
       "// Listen for the removal of the full notebook cells\n",
       "var notebookContainer = gd.closest('#notebook-container');\n",
       "if (notebookContainer) {{\n",
       "    x.observe(notebookContainer, {childList: true});\n",
       "}}\n",
       "\n",
       "// Listen for the clearing of the current output cell\n",
       "var outputEl = gd.closest('.output');\n",
       "if (outputEl) {{\n",
       "    x.observe(outputEl, {childList: true});\n",
       "}}\n",
       "\n",
       "                        })                };                });            </script>        </div>"
      ]
     },
     "metadata": {},
     "output_type": "display_data"
    },
    {
     "data": {
      "application/vnd.plotly.v1+json": {
       "config": {
        "plotlyServerURL": "https://plot.ly"
       },
       "data": [
        {
         "name": "CropProduction",
         "type": "bar",
         "x": [
          1981,
          1982,
          1983,
          1984,
          1985,
          1986,
          1987,
          1988,
          1989,
          1990,
          1991,
          1992,
          1993,
          1994,
          1995,
          1996,
          1997,
          1998,
          1999,
          2000,
          2001,
          2002,
          2003,
          2004,
          2005,
          2006,
          2007,
          2008,
          2009,
          2010,
          2011,
          2012,
          2013,
          2014,
          2015,
          2016,
          2017,
          2018,
          2019,
          2020,
          2021,
          2022
         ],
         "y": [
          1854.76,
          1897.08,
          1842.7,
          1759.12,
          2180.91,
          2427.1,
          2330,
          2581.6,
          2710.67,
          2828.59,
          2955.88,
          3044.55,
          3132.84,
          3226.83,
          3336.54,
          3463,
          3611.91,
          3752.77,
          3949.42,
          4067.9,
          4222.48,
          6977.88,
          7493.02,
          7956.66,
          8524.15,
          9162.65,
          9826.77,
          10437.99,
          11046.16,
          11683.9,
          12017.19,
          12919.54,
          13247.8,
          13793.45,
          14274.94,
          14894.45,
          15437.05,
          15786.44,
          16181.99,
          16544.52,
          16920.52,
          17260.75
         ]
        },
        {
         "name": "Livestock",
         "type": "bar",
         "x": [
          1981,
          1982,
          1983,
          1984,
          1985,
          1986,
          1987,
          1988,
          1989,
          1990,
          1991,
          1992,
          1993,
          1994,
          1995,
          1996,
          1997,
          1998,
          1999,
          2000,
          2001,
          2002,
          2003,
          2004,
          2005,
          2006,
          2007,
          2008,
          2009,
          2010,
          2011,
          2012,
          2013,
          2014,
          2015,
          2016,
          2017,
          2018,
          2019,
          2020,
          2021,
          2022
         ],
         "y": [
          341.41,
          361.12,
          393.13,
          399.69,
          428.1,
          421.63,
          433.43,
          444.27,
          453.16,
          462.22,
          454.82,
          458.92,
          461.67,
          466.29,
          485.87,
          499.96,
          512.46,
          526.3,
          541.03,
          553.48,
          570.08,
          597.5,
          622.56,
          663.03,
          707.87,
          756.73,
          809.16,
          864.19,
          920.2,
          979.56,
          999.4,
          972.76,
          1030.94,
          1086.85,
          1151.32,
          1185.12,
          1204.21,
          1208.13,
          1210.06,
          1233.11,
          1240.22,
          1247.72
         ]
        },
        {
         "name": "Forestry",
         "type": "bar",
         "x": [
          1981,
          1982,
          1983,
          1984,
          1985,
          1986,
          1987,
          1988,
          1989,
          1990,
          1991,
          1992,
          1993,
          1994,
          1995,
          1996,
          1997,
          1998,
          1999,
          2000,
          2001,
          2002,
          2003,
          2004,
          2005,
          2006,
          2007,
          2008,
          2009,
          2010,
          2011,
          2012,
          2013,
          2014,
          2015,
          2016,
          2017,
          2018,
          2019,
          2020,
          2021,
          2022
         ],
         "y": [
          77.9,
          73.91,
          75.28,
          76.69,
          78.08,
          86.59,
          87.59,
          88.91,
          67.31,
          72.61,
          74.79,
          76.51,
          78.04,
          80.07,
          81.83,
          82.24,
          82.98,
          83.98,
          85.07,
          86.35,
          88.07,
          88.69,
          90.02,
          95.87,
          101.55,
          107.66,
          114.25,
          121.22,
          128.31,
          135.72,
          142.46,
          146.09,
          154.31,
          161.34,
          167.26,
          171.64,
          177.33,
          182.75,
          187.47,
          190.51,
          193.22,
          196.36
         ]
        },
        {
         "name": "Fishing",
         "type": "bar",
         "x": [
          1981,
          1982,
          1983,
          1984,
          1985,
          1986,
          1987,
          1988,
          1989,
          1990,
          1991,
          1992,
          1993,
          1994,
          1995,
          1996,
          1997,
          1998,
          1999,
          2000,
          2001,
          2002,
          2003,
          2004,
          2005,
          2006,
          2007,
          2008,
          2009,
          2010,
          2011,
          2012,
          2013,
          2014,
          2015,
          2016,
          2017,
          2018,
          2019,
          2020,
          2021,
          2022
         ],
         "y": [
          90.3,
          93.86,
          97.96,
          68.01,
          43.97,
          51.51,
          40.65,
          59.79,
          94.81,
          101.29,
          105.35,
          94.81,
          71.11,
          66.49,
          73.14,
          88.35,
          98.33,
          112.2,
          128.12,
          133.25,
          143.91,
          153.02,
          159.23,
          173.02,
          183.43,
          195.43,
          208.29,
          221.97,
          235.66,
          249.71,
          270.32,
          291.31,
          317.47,
          338.75,
          358.7,
          356.13,
          360.91,
          366.83,
          379.06,
          380.03,
          384.45,
          386.24
         ]
        }
       ],
       "layout": {
        "template": {
         "data": {
          "bar": [
           {
            "error_x": {
             "color": "#2a3f5f"
            },
            "error_y": {
             "color": "#2a3f5f"
            },
            "marker": {
             "line": {
              "color": "#E5ECF6",
              "width": 0.5
             },
             "pattern": {
              "fillmode": "overlay",
              "size": 10,
              "solidity": 0.2
             }
            },
            "type": "bar"
           }
          ],
          "barpolar": [
           {
            "marker": {
             "line": {
              "color": "#E5ECF6",
              "width": 0.5
             },
             "pattern": {
              "fillmode": "overlay",
              "size": 10,
              "solidity": 0.2
             }
            },
            "type": "barpolar"
           }
          ],
          "carpet": [
           {
            "aaxis": {
             "endlinecolor": "#2a3f5f",
             "gridcolor": "white",
             "linecolor": "white",
             "minorgridcolor": "white",
             "startlinecolor": "#2a3f5f"
            },
            "baxis": {
             "endlinecolor": "#2a3f5f",
             "gridcolor": "white",
             "linecolor": "white",
             "minorgridcolor": "white",
             "startlinecolor": "#2a3f5f"
            },
            "type": "carpet"
           }
          ],
          "choropleth": [
           {
            "colorbar": {
             "outlinewidth": 0,
             "ticks": ""
            },
            "type": "choropleth"
           }
          ],
          "contour": [
           {
            "colorbar": {
             "outlinewidth": 0,
             "ticks": ""
            },
            "colorscale": [
             [
              0,
              "#0d0887"
             ],
             [
              0.1111111111111111,
              "#46039f"
             ],
             [
              0.2222222222222222,
              "#7201a8"
             ],
             [
              0.3333333333333333,
              "#9c179e"
             ],
             [
              0.4444444444444444,
              "#bd3786"
             ],
             [
              0.5555555555555556,
              "#d8576b"
             ],
             [
              0.6666666666666666,
              "#ed7953"
             ],
             [
              0.7777777777777778,
              "#fb9f3a"
             ],
             [
              0.8888888888888888,
              "#fdca26"
             ],
             [
              1,
              "#f0f921"
             ]
            ],
            "type": "contour"
           }
          ],
          "contourcarpet": [
           {
            "colorbar": {
             "outlinewidth": 0,
             "ticks": ""
            },
            "type": "contourcarpet"
           }
          ],
          "heatmap": [
           {
            "colorbar": {
             "outlinewidth": 0,
             "ticks": ""
            },
            "colorscale": [
             [
              0,
              "#0d0887"
             ],
             [
              0.1111111111111111,
              "#46039f"
             ],
             [
              0.2222222222222222,
              "#7201a8"
             ],
             [
              0.3333333333333333,
              "#9c179e"
             ],
             [
              0.4444444444444444,
              "#bd3786"
             ],
             [
              0.5555555555555556,
              "#d8576b"
             ],
             [
              0.6666666666666666,
              "#ed7953"
             ],
             [
              0.7777777777777778,
              "#fb9f3a"
             ],
             [
              0.8888888888888888,
              "#fdca26"
             ],
             [
              1,
              "#f0f921"
             ]
            ],
            "type": "heatmap"
           }
          ],
          "heatmapgl": [
           {
            "colorbar": {
             "outlinewidth": 0,
             "ticks": ""
            },
            "colorscale": [
             [
              0,
              "#0d0887"
             ],
             [
              0.1111111111111111,
              "#46039f"
             ],
             [
              0.2222222222222222,
              "#7201a8"
             ],
             [
              0.3333333333333333,
              "#9c179e"
             ],
             [
              0.4444444444444444,
              "#bd3786"
             ],
             [
              0.5555555555555556,
              "#d8576b"
             ],
             [
              0.6666666666666666,
              "#ed7953"
             ],
             [
              0.7777777777777778,
              "#fb9f3a"
             ],
             [
              0.8888888888888888,
              "#fdca26"
             ],
             [
              1,
              "#f0f921"
             ]
            ],
            "type": "heatmapgl"
           }
          ],
          "histogram": [
           {
            "marker": {
             "pattern": {
              "fillmode": "overlay",
              "size": 10,
              "solidity": 0.2
             }
            },
            "type": "histogram"
           }
          ],
          "histogram2d": [
           {
            "colorbar": {
             "outlinewidth": 0,
             "ticks": ""
            },
            "colorscale": [
             [
              0,
              "#0d0887"
             ],
             [
              0.1111111111111111,
              "#46039f"
             ],
             [
              0.2222222222222222,
              "#7201a8"
             ],
             [
              0.3333333333333333,
              "#9c179e"
             ],
             [
              0.4444444444444444,
              "#bd3786"
             ],
             [
              0.5555555555555556,
              "#d8576b"
             ],
             [
              0.6666666666666666,
              "#ed7953"
             ],
             [
              0.7777777777777778,
              "#fb9f3a"
             ],
             [
              0.8888888888888888,
              "#fdca26"
             ],
             [
              1,
              "#f0f921"
             ]
            ],
            "type": "histogram2d"
           }
          ],
          "histogram2dcontour": [
           {
            "colorbar": {
             "outlinewidth": 0,
             "ticks": ""
            },
            "colorscale": [
             [
              0,
              "#0d0887"
             ],
             [
              0.1111111111111111,
              "#46039f"
             ],
             [
              0.2222222222222222,
              "#7201a8"
             ],
             [
              0.3333333333333333,
              "#9c179e"
             ],
             [
              0.4444444444444444,
              "#bd3786"
             ],
             [
              0.5555555555555556,
              "#d8576b"
             ],
             [
              0.6666666666666666,
              "#ed7953"
             ],
             [
              0.7777777777777778,
              "#fb9f3a"
             ],
             [
              0.8888888888888888,
              "#fdca26"
             ],
             [
              1,
              "#f0f921"
             ]
            ],
            "type": "histogram2dcontour"
           }
          ],
          "mesh3d": [
           {
            "colorbar": {
             "outlinewidth": 0,
             "ticks": ""
            },
            "type": "mesh3d"
           }
          ],
          "parcoords": [
           {
            "line": {
             "colorbar": {
              "outlinewidth": 0,
              "ticks": ""
             }
            },
            "type": "parcoords"
           }
          ],
          "pie": [
           {
            "automargin": true,
            "type": "pie"
           }
          ],
          "scatter": [
           {
            "fillpattern": {
             "fillmode": "overlay",
             "size": 10,
             "solidity": 0.2
            },
            "type": "scatter"
           }
          ],
          "scatter3d": [
           {
            "line": {
             "colorbar": {
              "outlinewidth": 0,
              "ticks": ""
             }
            },
            "marker": {
             "colorbar": {
              "outlinewidth": 0,
              "ticks": ""
             }
            },
            "type": "scatter3d"
           }
          ],
          "scattercarpet": [
           {
            "marker": {
             "colorbar": {
              "outlinewidth": 0,
              "ticks": ""
             }
            },
            "type": "scattercarpet"
           }
          ],
          "scattergeo": [
           {
            "marker": {
             "colorbar": {
              "outlinewidth": 0,
              "ticks": ""
             }
            },
            "type": "scattergeo"
           }
          ],
          "scattergl": [
           {
            "marker": {
             "colorbar": {
              "outlinewidth": 0,
              "ticks": ""
             }
            },
            "type": "scattergl"
           }
          ],
          "scattermapbox": [
           {
            "marker": {
             "colorbar": {
              "outlinewidth": 0,
              "ticks": ""
             }
            },
            "type": "scattermapbox"
           }
          ],
          "scatterpolar": [
           {
            "marker": {
             "colorbar": {
              "outlinewidth": 0,
              "ticks": ""
             }
            },
            "type": "scatterpolar"
           }
          ],
          "scatterpolargl": [
           {
            "marker": {
             "colorbar": {
              "outlinewidth": 0,
              "ticks": ""
             }
            },
            "type": "scatterpolargl"
           }
          ],
          "scatterternary": [
           {
            "marker": {
             "colorbar": {
              "outlinewidth": 0,
              "ticks": ""
             }
            },
            "type": "scatterternary"
           }
          ],
          "surface": [
           {
            "colorbar": {
             "outlinewidth": 0,
             "ticks": ""
            },
            "colorscale": [
             [
              0,
              "#0d0887"
             ],
             [
              0.1111111111111111,
              "#46039f"
             ],
             [
              0.2222222222222222,
              "#7201a8"
             ],
             [
              0.3333333333333333,
              "#9c179e"
             ],
             [
              0.4444444444444444,
              "#bd3786"
             ],
             [
              0.5555555555555556,
              "#d8576b"
             ],
             [
              0.6666666666666666,
              "#ed7953"
             ],
             [
              0.7777777777777778,
              "#fb9f3a"
             ],
             [
              0.8888888888888888,
              "#fdca26"
             ],
             [
              1,
              "#f0f921"
             ]
            ],
            "type": "surface"
           }
          ],
          "table": [
           {
            "cells": {
             "fill": {
              "color": "#EBF0F8"
             },
             "line": {
              "color": "white"
             }
            },
            "header": {
             "fill": {
              "color": "#C8D4E3"
             },
             "line": {
              "color": "white"
             }
            },
            "type": "table"
           }
          ]
         },
         "layout": {
          "annotationdefaults": {
           "arrowcolor": "#2a3f5f",
           "arrowhead": 0,
           "arrowwidth": 1
          },
          "autotypenumbers": "strict",
          "coloraxis": {
           "colorbar": {
            "outlinewidth": 0,
            "ticks": ""
           }
          },
          "colorscale": {
           "diverging": [
            [
             0,
             "#8e0152"
            ],
            [
             0.1,
             "#c51b7d"
            ],
            [
             0.2,
             "#de77ae"
            ],
            [
             0.3,
             "#f1b6da"
            ],
            [
             0.4,
             "#fde0ef"
            ],
            [
             0.5,
             "#f7f7f7"
            ],
            [
             0.6,
             "#e6f5d0"
            ],
            [
             0.7,
             "#b8e186"
            ],
            [
             0.8,
             "#7fbc41"
            ],
            [
             0.9,
             "#4d9221"
            ],
            [
             1,
             "#276419"
            ]
           ],
           "sequential": [
            [
             0,
             "#0d0887"
            ],
            [
             0.1111111111111111,
             "#46039f"
            ],
            [
             0.2222222222222222,
             "#7201a8"
            ],
            [
             0.3333333333333333,
             "#9c179e"
            ],
            [
             0.4444444444444444,
             "#bd3786"
            ],
            [
             0.5555555555555556,
             "#d8576b"
            ],
            [
             0.6666666666666666,
             "#ed7953"
            ],
            [
             0.7777777777777778,
             "#fb9f3a"
            ],
            [
             0.8888888888888888,
             "#fdca26"
            ],
            [
             1,
             "#f0f921"
            ]
           ],
           "sequentialminus": [
            [
             0,
             "#0d0887"
            ],
            [
             0.1111111111111111,
             "#46039f"
            ],
            [
             0.2222222222222222,
             "#7201a8"
            ],
            [
             0.3333333333333333,
             "#9c179e"
            ],
            [
             0.4444444444444444,
             "#bd3786"
            ],
            [
             0.5555555555555556,
             "#d8576b"
            ],
            [
             0.6666666666666666,
             "#ed7953"
            ],
            [
             0.7777777777777778,
             "#fb9f3a"
            ],
            [
             0.8888888888888888,
             "#fdca26"
            ],
            [
             1,
             "#f0f921"
            ]
           ]
          },
          "colorway": [
           "#636efa",
           "#EF553B",
           "#00cc96",
           "#ab63fa",
           "#FFA15A",
           "#19d3f3",
           "#FF6692",
           "#B6E880",
           "#FF97FF",
           "#FECB52"
          ],
          "font": {
           "color": "#2a3f5f"
          },
          "geo": {
           "bgcolor": "white",
           "lakecolor": "white",
           "landcolor": "#E5ECF6",
           "showlakes": true,
           "showland": true,
           "subunitcolor": "white"
          },
          "hoverlabel": {
           "align": "left"
          },
          "hovermode": "closest",
          "mapbox": {
           "style": "light"
          },
          "paper_bgcolor": "white",
          "plot_bgcolor": "#E5ECF6",
          "polar": {
           "angularaxis": {
            "gridcolor": "white",
            "linecolor": "white",
            "ticks": ""
           },
           "bgcolor": "#E5ECF6",
           "radialaxis": {
            "gridcolor": "white",
            "linecolor": "white",
            "ticks": ""
           }
          },
          "scene": {
           "xaxis": {
            "backgroundcolor": "#E5ECF6",
            "gridcolor": "white",
            "gridwidth": 2,
            "linecolor": "white",
            "showbackground": true,
            "ticks": "",
            "zerolinecolor": "white"
           },
           "yaxis": {
            "backgroundcolor": "#E5ECF6",
            "gridcolor": "white",
            "gridwidth": 2,
            "linecolor": "white",
            "showbackground": true,
            "ticks": "",
            "zerolinecolor": "white"
           },
           "zaxis": {
            "backgroundcolor": "#E5ECF6",
            "gridcolor": "white",
            "gridwidth": 2,
            "linecolor": "white",
            "showbackground": true,
            "ticks": "",
            "zerolinecolor": "white"
           }
          },
          "shapedefaults": {
           "line": {
            "color": "#2a3f5f"
           }
          },
          "ternary": {
           "aaxis": {
            "gridcolor": "white",
            "linecolor": "white",
            "ticks": ""
           },
           "baxis": {
            "gridcolor": "white",
            "linecolor": "white",
            "ticks": ""
           },
           "bgcolor": "#E5ECF6",
           "caxis": {
            "gridcolor": "white",
            "linecolor": "white",
            "ticks": ""
           }
          },
          "title": {
           "x": 0.05
          },
          "xaxis": {
           "automargin": true,
           "gridcolor": "white",
           "linecolor": "white",
           "ticks": "",
           "title": {
            "standoff": 15
           },
           "zerolinecolor": "white",
           "zerolinewidth": 2
          },
          "yaxis": {
           "automargin": true,
           "gridcolor": "white",
           "linecolor": "white",
           "ticks": "",
           "title": {
            "standoff": 15
           },
           "zerolinecolor": "white",
           "zerolinewidth": 2
          }
         }
        },
        "title": {
         "text": "GDP of Different Sectors within Agriculture over Time (Annual)"
        },
        "xaxis": {
         "title": {
          "text": "Index"
         }
        },
        "yaxis": {
         "title": {
          "text": "GDP"
         }
        }
       }
      },
      "text/html": [
       "<div>                            <div id=\"cec16fc6-ee7a-4af1-870f-4537ea86cdda\" class=\"plotly-graph-div\" style=\"height:525px; width:100%;\"></div>            <script type=\"text/javascript\">                require([\"plotly\"], function(Plotly) {                    window.PLOTLYENV=window.PLOTLYENV || {};                                    if (document.getElementById(\"cec16fc6-ee7a-4af1-870f-4537ea86cdda\")) {                    Plotly.newPlot(                        \"cec16fc6-ee7a-4af1-870f-4537ea86cdda\",                        [{\"name\":\"CropProduction\",\"x\":[1981,1982,1983,1984,1985,1986,1987,1988,1989,1990,1991,1992,1993,1994,1995,1996,1997,1998,1999,2000,2001,2002,2003,2004,2005,2006,2007,2008,2009,2010,2011,2012,2013,2014,2015,2016,2017,2018,2019,2020,2021,2022],\"y\":[1854.76,1897.08,1842.7,1759.12,2180.91,2427.1,2330.0,2581.6,2710.67,2828.59,2955.88,3044.55,3132.84,3226.83,3336.54,3463.0,3611.91,3752.77,3949.42,4067.9,4222.48,6977.88,7493.02,7956.66,8524.15,9162.65,9826.77,10437.99,11046.16,11683.9,12017.19,12919.54,13247.8,13793.45,14274.94,14894.45,15437.05,15786.44,16181.99,16544.52,16920.52,17260.75],\"type\":\"bar\"},{\"name\":\"Livestock\",\"x\":[1981,1982,1983,1984,1985,1986,1987,1988,1989,1990,1991,1992,1993,1994,1995,1996,1997,1998,1999,2000,2001,2002,2003,2004,2005,2006,2007,2008,2009,2010,2011,2012,2013,2014,2015,2016,2017,2018,2019,2020,2021,2022],\"y\":[341.41,361.12,393.13,399.69,428.1,421.63,433.43,444.27,453.16,462.22,454.82,458.92,461.67,466.29,485.87,499.96,512.46,526.3,541.03,553.48,570.08,597.5,622.56,663.03,707.87,756.73,809.16,864.19,920.2,979.56,999.4,972.76,1030.94,1086.85,1151.32,1185.12,1204.21,1208.13,1210.06,1233.11,1240.22,1247.72],\"type\":\"bar\"},{\"name\":\"Forestry\",\"x\":[1981,1982,1983,1984,1985,1986,1987,1988,1989,1990,1991,1992,1993,1994,1995,1996,1997,1998,1999,2000,2001,2002,2003,2004,2005,2006,2007,2008,2009,2010,2011,2012,2013,2014,2015,2016,2017,2018,2019,2020,2021,2022],\"y\":[77.9,73.91,75.28,76.69,78.08,86.59,87.59,88.91,67.31,72.61,74.79,76.51,78.04,80.07,81.83,82.24,82.98,83.98,85.07,86.35,88.07,88.69,90.02,95.87,101.55,107.66,114.25,121.22,128.31,135.72,142.46,146.09,154.31,161.34,167.26,171.64,177.33,182.75,187.47,190.51,193.22,196.36],\"type\":\"bar\"},{\"name\":\"Fishing\",\"x\":[1981,1982,1983,1984,1985,1986,1987,1988,1989,1990,1991,1992,1993,1994,1995,1996,1997,1998,1999,2000,2001,2002,2003,2004,2005,2006,2007,2008,2009,2010,2011,2012,2013,2014,2015,2016,2017,2018,2019,2020,2021,2022],\"y\":[90.3,93.86,97.96,68.01,43.97,51.51,40.65,59.79,94.81,101.29,105.35,94.81,71.11,66.49,73.14,88.35,98.33,112.2,128.12,133.25,143.91,153.02,159.23,173.02,183.43,195.43,208.29,221.97,235.66,249.71,270.32,291.31,317.47,338.75,358.7,356.13,360.91,366.83,379.06,380.03,384.45,386.24],\"type\":\"bar\"}],                        {\"template\":{\"data\":{\"histogram2dcontour\":[{\"type\":\"histogram2dcontour\",\"colorbar\":{\"outlinewidth\":0,\"ticks\":\"\"},\"colorscale\":[[0.0,\"#0d0887\"],[0.1111111111111111,\"#46039f\"],[0.2222222222222222,\"#7201a8\"],[0.3333333333333333,\"#9c179e\"],[0.4444444444444444,\"#bd3786\"],[0.5555555555555556,\"#d8576b\"],[0.6666666666666666,\"#ed7953\"],[0.7777777777777778,\"#fb9f3a\"],[0.8888888888888888,\"#fdca26\"],[1.0,\"#f0f921\"]]}],\"choropleth\":[{\"type\":\"choropleth\",\"colorbar\":{\"outlinewidth\":0,\"ticks\":\"\"}}],\"histogram2d\":[{\"type\":\"histogram2d\",\"colorbar\":{\"outlinewidth\":0,\"ticks\":\"\"},\"colorscale\":[[0.0,\"#0d0887\"],[0.1111111111111111,\"#46039f\"],[0.2222222222222222,\"#7201a8\"],[0.3333333333333333,\"#9c179e\"],[0.4444444444444444,\"#bd3786\"],[0.5555555555555556,\"#d8576b\"],[0.6666666666666666,\"#ed7953\"],[0.7777777777777778,\"#fb9f3a\"],[0.8888888888888888,\"#fdca26\"],[1.0,\"#f0f921\"]]}],\"heatmap\":[{\"type\":\"heatmap\",\"colorbar\":{\"outlinewidth\":0,\"ticks\":\"\"},\"colorscale\":[[0.0,\"#0d0887\"],[0.1111111111111111,\"#46039f\"],[0.2222222222222222,\"#7201a8\"],[0.3333333333333333,\"#9c179e\"],[0.4444444444444444,\"#bd3786\"],[0.5555555555555556,\"#d8576b\"],[0.6666666666666666,\"#ed7953\"],[0.7777777777777778,\"#fb9f3a\"],[0.8888888888888888,\"#fdca26\"],[1.0,\"#f0f921\"]]}],\"heatmapgl\":[{\"type\":\"heatmapgl\",\"colorbar\":{\"outlinewidth\":0,\"ticks\":\"\"},\"colorscale\":[[0.0,\"#0d0887\"],[0.1111111111111111,\"#46039f\"],[0.2222222222222222,\"#7201a8\"],[0.3333333333333333,\"#9c179e\"],[0.4444444444444444,\"#bd3786\"],[0.5555555555555556,\"#d8576b\"],[0.6666666666666666,\"#ed7953\"],[0.7777777777777778,\"#fb9f3a\"],[0.8888888888888888,\"#fdca26\"],[1.0,\"#f0f921\"]]}],\"contourcarpet\":[{\"type\":\"contourcarpet\",\"colorbar\":{\"outlinewidth\":0,\"ticks\":\"\"}}],\"contour\":[{\"type\":\"contour\",\"colorbar\":{\"outlinewidth\":0,\"ticks\":\"\"},\"colorscale\":[[0.0,\"#0d0887\"],[0.1111111111111111,\"#46039f\"],[0.2222222222222222,\"#7201a8\"],[0.3333333333333333,\"#9c179e\"],[0.4444444444444444,\"#bd3786\"],[0.5555555555555556,\"#d8576b\"],[0.6666666666666666,\"#ed7953\"],[0.7777777777777778,\"#fb9f3a\"],[0.8888888888888888,\"#fdca26\"],[1.0,\"#f0f921\"]]}],\"surface\":[{\"type\":\"surface\",\"colorbar\":{\"outlinewidth\":0,\"ticks\":\"\"},\"colorscale\":[[0.0,\"#0d0887\"],[0.1111111111111111,\"#46039f\"],[0.2222222222222222,\"#7201a8\"],[0.3333333333333333,\"#9c179e\"],[0.4444444444444444,\"#bd3786\"],[0.5555555555555556,\"#d8576b\"],[0.6666666666666666,\"#ed7953\"],[0.7777777777777778,\"#fb9f3a\"],[0.8888888888888888,\"#fdca26\"],[1.0,\"#f0f921\"]]}],\"mesh3d\":[{\"type\":\"mesh3d\",\"colorbar\":{\"outlinewidth\":0,\"ticks\":\"\"}}],\"scatter\":[{\"fillpattern\":{\"fillmode\":\"overlay\",\"size\":10,\"solidity\":0.2},\"type\":\"scatter\"}],\"parcoords\":[{\"type\":\"parcoords\",\"line\":{\"colorbar\":{\"outlinewidth\":0,\"ticks\":\"\"}}}],\"scatterpolargl\":[{\"type\":\"scatterpolargl\",\"marker\":{\"colorbar\":{\"outlinewidth\":0,\"ticks\":\"\"}}}],\"bar\":[{\"error_x\":{\"color\":\"#2a3f5f\"},\"error_y\":{\"color\":\"#2a3f5f\"},\"marker\":{\"line\":{\"color\":\"#E5ECF6\",\"width\":0.5},\"pattern\":{\"fillmode\":\"overlay\",\"size\":10,\"solidity\":0.2}},\"type\":\"bar\"}],\"scattergeo\":[{\"type\":\"scattergeo\",\"marker\":{\"colorbar\":{\"outlinewidth\":0,\"ticks\":\"\"}}}],\"scatterpolar\":[{\"type\":\"scatterpolar\",\"marker\":{\"colorbar\":{\"outlinewidth\":0,\"ticks\":\"\"}}}],\"histogram\":[{\"marker\":{\"pattern\":{\"fillmode\":\"overlay\",\"size\":10,\"solidity\":0.2}},\"type\":\"histogram\"}],\"scattergl\":[{\"type\":\"scattergl\",\"marker\":{\"colorbar\":{\"outlinewidth\":0,\"ticks\":\"\"}}}],\"scatter3d\":[{\"type\":\"scatter3d\",\"line\":{\"colorbar\":{\"outlinewidth\":0,\"ticks\":\"\"}},\"marker\":{\"colorbar\":{\"outlinewidth\":0,\"ticks\":\"\"}}}],\"scattermapbox\":[{\"type\":\"scattermapbox\",\"marker\":{\"colorbar\":{\"outlinewidth\":0,\"ticks\":\"\"}}}],\"scatterternary\":[{\"type\":\"scatterternary\",\"marker\":{\"colorbar\":{\"outlinewidth\":0,\"ticks\":\"\"}}}],\"scattercarpet\":[{\"type\":\"scattercarpet\",\"marker\":{\"colorbar\":{\"outlinewidth\":0,\"ticks\":\"\"}}}],\"carpet\":[{\"aaxis\":{\"endlinecolor\":\"#2a3f5f\",\"gridcolor\":\"white\",\"linecolor\":\"white\",\"minorgridcolor\":\"white\",\"startlinecolor\":\"#2a3f5f\"},\"baxis\":{\"endlinecolor\":\"#2a3f5f\",\"gridcolor\":\"white\",\"linecolor\":\"white\",\"minorgridcolor\":\"white\",\"startlinecolor\":\"#2a3f5f\"},\"type\":\"carpet\"}],\"table\":[{\"cells\":{\"fill\":{\"color\":\"#EBF0F8\"},\"line\":{\"color\":\"white\"}},\"header\":{\"fill\":{\"color\":\"#C8D4E3\"},\"line\":{\"color\":\"white\"}},\"type\":\"table\"}],\"barpolar\":[{\"marker\":{\"line\":{\"color\":\"#E5ECF6\",\"width\":0.5},\"pattern\":{\"fillmode\":\"overlay\",\"size\":10,\"solidity\":0.2}},\"type\":\"barpolar\"}],\"pie\":[{\"automargin\":true,\"type\":\"pie\"}]},\"layout\":{\"autotypenumbers\":\"strict\",\"colorway\":[\"#636efa\",\"#EF553B\",\"#00cc96\",\"#ab63fa\",\"#FFA15A\",\"#19d3f3\",\"#FF6692\",\"#B6E880\",\"#FF97FF\",\"#FECB52\"],\"font\":{\"color\":\"#2a3f5f\"},\"hovermode\":\"closest\",\"hoverlabel\":{\"align\":\"left\"},\"paper_bgcolor\":\"white\",\"plot_bgcolor\":\"#E5ECF6\",\"polar\":{\"bgcolor\":\"#E5ECF6\",\"angularaxis\":{\"gridcolor\":\"white\",\"linecolor\":\"white\",\"ticks\":\"\"},\"radialaxis\":{\"gridcolor\":\"white\",\"linecolor\":\"white\",\"ticks\":\"\"}},\"ternary\":{\"bgcolor\":\"#E5ECF6\",\"aaxis\":{\"gridcolor\":\"white\",\"linecolor\":\"white\",\"ticks\":\"\"},\"baxis\":{\"gridcolor\":\"white\",\"linecolor\":\"white\",\"ticks\":\"\"},\"caxis\":{\"gridcolor\":\"white\",\"linecolor\":\"white\",\"ticks\":\"\"}},\"coloraxis\":{\"colorbar\":{\"outlinewidth\":0,\"ticks\":\"\"}},\"colorscale\":{\"sequential\":[[0.0,\"#0d0887\"],[0.1111111111111111,\"#46039f\"],[0.2222222222222222,\"#7201a8\"],[0.3333333333333333,\"#9c179e\"],[0.4444444444444444,\"#bd3786\"],[0.5555555555555556,\"#d8576b\"],[0.6666666666666666,\"#ed7953\"],[0.7777777777777778,\"#fb9f3a\"],[0.8888888888888888,\"#fdca26\"],[1.0,\"#f0f921\"]],\"sequentialminus\":[[0.0,\"#0d0887\"],[0.1111111111111111,\"#46039f\"],[0.2222222222222222,\"#7201a8\"],[0.3333333333333333,\"#9c179e\"],[0.4444444444444444,\"#bd3786\"],[0.5555555555555556,\"#d8576b\"],[0.6666666666666666,\"#ed7953\"],[0.7777777777777778,\"#fb9f3a\"],[0.8888888888888888,\"#fdca26\"],[1.0,\"#f0f921\"]],\"diverging\":[[0,\"#8e0152\"],[0.1,\"#c51b7d\"],[0.2,\"#de77ae\"],[0.3,\"#f1b6da\"],[0.4,\"#fde0ef\"],[0.5,\"#f7f7f7\"],[0.6,\"#e6f5d0\"],[0.7,\"#b8e186\"],[0.8,\"#7fbc41\"],[0.9,\"#4d9221\"],[1,\"#276419\"]]},\"xaxis\":{\"gridcolor\":\"white\",\"linecolor\":\"white\",\"ticks\":\"\",\"title\":{\"standoff\":15},\"zerolinecolor\":\"white\",\"automargin\":true,\"zerolinewidth\":2},\"yaxis\":{\"gridcolor\":\"white\",\"linecolor\":\"white\",\"ticks\":\"\",\"title\":{\"standoff\":15},\"zerolinecolor\":\"white\",\"automargin\":true,\"zerolinewidth\":2},\"scene\":{\"xaxis\":{\"backgroundcolor\":\"#E5ECF6\",\"gridcolor\":\"white\",\"linecolor\":\"white\",\"showbackground\":true,\"ticks\":\"\",\"zerolinecolor\":\"white\",\"gridwidth\":2},\"yaxis\":{\"backgroundcolor\":\"#E5ECF6\",\"gridcolor\":\"white\",\"linecolor\":\"white\",\"showbackground\":true,\"ticks\":\"\",\"zerolinecolor\":\"white\",\"gridwidth\":2},\"zaxis\":{\"backgroundcolor\":\"#E5ECF6\",\"gridcolor\":\"white\",\"linecolor\":\"white\",\"showbackground\":true,\"ticks\":\"\",\"zerolinecolor\":\"white\",\"gridwidth\":2}},\"shapedefaults\":{\"line\":{\"color\":\"#2a3f5f\"}},\"annotationdefaults\":{\"arrowcolor\":\"#2a3f5f\",\"arrowhead\":0,\"arrowwidth\":1},\"geo\":{\"bgcolor\":\"white\",\"landcolor\":\"#E5ECF6\",\"subunitcolor\":\"white\",\"showland\":true,\"showlakes\":true,\"lakecolor\":\"white\"},\"title\":{\"x\":0.05},\"mapbox\":{\"style\":\"light\"}}},\"title\":{\"text\":\"GDP of Different Sectors within Agriculture over Time (Annual)\"},\"xaxis\":{\"title\":{\"text\":\"Index\"}},\"yaxis\":{\"title\":{\"text\":\"GDP\"}}},                        {\"responsive\": true}                    ).then(function(){\n",
       "                            \n",
       "var gd = document.getElementById('cec16fc6-ee7a-4af1-870f-4537ea86cdda');\n",
       "var x = new MutationObserver(function (mutations, observer) {{\n",
       "        var display = window.getComputedStyle(gd).display;\n",
       "        if (!display || display === 'none') {{\n",
       "            console.log([gd, 'removed!']);\n",
       "            Plotly.purge(gd);\n",
       "            observer.disconnect();\n",
       "        }}\n",
       "}});\n",
       "\n",
       "// Listen for the removal of the full notebook cells\n",
       "var notebookContainer = gd.closest('#notebook-container');\n",
       "if (notebookContainer) {{\n",
       "    x.observe(notebookContainer, {childList: true});\n",
       "}}\n",
       "\n",
       "// Listen for the clearing of the current output cell\n",
       "var outputEl = gd.closest('.output');\n",
       "if (outputEl) {{\n",
       "    x.observe(outputEl, {childList: true});\n",
       "}}\n",
       "\n",
       "                        })                };                });            </script>        </div>"
      ]
     },
     "metadata": {},
     "output_type": "display_data"
    }
   ],
   "source": [
    "# Line Plot for GDP of different sectors within Agriculture\n",
    "sectors = ['CropProduction', 'Livestock', 'Forestry', 'Fishing']\n",
    "fig = go.Figure()\n",
    "for sector in sectors:\n",
    "    fig.add_trace(go.Scatter(x=annual_df.index, y=annual_df[sector], mode='lines', name=sector))\n",
    "fig.update_layout(title='GDP Trend over Time for Different Sectors within Agriculture (Annual)', xaxis_title='Index', yaxis_title='GDP')\n",
    "fig.show()\n",
    "\n",
    "# Bar Chart for GDP of different sectors within Agriculture\n",
    "fig = go.Figure()\n",
    "for sector in sectors:\n",
    "    fig.add_trace(go.Bar(x=annual_df.index, y=annual_df[sector], name=sector))\n",
    "fig.update_layout(title='GDP of Different Sectors within Agriculture over Time (Annual)', xaxis_title='Index', yaxis_title='GDP')\n",
    "fig.show()\n"
   ]
  },
  {
   "cell_type": "code",
   "execution_count": 51,
   "id": "70073238",
   "metadata": {},
   "outputs": [
    {
     "data": {
      "application/vnd.plotly.v1+json": {
       "config": {
        "plotlyServerURL": "https://plot.ly"
       },
       "data": [
        {
         "mode": "lines",
         "name": "Crop Production",
         "type": "scatter",
         "x": [
          1981,
          1982,
          1983,
          1984,
          1985,
          1986,
          1987,
          1988,
          1989,
          1990,
          1991,
          1992,
          1993,
          1994,
          1995,
          1996,
          1997,
          1998,
          1999,
          2000,
          2001,
          2002,
          2003,
          2004,
          2005,
          2006,
          2007,
          2008,
          2009,
          2010,
          2011,
          2012,
          2013,
          2014,
          2015,
          2016,
          2017,
          2018,
          2019,
          2020,
          2021,
          2022
         ],
         "y": [
          null,
          2.28,
          -2.87,
          -4.54,
          23.98,
          11.29,
          -4,
          10.8,
          5,
          4.35,
          4.5,
          3,
          2.9,
          3,
          3.4,
          3.79,
          4.3,
          3.9,
          5.24,
          3,
          3.8,
          65.26,
          7.38,
          6.19,
          7.13,
          7.49,
          7.25,
          6.22,
          5.83,
          265.1,
          264.47,
          253.02,
          252.63,
          255.08,
          255.9,
          255.83,
          252.65,
          251.89,
          251.85,
          246.96,
          241.61,
          240.28
         ]
        },
        {
         "mode": "lines",
         "name": "Livestock",
         "type": "scatter",
         "x": [
          1981,
          1982,
          1983,
          1984,
          1985,
          1986,
          1987,
          1988,
          1989,
          1990,
          1991,
          1992,
          1993,
          1994,
          1995,
          1996,
          1997,
          1998,
          1999,
          2000,
          2001,
          2002,
          2003,
          2004,
          2005,
          2006,
          2007,
          2008,
          2009,
          2010,
          2011,
          2012,
          2013,
          2014,
          2015,
          2016,
          2017,
          2018,
          2019,
          2020,
          2021,
          2022
         ],
         "y": [
          null,
          5.77,
          8.86,
          1.67,
          7.11,
          -1.51,
          2.8,
          2.5,
          2,
          2,
          -1.6,
          0.9,
          0.6,
          1,
          4.2,
          2.9,
          2.5,
          2.7,
          2.8,
          2.3,
          3,
          4.81,
          4.19,
          6.5,
          6.76,
          6.9,
          6.93,
          6.8,
          6.48,
          252.12,
          251.85,
          249.25,
          250.54,
          249.49,
          250.45,
          256.36,
          261.42,
          254.29,
          255.58,
          253.91,
          254.49,
          262.38
         ]
        },
        {
         "mode": "lines",
         "name": "Forestry",
         "type": "scatter",
         "x": [
          1981,
          1982,
          1983,
          1984,
          1985,
          1986,
          1987,
          1988,
          1989,
          1990,
          1991,
          1992,
          1993,
          1994,
          1995,
          1996,
          1997,
          1998,
          1999,
          2000,
          2001,
          2002,
          2003,
          2004,
          2005,
          2006,
          2007,
          2008,
          2009,
          2010,
          2011,
          2012,
          2013,
          2014,
          2015,
          2016,
          2017,
          2018,
          2019,
          2020,
          2021,
          2022
         ],
         "y": [
          null,
          -5.12,
          1.85,
          1.87,
          1.81,
          10.9,
          1.15,
          1.51,
          -24.29,
          7.87,
          3,
          2.3,
          2,
          2.6,
          2.2,
          0.5,
          0.9,
          1.21,
          1.3,
          1.5,
          1.99,
          0.7,
          1.5,
          6.5,
          5.92,
          6.02,
          6.12,
          6.1,
          5.85,
          265.13,
          266.6,
          264.31,
          258.36,
          258.77,
          257.47,
          258.85,
          260.5,
          265.21,
          269.98,
          271.36,
          271.43,
          271.4
         ]
        },
        {
         "mode": "lines",
         "name": "Fishing",
         "type": "scatter",
         "x": [
          1981,
          1982,
          1983,
          1984,
          1985,
          1986,
          1987,
          1988,
          1989,
          1990,
          1991,
          1992,
          1993,
          1994,
          1995,
          1996,
          1997,
          1998,
          1999,
          2000,
          2001,
          2002,
          2003,
          2004,
          2005,
          2006,
          2007,
          2008,
          2009,
          2010,
          2011,
          2012,
          2013,
          2014,
          2015,
          2016,
          2017,
          2018,
          2019,
          2020,
          2021,
          2022
         ],
         "y": [
          null,
          3.94,
          4.37,
          -30.57,
          -35.35,
          17.15,
          -21.08,
          47.08,
          58.57,
          6.83,
          4.01,
          -10,
          -25,
          -6.5,
          10,
          20.8,
          11.3,
          14.11,
          14.19,
          4,
          8,
          6.33,
          4.06,
          8.66,
          6.02,
          6.54,
          6.58,
          6.57,
          6.17,
          282.93,
          288.28,
          276.18,
          276.1,
          275.85,
          277.54,
          272.02,
          262.32,
          261.16,
          264.69,
          279.27,
          277.32,
          290.89
         ]
        }
       ],
       "layout": {
        "template": {
         "data": {
          "bar": [
           {
            "error_x": {
             "color": "#2a3f5f"
            },
            "error_y": {
             "color": "#2a3f5f"
            },
            "marker": {
             "line": {
              "color": "#E5ECF6",
              "width": 0.5
             },
             "pattern": {
              "fillmode": "overlay",
              "size": 10,
              "solidity": 0.2
             }
            },
            "type": "bar"
           }
          ],
          "barpolar": [
           {
            "marker": {
             "line": {
              "color": "#E5ECF6",
              "width": 0.5
             },
             "pattern": {
              "fillmode": "overlay",
              "size": 10,
              "solidity": 0.2
             }
            },
            "type": "barpolar"
           }
          ],
          "carpet": [
           {
            "aaxis": {
             "endlinecolor": "#2a3f5f",
             "gridcolor": "white",
             "linecolor": "white",
             "minorgridcolor": "white",
             "startlinecolor": "#2a3f5f"
            },
            "baxis": {
             "endlinecolor": "#2a3f5f",
             "gridcolor": "white",
             "linecolor": "white",
             "minorgridcolor": "white",
             "startlinecolor": "#2a3f5f"
            },
            "type": "carpet"
           }
          ],
          "choropleth": [
           {
            "colorbar": {
             "outlinewidth": 0,
             "ticks": ""
            },
            "type": "choropleth"
           }
          ],
          "contour": [
           {
            "colorbar": {
             "outlinewidth": 0,
             "ticks": ""
            },
            "colorscale": [
             [
              0,
              "#0d0887"
             ],
             [
              0.1111111111111111,
              "#46039f"
             ],
             [
              0.2222222222222222,
              "#7201a8"
             ],
             [
              0.3333333333333333,
              "#9c179e"
             ],
             [
              0.4444444444444444,
              "#bd3786"
             ],
             [
              0.5555555555555556,
              "#d8576b"
             ],
             [
              0.6666666666666666,
              "#ed7953"
             ],
             [
              0.7777777777777778,
              "#fb9f3a"
             ],
             [
              0.8888888888888888,
              "#fdca26"
             ],
             [
              1,
              "#f0f921"
             ]
            ],
            "type": "contour"
           }
          ],
          "contourcarpet": [
           {
            "colorbar": {
             "outlinewidth": 0,
             "ticks": ""
            },
            "type": "contourcarpet"
           }
          ],
          "heatmap": [
           {
            "colorbar": {
             "outlinewidth": 0,
             "ticks": ""
            },
            "colorscale": [
             [
              0,
              "#0d0887"
             ],
             [
              0.1111111111111111,
              "#46039f"
             ],
             [
              0.2222222222222222,
              "#7201a8"
             ],
             [
              0.3333333333333333,
              "#9c179e"
             ],
             [
              0.4444444444444444,
              "#bd3786"
             ],
             [
              0.5555555555555556,
              "#d8576b"
             ],
             [
              0.6666666666666666,
              "#ed7953"
             ],
             [
              0.7777777777777778,
              "#fb9f3a"
             ],
             [
              0.8888888888888888,
              "#fdca26"
             ],
             [
              1,
              "#f0f921"
             ]
            ],
            "type": "heatmap"
           }
          ],
          "heatmapgl": [
           {
            "colorbar": {
             "outlinewidth": 0,
             "ticks": ""
            },
            "colorscale": [
             [
              0,
              "#0d0887"
             ],
             [
              0.1111111111111111,
              "#46039f"
             ],
             [
              0.2222222222222222,
              "#7201a8"
             ],
             [
              0.3333333333333333,
              "#9c179e"
             ],
             [
              0.4444444444444444,
              "#bd3786"
             ],
             [
              0.5555555555555556,
              "#d8576b"
             ],
             [
              0.6666666666666666,
              "#ed7953"
             ],
             [
              0.7777777777777778,
              "#fb9f3a"
             ],
             [
              0.8888888888888888,
              "#fdca26"
             ],
             [
              1,
              "#f0f921"
             ]
            ],
            "type": "heatmapgl"
           }
          ],
          "histogram": [
           {
            "marker": {
             "pattern": {
              "fillmode": "overlay",
              "size": 10,
              "solidity": 0.2
             }
            },
            "type": "histogram"
           }
          ],
          "histogram2d": [
           {
            "colorbar": {
             "outlinewidth": 0,
             "ticks": ""
            },
            "colorscale": [
             [
              0,
              "#0d0887"
             ],
             [
              0.1111111111111111,
              "#46039f"
             ],
             [
              0.2222222222222222,
              "#7201a8"
             ],
             [
              0.3333333333333333,
              "#9c179e"
             ],
             [
              0.4444444444444444,
              "#bd3786"
             ],
             [
              0.5555555555555556,
              "#d8576b"
             ],
             [
              0.6666666666666666,
              "#ed7953"
             ],
             [
              0.7777777777777778,
              "#fb9f3a"
             ],
             [
              0.8888888888888888,
              "#fdca26"
             ],
             [
              1,
              "#f0f921"
             ]
            ],
            "type": "histogram2d"
           }
          ],
          "histogram2dcontour": [
           {
            "colorbar": {
             "outlinewidth": 0,
             "ticks": ""
            },
            "colorscale": [
             [
              0,
              "#0d0887"
             ],
             [
              0.1111111111111111,
              "#46039f"
             ],
             [
              0.2222222222222222,
              "#7201a8"
             ],
             [
              0.3333333333333333,
              "#9c179e"
             ],
             [
              0.4444444444444444,
              "#bd3786"
             ],
             [
              0.5555555555555556,
              "#d8576b"
             ],
             [
              0.6666666666666666,
              "#ed7953"
             ],
             [
              0.7777777777777778,
              "#fb9f3a"
             ],
             [
              0.8888888888888888,
              "#fdca26"
             ],
             [
              1,
              "#f0f921"
             ]
            ],
            "type": "histogram2dcontour"
           }
          ],
          "mesh3d": [
           {
            "colorbar": {
             "outlinewidth": 0,
             "ticks": ""
            },
            "type": "mesh3d"
           }
          ],
          "parcoords": [
           {
            "line": {
             "colorbar": {
              "outlinewidth": 0,
              "ticks": ""
             }
            },
            "type": "parcoords"
           }
          ],
          "pie": [
           {
            "automargin": true,
            "type": "pie"
           }
          ],
          "scatter": [
           {
            "fillpattern": {
             "fillmode": "overlay",
             "size": 10,
             "solidity": 0.2
            },
            "type": "scatter"
           }
          ],
          "scatter3d": [
           {
            "line": {
             "colorbar": {
              "outlinewidth": 0,
              "ticks": ""
             }
            },
            "marker": {
             "colorbar": {
              "outlinewidth": 0,
              "ticks": ""
             }
            },
            "type": "scatter3d"
           }
          ],
          "scattercarpet": [
           {
            "marker": {
             "colorbar": {
              "outlinewidth": 0,
              "ticks": ""
             }
            },
            "type": "scattercarpet"
           }
          ],
          "scattergeo": [
           {
            "marker": {
             "colorbar": {
              "outlinewidth": 0,
              "ticks": ""
             }
            },
            "type": "scattergeo"
           }
          ],
          "scattergl": [
           {
            "marker": {
             "colorbar": {
              "outlinewidth": 0,
              "ticks": ""
             }
            },
            "type": "scattergl"
           }
          ],
          "scattermapbox": [
           {
            "marker": {
             "colorbar": {
              "outlinewidth": 0,
              "ticks": ""
             }
            },
            "type": "scattermapbox"
           }
          ],
          "scatterpolar": [
           {
            "marker": {
             "colorbar": {
              "outlinewidth": 0,
              "ticks": ""
             }
            },
            "type": "scatterpolar"
           }
          ],
          "scatterpolargl": [
           {
            "marker": {
             "colorbar": {
              "outlinewidth": 0,
              "ticks": ""
             }
            },
            "type": "scatterpolargl"
           }
          ],
          "scatterternary": [
           {
            "marker": {
             "colorbar": {
              "outlinewidth": 0,
              "ticks": ""
             }
            },
            "type": "scatterternary"
           }
          ],
          "surface": [
           {
            "colorbar": {
             "outlinewidth": 0,
             "ticks": ""
            },
            "colorscale": [
             [
              0,
              "#0d0887"
             ],
             [
              0.1111111111111111,
              "#46039f"
             ],
             [
              0.2222222222222222,
              "#7201a8"
             ],
             [
              0.3333333333333333,
              "#9c179e"
             ],
             [
              0.4444444444444444,
              "#bd3786"
             ],
             [
              0.5555555555555556,
              "#d8576b"
             ],
             [
              0.6666666666666666,
              "#ed7953"
             ],
             [
              0.7777777777777778,
              "#fb9f3a"
             ],
             [
              0.8888888888888888,
              "#fdca26"
             ],
             [
              1,
              "#f0f921"
             ]
            ],
            "type": "surface"
           }
          ],
          "table": [
           {
            "cells": {
             "fill": {
              "color": "#EBF0F8"
             },
             "line": {
              "color": "white"
             }
            },
            "header": {
             "fill": {
              "color": "#C8D4E3"
             },
             "line": {
              "color": "white"
             }
            },
            "type": "table"
           }
          ]
         },
         "layout": {
          "annotationdefaults": {
           "arrowcolor": "#2a3f5f",
           "arrowhead": 0,
           "arrowwidth": 1
          },
          "autotypenumbers": "strict",
          "coloraxis": {
           "colorbar": {
            "outlinewidth": 0,
            "ticks": ""
           }
          },
          "colorscale": {
           "diverging": [
            [
             0,
             "#8e0152"
            ],
            [
             0.1,
             "#c51b7d"
            ],
            [
             0.2,
             "#de77ae"
            ],
            [
             0.3,
             "#f1b6da"
            ],
            [
             0.4,
             "#fde0ef"
            ],
            [
             0.5,
             "#f7f7f7"
            ],
            [
             0.6,
             "#e6f5d0"
            ],
            [
             0.7,
             "#b8e186"
            ],
            [
             0.8,
             "#7fbc41"
            ],
            [
             0.9,
             "#4d9221"
            ],
            [
             1,
             "#276419"
            ]
           ],
           "sequential": [
            [
             0,
             "#0d0887"
            ],
            [
             0.1111111111111111,
             "#46039f"
            ],
            [
             0.2222222222222222,
             "#7201a8"
            ],
            [
             0.3333333333333333,
             "#9c179e"
            ],
            [
             0.4444444444444444,
             "#bd3786"
            ],
            [
             0.5555555555555556,
             "#d8576b"
            ],
            [
             0.6666666666666666,
             "#ed7953"
            ],
            [
             0.7777777777777778,
             "#fb9f3a"
            ],
            [
             0.8888888888888888,
             "#fdca26"
            ],
            [
             1,
             "#f0f921"
            ]
           ],
           "sequentialminus": [
            [
             0,
             "#0d0887"
            ],
            [
             0.1111111111111111,
             "#46039f"
            ],
            [
             0.2222222222222222,
             "#7201a8"
            ],
            [
             0.3333333333333333,
             "#9c179e"
            ],
            [
             0.4444444444444444,
             "#bd3786"
            ],
            [
             0.5555555555555556,
             "#d8576b"
            ],
            [
             0.6666666666666666,
             "#ed7953"
            ],
            [
             0.7777777777777778,
             "#fb9f3a"
            ],
            [
             0.8888888888888888,
             "#fdca26"
            ],
            [
             1,
             "#f0f921"
            ]
           ]
          },
          "colorway": [
           "#636efa",
           "#EF553B",
           "#00cc96",
           "#ab63fa",
           "#FFA15A",
           "#19d3f3",
           "#FF6692",
           "#B6E880",
           "#FF97FF",
           "#FECB52"
          ],
          "font": {
           "color": "#2a3f5f"
          },
          "geo": {
           "bgcolor": "white",
           "lakecolor": "white",
           "landcolor": "#E5ECF6",
           "showlakes": true,
           "showland": true,
           "subunitcolor": "white"
          },
          "hoverlabel": {
           "align": "left"
          },
          "hovermode": "closest",
          "mapbox": {
           "style": "light"
          },
          "paper_bgcolor": "white",
          "plot_bgcolor": "#E5ECF6",
          "polar": {
           "angularaxis": {
            "gridcolor": "white",
            "linecolor": "white",
            "ticks": ""
           },
           "bgcolor": "#E5ECF6",
           "radialaxis": {
            "gridcolor": "white",
            "linecolor": "white",
            "ticks": ""
           }
          },
          "scene": {
           "xaxis": {
            "backgroundcolor": "#E5ECF6",
            "gridcolor": "white",
            "gridwidth": 2,
            "linecolor": "white",
            "showbackground": true,
            "ticks": "",
            "zerolinecolor": "white"
           },
           "yaxis": {
            "backgroundcolor": "#E5ECF6",
            "gridcolor": "white",
            "gridwidth": 2,
            "linecolor": "white",
            "showbackground": true,
            "ticks": "",
            "zerolinecolor": "white"
           },
           "zaxis": {
            "backgroundcolor": "#E5ECF6",
            "gridcolor": "white",
            "gridwidth": 2,
            "linecolor": "white",
            "showbackground": true,
            "ticks": "",
            "zerolinecolor": "white"
           }
          },
          "shapedefaults": {
           "line": {
            "color": "#2a3f5f"
           }
          },
          "ternary": {
           "aaxis": {
            "gridcolor": "white",
            "linecolor": "white",
            "ticks": ""
           },
           "baxis": {
            "gridcolor": "white",
            "linecolor": "white",
            "ticks": ""
           },
           "bgcolor": "#E5ECF6",
           "caxis": {
            "gridcolor": "white",
            "linecolor": "white",
            "ticks": ""
           }
          },
          "title": {
           "x": 0.05
          },
          "xaxis": {
           "automargin": true,
           "gridcolor": "white",
           "linecolor": "white",
           "ticks": "",
           "title": {
            "standoff": 15
           },
           "zerolinecolor": "white",
           "zerolinewidth": 2
          },
          "yaxis": {
           "automargin": true,
           "gridcolor": "white",
           "linecolor": "white",
           "ticks": "",
           "title": {
            "standoff": 15
           },
           "zerolinecolor": "white",
           "zerolinewidth": 2
          }
         }
        },
        "title": {
         "text": "Growth in Agricultural Sectors over Time (Annual)"
        },
        "xaxis": {
         "title": {
          "text": "Index"
         }
        },
        "yaxis": {
         "title": {
          "text": "Growth Rate (%)"
         }
        }
       }
      },
      "text/html": [
       "<div>                            <div id=\"2ed2813f-b520-4570-9097-fbbbb60fe59d\" class=\"plotly-graph-div\" style=\"height:525px; width:100%;\"></div>            <script type=\"text/javascript\">                require([\"plotly\"], function(Plotly) {                    window.PLOTLYENV=window.PLOTLYENV || {};                                    if (document.getElementById(\"2ed2813f-b520-4570-9097-fbbbb60fe59d\")) {                    Plotly.newPlot(                        \"2ed2813f-b520-4570-9097-fbbbb60fe59d\",                        [{\"mode\":\"lines\",\"name\":\"Crop Production\",\"x\":[1981,1982,1983,1984,1985,1986,1987,1988,1989,1990,1991,1992,1993,1994,1995,1996,1997,1998,1999,2000,2001,2002,2003,2004,2005,2006,2007,2008,2009,2010,2011,2012,2013,2014,2015,2016,2017,2018,2019,2020,2021,2022],\"y\":[null,2.28,-2.87,-4.54,23.98,11.29,-4.0,10.8,5.0,4.35,4.5,3.0,2.9,3.0,3.4,3.79,4.3,3.9,5.24,3.0,3.8,65.26,7.38,6.19,7.13,7.49,7.25,6.22,5.83,265.1,264.47,253.02,252.63,255.08,255.9,255.83,252.65,251.89,251.85,246.96,241.61,240.28],\"type\":\"scatter\"},{\"mode\":\"lines\",\"name\":\"Livestock\",\"x\":[1981,1982,1983,1984,1985,1986,1987,1988,1989,1990,1991,1992,1993,1994,1995,1996,1997,1998,1999,2000,2001,2002,2003,2004,2005,2006,2007,2008,2009,2010,2011,2012,2013,2014,2015,2016,2017,2018,2019,2020,2021,2022],\"y\":[null,5.77,8.86,1.67,7.11,-1.51,2.8,2.5,2.0,2.0,-1.6,0.9,0.6,1.0,4.2,2.9,2.5,2.7,2.8,2.3,3.0,4.81,4.19,6.5,6.76,6.9,6.93,6.8,6.48,252.12,251.85,249.25,250.54,249.49,250.45,256.36,261.42,254.29,255.58,253.91,254.49,262.38],\"type\":\"scatter\"},{\"mode\":\"lines\",\"name\":\"Forestry\",\"x\":[1981,1982,1983,1984,1985,1986,1987,1988,1989,1990,1991,1992,1993,1994,1995,1996,1997,1998,1999,2000,2001,2002,2003,2004,2005,2006,2007,2008,2009,2010,2011,2012,2013,2014,2015,2016,2017,2018,2019,2020,2021,2022],\"y\":[null,-5.12,1.85,1.87,1.81,10.9,1.15,1.51,-24.29,7.87,3.0,2.3,2.0,2.6,2.2,0.5,0.9,1.21,1.3,1.5,1.99,0.7,1.5,6.5,5.92,6.02,6.12,6.1,5.85,265.13,266.6,264.31,258.36,258.77,257.47,258.85,260.5,265.21,269.98,271.36,271.43,271.4],\"type\":\"scatter\"},{\"mode\":\"lines\",\"name\":\"Fishing\",\"x\":[1981,1982,1983,1984,1985,1986,1987,1988,1989,1990,1991,1992,1993,1994,1995,1996,1997,1998,1999,2000,2001,2002,2003,2004,2005,2006,2007,2008,2009,2010,2011,2012,2013,2014,2015,2016,2017,2018,2019,2020,2021,2022],\"y\":[null,3.94,4.37,-30.57,-35.35,17.15,-21.08,47.08,58.57,6.83,4.01,-10.0,-25.0,-6.5,10.0,20.8,11.3,14.11,14.19,4.0,8.0,6.33,4.06,8.66,6.02,6.54,6.58,6.57,6.17,282.93,288.28,276.18,276.1,275.85,277.54,272.02,262.32,261.16,264.69,279.27,277.32,290.89],\"type\":\"scatter\"}],                        {\"template\":{\"data\":{\"histogram2dcontour\":[{\"type\":\"histogram2dcontour\",\"colorbar\":{\"outlinewidth\":0,\"ticks\":\"\"},\"colorscale\":[[0.0,\"#0d0887\"],[0.1111111111111111,\"#46039f\"],[0.2222222222222222,\"#7201a8\"],[0.3333333333333333,\"#9c179e\"],[0.4444444444444444,\"#bd3786\"],[0.5555555555555556,\"#d8576b\"],[0.6666666666666666,\"#ed7953\"],[0.7777777777777778,\"#fb9f3a\"],[0.8888888888888888,\"#fdca26\"],[1.0,\"#f0f921\"]]}],\"choropleth\":[{\"type\":\"choropleth\",\"colorbar\":{\"outlinewidth\":0,\"ticks\":\"\"}}],\"histogram2d\":[{\"type\":\"histogram2d\",\"colorbar\":{\"outlinewidth\":0,\"ticks\":\"\"},\"colorscale\":[[0.0,\"#0d0887\"],[0.1111111111111111,\"#46039f\"],[0.2222222222222222,\"#7201a8\"],[0.3333333333333333,\"#9c179e\"],[0.4444444444444444,\"#bd3786\"],[0.5555555555555556,\"#d8576b\"],[0.6666666666666666,\"#ed7953\"],[0.7777777777777778,\"#fb9f3a\"],[0.8888888888888888,\"#fdca26\"],[1.0,\"#f0f921\"]]}],\"heatmap\":[{\"type\":\"heatmap\",\"colorbar\":{\"outlinewidth\":0,\"ticks\":\"\"},\"colorscale\":[[0.0,\"#0d0887\"],[0.1111111111111111,\"#46039f\"],[0.2222222222222222,\"#7201a8\"],[0.3333333333333333,\"#9c179e\"],[0.4444444444444444,\"#bd3786\"],[0.5555555555555556,\"#d8576b\"],[0.6666666666666666,\"#ed7953\"],[0.7777777777777778,\"#fb9f3a\"],[0.8888888888888888,\"#fdca26\"],[1.0,\"#f0f921\"]]}],\"heatmapgl\":[{\"type\":\"heatmapgl\",\"colorbar\":{\"outlinewidth\":0,\"ticks\":\"\"},\"colorscale\":[[0.0,\"#0d0887\"],[0.1111111111111111,\"#46039f\"],[0.2222222222222222,\"#7201a8\"],[0.3333333333333333,\"#9c179e\"],[0.4444444444444444,\"#bd3786\"],[0.5555555555555556,\"#d8576b\"],[0.6666666666666666,\"#ed7953\"],[0.7777777777777778,\"#fb9f3a\"],[0.8888888888888888,\"#fdca26\"],[1.0,\"#f0f921\"]]}],\"contourcarpet\":[{\"type\":\"contourcarpet\",\"colorbar\":{\"outlinewidth\":0,\"ticks\":\"\"}}],\"contour\":[{\"type\":\"contour\",\"colorbar\":{\"outlinewidth\":0,\"ticks\":\"\"},\"colorscale\":[[0.0,\"#0d0887\"],[0.1111111111111111,\"#46039f\"],[0.2222222222222222,\"#7201a8\"],[0.3333333333333333,\"#9c179e\"],[0.4444444444444444,\"#bd3786\"],[0.5555555555555556,\"#d8576b\"],[0.6666666666666666,\"#ed7953\"],[0.7777777777777778,\"#fb9f3a\"],[0.8888888888888888,\"#fdca26\"],[1.0,\"#f0f921\"]]}],\"surface\":[{\"type\":\"surface\",\"colorbar\":{\"outlinewidth\":0,\"ticks\":\"\"},\"colorscale\":[[0.0,\"#0d0887\"],[0.1111111111111111,\"#46039f\"],[0.2222222222222222,\"#7201a8\"],[0.3333333333333333,\"#9c179e\"],[0.4444444444444444,\"#bd3786\"],[0.5555555555555556,\"#d8576b\"],[0.6666666666666666,\"#ed7953\"],[0.7777777777777778,\"#fb9f3a\"],[0.8888888888888888,\"#fdca26\"],[1.0,\"#f0f921\"]]}],\"mesh3d\":[{\"type\":\"mesh3d\",\"colorbar\":{\"outlinewidth\":0,\"ticks\":\"\"}}],\"scatter\":[{\"fillpattern\":{\"fillmode\":\"overlay\",\"size\":10,\"solidity\":0.2},\"type\":\"scatter\"}],\"parcoords\":[{\"type\":\"parcoords\",\"line\":{\"colorbar\":{\"outlinewidth\":0,\"ticks\":\"\"}}}],\"scatterpolargl\":[{\"type\":\"scatterpolargl\",\"marker\":{\"colorbar\":{\"outlinewidth\":0,\"ticks\":\"\"}}}],\"bar\":[{\"error_x\":{\"color\":\"#2a3f5f\"},\"error_y\":{\"color\":\"#2a3f5f\"},\"marker\":{\"line\":{\"color\":\"#E5ECF6\",\"width\":0.5},\"pattern\":{\"fillmode\":\"overlay\",\"size\":10,\"solidity\":0.2}},\"type\":\"bar\"}],\"scattergeo\":[{\"type\":\"scattergeo\",\"marker\":{\"colorbar\":{\"outlinewidth\":0,\"ticks\":\"\"}}}],\"scatterpolar\":[{\"type\":\"scatterpolar\",\"marker\":{\"colorbar\":{\"outlinewidth\":0,\"ticks\":\"\"}}}],\"histogram\":[{\"marker\":{\"pattern\":{\"fillmode\":\"overlay\",\"size\":10,\"solidity\":0.2}},\"type\":\"histogram\"}],\"scattergl\":[{\"type\":\"scattergl\",\"marker\":{\"colorbar\":{\"outlinewidth\":0,\"ticks\":\"\"}}}],\"scatter3d\":[{\"type\":\"scatter3d\",\"line\":{\"colorbar\":{\"outlinewidth\":0,\"ticks\":\"\"}},\"marker\":{\"colorbar\":{\"outlinewidth\":0,\"ticks\":\"\"}}}],\"scattermapbox\":[{\"type\":\"scattermapbox\",\"marker\":{\"colorbar\":{\"outlinewidth\":0,\"ticks\":\"\"}}}],\"scatterternary\":[{\"type\":\"scatterternary\",\"marker\":{\"colorbar\":{\"outlinewidth\":0,\"ticks\":\"\"}}}],\"scattercarpet\":[{\"type\":\"scattercarpet\",\"marker\":{\"colorbar\":{\"outlinewidth\":0,\"ticks\":\"\"}}}],\"carpet\":[{\"aaxis\":{\"endlinecolor\":\"#2a3f5f\",\"gridcolor\":\"white\",\"linecolor\":\"white\",\"minorgridcolor\":\"white\",\"startlinecolor\":\"#2a3f5f\"},\"baxis\":{\"endlinecolor\":\"#2a3f5f\",\"gridcolor\":\"white\",\"linecolor\":\"white\",\"minorgridcolor\":\"white\",\"startlinecolor\":\"#2a3f5f\"},\"type\":\"carpet\"}],\"table\":[{\"cells\":{\"fill\":{\"color\":\"#EBF0F8\"},\"line\":{\"color\":\"white\"}},\"header\":{\"fill\":{\"color\":\"#C8D4E3\"},\"line\":{\"color\":\"white\"}},\"type\":\"table\"}],\"barpolar\":[{\"marker\":{\"line\":{\"color\":\"#E5ECF6\",\"width\":0.5},\"pattern\":{\"fillmode\":\"overlay\",\"size\":10,\"solidity\":0.2}},\"type\":\"barpolar\"}],\"pie\":[{\"automargin\":true,\"type\":\"pie\"}]},\"layout\":{\"autotypenumbers\":\"strict\",\"colorway\":[\"#636efa\",\"#EF553B\",\"#00cc96\",\"#ab63fa\",\"#FFA15A\",\"#19d3f3\",\"#FF6692\",\"#B6E880\",\"#FF97FF\",\"#FECB52\"],\"font\":{\"color\":\"#2a3f5f\"},\"hovermode\":\"closest\",\"hoverlabel\":{\"align\":\"left\"},\"paper_bgcolor\":\"white\",\"plot_bgcolor\":\"#E5ECF6\",\"polar\":{\"bgcolor\":\"#E5ECF6\",\"angularaxis\":{\"gridcolor\":\"white\",\"linecolor\":\"white\",\"ticks\":\"\"},\"radialaxis\":{\"gridcolor\":\"white\",\"linecolor\":\"white\",\"ticks\":\"\"}},\"ternary\":{\"bgcolor\":\"#E5ECF6\",\"aaxis\":{\"gridcolor\":\"white\",\"linecolor\":\"white\",\"ticks\":\"\"},\"baxis\":{\"gridcolor\":\"white\",\"linecolor\":\"white\",\"ticks\":\"\"},\"caxis\":{\"gridcolor\":\"white\",\"linecolor\":\"white\",\"ticks\":\"\"}},\"coloraxis\":{\"colorbar\":{\"outlinewidth\":0,\"ticks\":\"\"}},\"colorscale\":{\"sequential\":[[0.0,\"#0d0887\"],[0.1111111111111111,\"#46039f\"],[0.2222222222222222,\"#7201a8\"],[0.3333333333333333,\"#9c179e\"],[0.4444444444444444,\"#bd3786\"],[0.5555555555555556,\"#d8576b\"],[0.6666666666666666,\"#ed7953\"],[0.7777777777777778,\"#fb9f3a\"],[0.8888888888888888,\"#fdca26\"],[1.0,\"#f0f921\"]],\"sequentialminus\":[[0.0,\"#0d0887\"],[0.1111111111111111,\"#46039f\"],[0.2222222222222222,\"#7201a8\"],[0.3333333333333333,\"#9c179e\"],[0.4444444444444444,\"#bd3786\"],[0.5555555555555556,\"#d8576b\"],[0.6666666666666666,\"#ed7953\"],[0.7777777777777778,\"#fb9f3a\"],[0.8888888888888888,\"#fdca26\"],[1.0,\"#f0f921\"]],\"diverging\":[[0,\"#8e0152\"],[0.1,\"#c51b7d\"],[0.2,\"#de77ae\"],[0.3,\"#f1b6da\"],[0.4,\"#fde0ef\"],[0.5,\"#f7f7f7\"],[0.6,\"#e6f5d0\"],[0.7,\"#b8e186\"],[0.8,\"#7fbc41\"],[0.9,\"#4d9221\"],[1,\"#276419\"]]},\"xaxis\":{\"gridcolor\":\"white\",\"linecolor\":\"white\",\"ticks\":\"\",\"title\":{\"standoff\":15},\"zerolinecolor\":\"white\",\"automargin\":true,\"zerolinewidth\":2},\"yaxis\":{\"gridcolor\":\"white\",\"linecolor\":\"white\",\"ticks\":\"\",\"title\":{\"standoff\":15},\"zerolinecolor\":\"white\",\"automargin\":true,\"zerolinewidth\":2},\"scene\":{\"xaxis\":{\"backgroundcolor\":\"#E5ECF6\",\"gridcolor\":\"white\",\"linecolor\":\"white\",\"showbackground\":true,\"ticks\":\"\",\"zerolinecolor\":\"white\",\"gridwidth\":2},\"yaxis\":{\"backgroundcolor\":\"#E5ECF6\",\"gridcolor\":\"white\",\"linecolor\":\"white\",\"showbackground\":true,\"ticks\":\"\",\"zerolinecolor\":\"white\",\"gridwidth\":2},\"zaxis\":{\"backgroundcolor\":\"#E5ECF6\",\"gridcolor\":\"white\",\"linecolor\":\"white\",\"showbackground\":true,\"ticks\":\"\",\"zerolinecolor\":\"white\",\"gridwidth\":2}},\"shapedefaults\":{\"line\":{\"color\":\"#2a3f5f\"}},\"annotationdefaults\":{\"arrowcolor\":\"#2a3f5f\",\"arrowhead\":0,\"arrowwidth\":1},\"geo\":{\"bgcolor\":\"white\",\"landcolor\":\"#E5ECF6\",\"subunitcolor\":\"white\",\"showland\":true,\"showlakes\":true,\"lakecolor\":\"white\"},\"title\":{\"x\":0.05},\"mapbox\":{\"style\":\"light\"}}},\"title\":{\"text\":\"Growth in Agricultural Sectors over Time (Annual)\"},\"xaxis\":{\"title\":{\"text\":\"Index\"}},\"yaxis\":{\"title\":{\"text\":\"Growth Rate (%)\"}}},                        {\"responsive\": true}                    ).then(function(){\n",
       "                            \n",
       "var gd = document.getElementById('2ed2813f-b520-4570-9097-fbbbb60fe59d');\n",
       "var x = new MutationObserver(function (mutations, observer) {{\n",
       "        var display = window.getComputedStyle(gd).display;\n",
       "        if (!display || display === 'none') {{\n",
       "            console.log([gd, 'removed!']);\n",
       "            Plotly.purge(gd);\n",
       "            observer.disconnect();\n",
       "        }}\n",
       "}});\n",
       "\n",
       "// Listen for the removal of the full notebook cells\n",
       "var notebookContainer = gd.closest('#notebook-container');\n",
       "if (notebookContainer) {{\n",
       "    x.observe(notebookContainer, {childList: true});\n",
       "}}\n",
       "\n",
       "// Listen for the clearing of the current output cell\n",
       "var outputEl = gd.closest('.output');\n",
       "if (outputEl) {{\n",
       "    x.observe(outputEl, {childList: true});\n",
       "}}\n",
       "\n",
       "                        })                };                });            </script>        </div>"
      ]
     },
     "metadata": {},
     "output_type": "display_data"
    },
    {
     "data": {
      "application/vnd.plotly.v1+json": {
       "config": {
        "plotlyServerURL": "https://plot.ly"
       },
       "data": [
        {
         "mode": "lines",
         "name": "Agriculture",
         "type": "scatter",
         "x": [
          1981,
          1982,
          1983,
          1984,
          1985,
          1986,
          1987,
          1988,
          1989,
          1990,
          1991,
          1992,
          1993,
          1994,
          1995,
          1996,
          1997,
          1998,
          1999,
          2000,
          2001,
          2002,
          2003,
          2004,
          2005,
          2006,
          2007,
          2008,
          2009,
          2010,
          2011,
          2012,
          2013,
          2014,
          2015,
          2016,
          2017,
          2018,
          2019,
          2020,
          2021,
          2022
         ],
         "y": [
          0,
          6.869999999999999,
          12.21,
          -31.57,
          -2.450000000000003,
          37.83,
          -21.13,
          61.89,
          41.28,
          21.049999999999997,
          9.91,
          -3.8000000000000007,
          -19.5,
          0.09999999999999964,
          19.8,
          27.990000000000002,
          19,
          21.919999999999998,
          23.53,
          10.8,
          16.79,
          77.10000000000001,
          17.13,
          27.85,
          25.830000000000002,
          26.95,
          26.880000000000003,
          25.689999999999998,
          24.33,
          1065.28,
          1071.2,
          1042.76,
          1037.63,
          1039.19,
          1041.3600000000001,
          1043.06,
          1036.89,
          1032.55,
          1042.1000000000001,
          1051.5,
          1044.85,
          1064.9499999999998
         ]
        }
       ],
       "layout": {
        "template": {
         "data": {
          "bar": [
           {
            "error_x": {
             "color": "#2a3f5f"
            },
            "error_y": {
             "color": "#2a3f5f"
            },
            "marker": {
             "line": {
              "color": "#E5ECF6",
              "width": 0.5
             },
             "pattern": {
              "fillmode": "overlay",
              "size": 10,
              "solidity": 0.2
             }
            },
            "type": "bar"
           }
          ],
          "barpolar": [
           {
            "marker": {
             "line": {
              "color": "#E5ECF6",
              "width": 0.5
             },
             "pattern": {
              "fillmode": "overlay",
              "size": 10,
              "solidity": 0.2
             }
            },
            "type": "barpolar"
           }
          ],
          "carpet": [
           {
            "aaxis": {
             "endlinecolor": "#2a3f5f",
             "gridcolor": "white",
             "linecolor": "white",
             "minorgridcolor": "white",
             "startlinecolor": "#2a3f5f"
            },
            "baxis": {
             "endlinecolor": "#2a3f5f",
             "gridcolor": "white",
             "linecolor": "white",
             "minorgridcolor": "white",
             "startlinecolor": "#2a3f5f"
            },
            "type": "carpet"
           }
          ],
          "choropleth": [
           {
            "colorbar": {
             "outlinewidth": 0,
             "ticks": ""
            },
            "type": "choropleth"
           }
          ],
          "contour": [
           {
            "colorbar": {
             "outlinewidth": 0,
             "ticks": ""
            },
            "colorscale": [
             [
              0,
              "#0d0887"
             ],
             [
              0.1111111111111111,
              "#46039f"
             ],
             [
              0.2222222222222222,
              "#7201a8"
             ],
             [
              0.3333333333333333,
              "#9c179e"
             ],
             [
              0.4444444444444444,
              "#bd3786"
             ],
             [
              0.5555555555555556,
              "#d8576b"
             ],
             [
              0.6666666666666666,
              "#ed7953"
             ],
             [
              0.7777777777777778,
              "#fb9f3a"
             ],
             [
              0.8888888888888888,
              "#fdca26"
             ],
             [
              1,
              "#f0f921"
             ]
            ],
            "type": "contour"
           }
          ],
          "contourcarpet": [
           {
            "colorbar": {
             "outlinewidth": 0,
             "ticks": ""
            },
            "type": "contourcarpet"
           }
          ],
          "heatmap": [
           {
            "colorbar": {
             "outlinewidth": 0,
             "ticks": ""
            },
            "colorscale": [
             [
              0,
              "#0d0887"
             ],
             [
              0.1111111111111111,
              "#46039f"
             ],
             [
              0.2222222222222222,
              "#7201a8"
             ],
             [
              0.3333333333333333,
              "#9c179e"
             ],
             [
              0.4444444444444444,
              "#bd3786"
             ],
             [
              0.5555555555555556,
              "#d8576b"
             ],
             [
              0.6666666666666666,
              "#ed7953"
             ],
             [
              0.7777777777777778,
              "#fb9f3a"
             ],
             [
              0.8888888888888888,
              "#fdca26"
             ],
             [
              1,
              "#f0f921"
             ]
            ],
            "type": "heatmap"
           }
          ],
          "heatmapgl": [
           {
            "colorbar": {
             "outlinewidth": 0,
             "ticks": ""
            },
            "colorscale": [
             [
              0,
              "#0d0887"
             ],
             [
              0.1111111111111111,
              "#46039f"
             ],
             [
              0.2222222222222222,
              "#7201a8"
             ],
             [
              0.3333333333333333,
              "#9c179e"
             ],
             [
              0.4444444444444444,
              "#bd3786"
             ],
             [
              0.5555555555555556,
              "#d8576b"
             ],
             [
              0.6666666666666666,
              "#ed7953"
             ],
             [
              0.7777777777777778,
              "#fb9f3a"
             ],
             [
              0.8888888888888888,
              "#fdca26"
             ],
             [
              1,
              "#f0f921"
             ]
            ],
            "type": "heatmapgl"
           }
          ],
          "histogram": [
           {
            "marker": {
             "pattern": {
              "fillmode": "overlay",
              "size": 10,
              "solidity": 0.2
             }
            },
            "type": "histogram"
           }
          ],
          "histogram2d": [
           {
            "colorbar": {
             "outlinewidth": 0,
             "ticks": ""
            },
            "colorscale": [
             [
              0,
              "#0d0887"
             ],
             [
              0.1111111111111111,
              "#46039f"
             ],
             [
              0.2222222222222222,
              "#7201a8"
             ],
             [
              0.3333333333333333,
              "#9c179e"
             ],
             [
              0.4444444444444444,
              "#bd3786"
             ],
             [
              0.5555555555555556,
              "#d8576b"
             ],
             [
              0.6666666666666666,
              "#ed7953"
             ],
             [
              0.7777777777777778,
              "#fb9f3a"
             ],
             [
              0.8888888888888888,
              "#fdca26"
             ],
             [
              1,
              "#f0f921"
             ]
            ],
            "type": "histogram2d"
           }
          ],
          "histogram2dcontour": [
           {
            "colorbar": {
             "outlinewidth": 0,
             "ticks": ""
            },
            "colorscale": [
             [
              0,
              "#0d0887"
             ],
             [
              0.1111111111111111,
              "#46039f"
             ],
             [
              0.2222222222222222,
              "#7201a8"
             ],
             [
              0.3333333333333333,
              "#9c179e"
             ],
             [
              0.4444444444444444,
              "#bd3786"
             ],
             [
              0.5555555555555556,
              "#d8576b"
             ],
             [
              0.6666666666666666,
              "#ed7953"
             ],
             [
              0.7777777777777778,
              "#fb9f3a"
             ],
             [
              0.8888888888888888,
              "#fdca26"
             ],
             [
              1,
              "#f0f921"
             ]
            ],
            "type": "histogram2dcontour"
           }
          ],
          "mesh3d": [
           {
            "colorbar": {
             "outlinewidth": 0,
             "ticks": ""
            },
            "type": "mesh3d"
           }
          ],
          "parcoords": [
           {
            "line": {
             "colorbar": {
              "outlinewidth": 0,
              "ticks": ""
             }
            },
            "type": "parcoords"
           }
          ],
          "pie": [
           {
            "automargin": true,
            "type": "pie"
           }
          ],
          "scatter": [
           {
            "fillpattern": {
             "fillmode": "overlay",
             "size": 10,
             "solidity": 0.2
            },
            "type": "scatter"
           }
          ],
          "scatter3d": [
           {
            "line": {
             "colorbar": {
              "outlinewidth": 0,
              "ticks": ""
             }
            },
            "marker": {
             "colorbar": {
              "outlinewidth": 0,
              "ticks": ""
             }
            },
            "type": "scatter3d"
           }
          ],
          "scattercarpet": [
           {
            "marker": {
             "colorbar": {
              "outlinewidth": 0,
              "ticks": ""
             }
            },
            "type": "scattercarpet"
           }
          ],
          "scattergeo": [
           {
            "marker": {
             "colorbar": {
              "outlinewidth": 0,
              "ticks": ""
             }
            },
            "type": "scattergeo"
           }
          ],
          "scattergl": [
           {
            "marker": {
             "colorbar": {
              "outlinewidth": 0,
              "ticks": ""
             }
            },
            "type": "scattergl"
           }
          ],
          "scattermapbox": [
           {
            "marker": {
             "colorbar": {
              "outlinewidth": 0,
              "ticks": ""
             }
            },
            "type": "scattermapbox"
           }
          ],
          "scatterpolar": [
           {
            "marker": {
             "colorbar": {
              "outlinewidth": 0,
              "ticks": ""
             }
            },
            "type": "scatterpolar"
           }
          ],
          "scatterpolargl": [
           {
            "marker": {
             "colorbar": {
              "outlinewidth": 0,
              "ticks": ""
             }
            },
            "type": "scatterpolargl"
           }
          ],
          "scatterternary": [
           {
            "marker": {
             "colorbar": {
              "outlinewidth": 0,
              "ticks": ""
             }
            },
            "type": "scatterternary"
           }
          ],
          "surface": [
           {
            "colorbar": {
             "outlinewidth": 0,
             "ticks": ""
            },
            "colorscale": [
             [
              0,
              "#0d0887"
             ],
             [
              0.1111111111111111,
              "#46039f"
             ],
             [
              0.2222222222222222,
              "#7201a8"
             ],
             [
              0.3333333333333333,
              "#9c179e"
             ],
             [
              0.4444444444444444,
              "#bd3786"
             ],
             [
              0.5555555555555556,
              "#d8576b"
             ],
             [
              0.6666666666666666,
              "#ed7953"
             ],
             [
              0.7777777777777778,
              "#fb9f3a"
             ],
             [
              0.8888888888888888,
              "#fdca26"
             ],
             [
              1,
              "#f0f921"
             ]
            ],
            "type": "surface"
           }
          ],
          "table": [
           {
            "cells": {
             "fill": {
              "color": "#EBF0F8"
             },
             "line": {
              "color": "white"
             }
            },
            "header": {
             "fill": {
              "color": "#C8D4E3"
             },
             "line": {
              "color": "white"
             }
            },
            "type": "table"
           }
          ]
         },
         "layout": {
          "annotationdefaults": {
           "arrowcolor": "#2a3f5f",
           "arrowhead": 0,
           "arrowwidth": 1
          },
          "autotypenumbers": "strict",
          "coloraxis": {
           "colorbar": {
            "outlinewidth": 0,
            "ticks": ""
           }
          },
          "colorscale": {
           "diverging": [
            [
             0,
             "#8e0152"
            ],
            [
             0.1,
             "#c51b7d"
            ],
            [
             0.2,
             "#de77ae"
            ],
            [
             0.3,
             "#f1b6da"
            ],
            [
             0.4,
             "#fde0ef"
            ],
            [
             0.5,
             "#f7f7f7"
            ],
            [
             0.6,
             "#e6f5d0"
            ],
            [
             0.7,
             "#b8e186"
            ],
            [
             0.8,
             "#7fbc41"
            ],
            [
             0.9,
             "#4d9221"
            ],
            [
             1,
             "#276419"
            ]
           ],
           "sequential": [
            [
             0,
             "#0d0887"
            ],
            [
             0.1111111111111111,
             "#46039f"
            ],
            [
             0.2222222222222222,
             "#7201a8"
            ],
            [
             0.3333333333333333,
             "#9c179e"
            ],
            [
             0.4444444444444444,
             "#bd3786"
            ],
            [
             0.5555555555555556,
             "#d8576b"
            ],
            [
             0.6666666666666666,
             "#ed7953"
            ],
            [
             0.7777777777777778,
             "#fb9f3a"
            ],
            [
             0.8888888888888888,
             "#fdca26"
            ],
            [
             1,
             "#f0f921"
            ]
           ],
           "sequentialminus": [
            [
             0,
             "#0d0887"
            ],
            [
             0.1111111111111111,
             "#46039f"
            ],
            [
             0.2222222222222222,
             "#7201a8"
            ],
            [
             0.3333333333333333,
             "#9c179e"
            ],
            [
             0.4444444444444444,
             "#bd3786"
            ],
            [
             0.5555555555555556,
             "#d8576b"
            ],
            [
             0.6666666666666666,
             "#ed7953"
            ],
            [
             0.7777777777777778,
             "#fb9f3a"
            ],
            [
             0.8888888888888888,
             "#fdca26"
            ],
            [
             1,
             "#f0f921"
            ]
           ]
          },
          "colorway": [
           "#636efa",
           "#EF553B",
           "#00cc96",
           "#ab63fa",
           "#FFA15A",
           "#19d3f3",
           "#FF6692",
           "#B6E880",
           "#FF97FF",
           "#FECB52"
          ],
          "font": {
           "color": "#2a3f5f"
          },
          "geo": {
           "bgcolor": "white",
           "lakecolor": "white",
           "landcolor": "#E5ECF6",
           "showlakes": true,
           "showland": true,
           "subunitcolor": "white"
          },
          "hoverlabel": {
           "align": "left"
          },
          "hovermode": "closest",
          "mapbox": {
           "style": "light"
          },
          "paper_bgcolor": "white",
          "plot_bgcolor": "#E5ECF6",
          "polar": {
           "angularaxis": {
            "gridcolor": "white",
            "linecolor": "white",
            "ticks": ""
           },
           "bgcolor": "#E5ECF6",
           "radialaxis": {
            "gridcolor": "white",
            "linecolor": "white",
            "ticks": ""
           }
          },
          "scene": {
           "xaxis": {
            "backgroundcolor": "#E5ECF6",
            "gridcolor": "white",
            "gridwidth": 2,
            "linecolor": "white",
            "showbackground": true,
            "ticks": "",
            "zerolinecolor": "white"
           },
           "yaxis": {
            "backgroundcolor": "#E5ECF6",
            "gridcolor": "white",
            "gridwidth": 2,
            "linecolor": "white",
            "showbackground": true,
            "ticks": "",
            "zerolinecolor": "white"
           },
           "zaxis": {
            "backgroundcolor": "#E5ECF6",
            "gridcolor": "white",
            "gridwidth": 2,
            "linecolor": "white",
            "showbackground": true,
            "ticks": "",
            "zerolinecolor": "white"
           }
          },
          "shapedefaults": {
           "line": {
            "color": "#2a3f5f"
           }
          },
          "ternary": {
           "aaxis": {
            "gridcolor": "white",
            "linecolor": "white",
            "ticks": ""
           },
           "baxis": {
            "gridcolor": "white",
            "linecolor": "white",
            "ticks": ""
           },
           "bgcolor": "#E5ECF6",
           "caxis": {
            "gridcolor": "white",
            "linecolor": "white",
            "ticks": ""
           }
          },
          "title": {
           "x": 0.05
          },
          "xaxis": {
           "automargin": true,
           "gridcolor": "white",
           "linecolor": "white",
           "ticks": "",
           "title": {
            "standoff": 15
           },
           "zerolinecolor": "white",
           "zerolinewidth": 2
          },
          "yaxis": {
           "automargin": true,
           "gridcolor": "white",
           "linecolor": "white",
           "ticks": "",
           "title": {
            "standoff": 15
           },
           "zerolinecolor": "white",
           "zerolinewidth": 2
          }
         }
        },
        "title": {
         "text": "Growth in Agriculture Sector over Time (Annual)"
        },
        "xaxis": {
         "title": {
          "text": "Index"
         }
        },
        "yaxis": {
         "title": {
          "text": "Growth Rate (%)"
         }
        }
       }
      },
      "text/html": [
       "<div>                            <div id=\"7051ef41-be46-4f2b-a098-dd1de3910c63\" class=\"plotly-graph-div\" style=\"height:525px; width:100%;\"></div>            <script type=\"text/javascript\">                require([\"plotly\"], function(Plotly) {                    window.PLOTLYENV=window.PLOTLYENV || {};                                    if (document.getElementById(\"7051ef41-be46-4f2b-a098-dd1de3910c63\")) {                    Plotly.newPlot(                        \"7051ef41-be46-4f2b-a098-dd1de3910c63\",                        [{\"mode\":\"lines\",\"name\":\"Agriculture\",\"x\":[1981,1982,1983,1984,1985,1986,1987,1988,1989,1990,1991,1992,1993,1994,1995,1996,1997,1998,1999,2000,2001,2002,2003,2004,2005,2006,2007,2008,2009,2010,2011,2012,2013,2014,2015,2016,2017,2018,2019,2020,2021,2022],\"y\":[0.0,6.869999999999999,12.21,-31.57,-2.450000000000003,37.83,-21.13,61.89,41.28,21.049999999999997,9.91,-3.8000000000000007,-19.5,0.09999999999999964,19.8,27.990000000000002,19.0,21.919999999999998,23.53,10.8,16.79,77.10000000000001,17.13,27.85,25.830000000000002,26.95,26.880000000000003,25.689999999999998,24.33,1065.28,1071.2,1042.76,1037.63,1039.19,1041.3600000000001,1043.06,1036.89,1032.55,1042.1000000000001,1051.5,1044.85,1064.9499999999998],\"type\":\"scatter\"}],                        {\"template\":{\"data\":{\"histogram2dcontour\":[{\"type\":\"histogram2dcontour\",\"colorbar\":{\"outlinewidth\":0,\"ticks\":\"\"},\"colorscale\":[[0.0,\"#0d0887\"],[0.1111111111111111,\"#46039f\"],[0.2222222222222222,\"#7201a8\"],[0.3333333333333333,\"#9c179e\"],[0.4444444444444444,\"#bd3786\"],[0.5555555555555556,\"#d8576b\"],[0.6666666666666666,\"#ed7953\"],[0.7777777777777778,\"#fb9f3a\"],[0.8888888888888888,\"#fdca26\"],[1.0,\"#f0f921\"]]}],\"choropleth\":[{\"type\":\"choropleth\",\"colorbar\":{\"outlinewidth\":0,\"ticks\":\"\"}}],\"histogram2d\":[{\"type\":\"histogram2d\",\"colorbar\":{\"outlinewidth\":0,\"ticks\":\"\"},\"colorscale\":[[0.0,\"#0d0887\"],[0.1111111111111111,\"#46039f\"],[0.2222222222222222,\"#7201a8\"],[0.3333333333333333,\"#9c179e\"],[0.4444444444444444,\"#bd3786\"],[0.5555555555555556,\"#d8576b\"],[0.6666666666666666,\"#ed7953\"],[0.7777777777777778,\"#fb9f3a\"],[0.8888888888888888,\"#fdca26\"],[1.0,\"#f0f921\"]]}],\"heatmap\":[{\"type\":\"heatmap\",\"colorbar\":{\"outlinewidth\":0,\"ticks\":\"\"},\"colorscale\":[[0.0,\"#0d0887\"],[0.1111111111111111,\"#46039f\"],[0.2222222222222222,\"#7201a8\"],[0.3333333333333333,\"#9c179e\"],[0.4444444444444444,\"#bd3786\"],[0.5555555555555556,\"#d8576b\"],[0.6666666666666666,\"#ed7953\"],[0.7777777777777778,\"#fb9f3a\"],[0.8888888888888888,\"#fdca26\"],[1.0,\"#f0f921\"]]}],\"heatmapgl\":[{\"type\":\"heatmapgl\",\"colorbar\":{\"outlinewidth\":0,\"ticks\":\"\"},\"colorscale\":[[0.0,\"#0d0887\"],[0.1111111111111111,\"#46039f\"],[0.2222222222222222,\"#7201a8\"],[0.3333333333333333,\"#9c179e\"],[0.4444444444444444,\"#bd3786\"],[0.5555555555555556,\"#d8576b\"],[0.6666666666666666,\"#ed7953\"],[0.7777777777777778,\"#fb9f3a\"],[0.8888888888888888,\"#fdca26\"],[1.0,\"#f0f921\"]]}],\"contourcarpet\":[{\"type\":\"contourcarpet\",\"colorbar\":{\"outlinewidth\":0,\"ticks\":\"\"}}],\"contour\":[{\"type\":\"contour\",\"colorbar\":{\"outlinewidth\":0,\"ticks\":\"\"},\"colorscale\":[[0.0,\"#0d0887\"],[0.1111111111111111,\"#46039f\"],[0.2222222222222222,\"#7201a8\"],[0.3333333333333333,\"#9c179e\"],[0.4444444444444444,\"#bd3786\"],[0.5555555555555556,\"#d8576b\"],[0.6666666666666666,\"#ed7953\"],[0.7777777777777778,\"#fb9f3a\"],[0.8888888888888888,\"#fdca26\"],[1.0,\"#f0f921\"]]}],\"surface\":[{\"type\":\"surface\",\"colorbar\":{\"outlinewidth\":0,\"ticks\":\"\"},\"colorscale\":[[0.0,\"#0d0887\"],[0.1111111111111111,\"#46039f\"],[0.2222222222222222,\"#7201a8\"],[0.3333333333333333,\"#9c179e\"],[0.4444444444444444,\"#bd3786\"],[0.5555555555555556,\"#d8576b\"],[0.6666666666666666,\"#ed7953\"],[0.7777777777777778,\"#fb9f3a\"],[0.8888888888888888,\"#fdca26\"],[1.0,\"#f0f921\"]]}],\"mesh3d\":[{\"type\":\"mesh3d\",\"colorbar\":{\"outlinewidth\":0,\"ticks\":\"\"}}],\"scatter\":[{\"fillpattern\":{\"fillmode\":\"overlay\",\"size\":10,\"solidity\":0.2},\"type\":\"scatter\"}],\"parcoords\":[{\"type\":\"parcoords\",\"line\":{\"colorbar\":{\"outlinewidth\":0,\"ticks\":\"\"}}}],\"scatterpolargl\":[{\"type\":\"scatterpolargl\",\"marker\":{\"colorbar\":{\"outlinewidth\":0,\"ticks\":\"\"}}}],\"bar\":[{\"error_x\":{\"color\":\"#2a3f5f\"},\"error_y\":{\"color\":\"#2a3f5f\"},\"marker\":{\"line\":{\"color\":\"#E5ECF6\",\"width\":0.5},\"pattern\":{\"fillmode\":\"overlay\",\"size\":10,\"solidity\":0.2}},\"type\":\"bar\"}],\"scattergeo\":[{\"type\":\"scattergeo\",\"marker\":{\"colorbar\":{\"outlinewidth\":0,\"ticks\":\"\"}}}],\"scatterpolar\":[{\"type\":\"scatterpolar\",\"marker\":{\"colorbar\":{\"outlinewidth\":0,\"ticks\":\"\"}}}],\"histogram\":[{\"marker\":{\"pattern\":{\"fillmode\":\"overlay\",\"size\":10,\"solidity\":0.2}},\"type\":\"histogram\"}],\"scattergl\":[{\"type\":\"scattergl\",\"marker\":{\"colorbar\":{\"outlinewidth\":0,\"ticks\":\"\"}}}],\"scatter3d\":[{\"type\":\"scatter3d\",\"line\":{\"colorbar\":{\"outlinewidth\":0,\"ticks\":\"\"}},\"marker\":{\"colorbar\":{\"outlinewidth\":0,\"ticks\":\"\"}}}],\"scattermapbox\":[{\"type\":\"scattermapbox\",\"marker\":{\"colorbar\":{\"outlinewidth\":0,\"ticks\":\"\"}}}],\"scatterternary\":[{\"type\":\"scatterternary\",\"marker\":{\"colorbar\":{\"outlinewidth\":0,\"ticks\":\"\"}}}],\"scattercarpet\":[{\"type\":\"scattercarpet\",\"marker\":{\"colorbar\":{\"outlinewidth\":0,\"ticks\":\"\"}}}],\"carpet\":[{\"aaxis\":{\"endlinecolor\":\"#2a3f5f\",\"gridcolor\":\"white\",\"linecolor\":\"white\",\"minorgridcolor\":\"white\",\"startlinecolor\":\"#2a3f5f\"},\"baxis\":{\"endlinecolor\":\"#2a3f5f\",\"gridcolor\":\"white\",\"linecolor\":\"white\",\"minorgridcolor\":\"white\",\"startlinecolor\":\"#2a3f5f\"},\"type\":\"carpet\"}],\"table\":[{\"cells\":{\"fill\":{\"color\":\"#EBF0F8\"},\"line\":{\"color\":\"white\"}},\"header\":{\"fill\":{\"color\":\"#C8D4E3\"},\"line\":{\"color\":\"white\"}},\"type\":\"table\"}],\"barpolar\":[{\"marker\":{\"line\":{\"color\":\"#E5ECF6\",\"width\":0.5},\"pattern\":{\"fillmode\":\"overlay\",\"size\":10,\"solidity\":0.2}},\"type\":\"barpolar\"}],\"pie\":[{\"automargin\":true,\"type\":\"pie\"}]},\"layout\":{\"autotypenumbers\":\"strict\",\"colorway\":[\"#636efa\",\"#EF553B\",\"#00cc96\",\"#ab63fa\",\"#FFA15A\",\"#19d3f3\",\"#FF6692\",\"#B6E880\",\"#FF97FF\",\"#FECB52\"],\"font\":{\"color\":\"#2a3f5f\"},\"hovermode\":\"closest\",\"hoverlabel\":{\"align\":\"left\"},\"paper_bgcolor\":\"white\",\"plot_bgcolor\":\"#E5ECF6\",\"polar\":{\"bgcolor\":\"#E5ECF6\",\"angularaxis\":{\"gridcolor\":\"white\",\"linecolor\":\"white\",\"ticks\":\"\"},\"radialaxis\":{\"gridcolor\":\"white\",\"linecolor\":\"white\",\"ticks\":\"\"}},\"ternary\":{\"bgcolor\":\"#E5ECF6\",\"aaxis\":{\"gridcolor\":\"white\",\"linecolor\":\"white\",\"ticks\":\"\"},\"baxis\":{\"gridcolor\":\"white\",\"linecolor\":\"white\",\"ticks\":\"\"},\"caxis\":{\"gridcolor\":\"white\",\"linecolor\":\"white\",\"ticks\":\"\"}},\"coloraxis\":{\"colorbar\":{\"outlinewidth\":0,\"ticks\":\"\"}},\"colorscale\":{\"sequential\":[[0.0,\"#0d0887\"],[0.1111111111111111,\"#46039f\"],[0.2222222222222222,\"#7201a8\"],[0.3333333333333333,\"#9c179e\"],[0.4444444444444444,\"#bd3786\"],[0.5555555555555556,\"#d8576b\"],[0.6666666666666666,\"#ed7953\"],[0.7777777777777778,\"#fb9f3a\"],[0.8888888888888888,\"#fdca26\"],[1.0,\"#f0f921\"]],\"sequentialminus\":[[0.0,\"#0d0887\"],[0.1111111111111111,\"#46039f\"],[0.2222222222222222,\"#7201a8\"],[0.3333333333333333,\"#9c179e\"],[0.4444444444444444,\"#bd3786\"],[0.5555555555555556,\"#d8576b\"],[0.6666666666666666,\"#ed7953\"],[0.7777777777777778,\"#fb9f3a\"],[0.8888888888888888,\"#fdca26\"],[1.0,\"#f0f921\"]],\"diverging\":[[0,\"#8e0152\"],[0.1,\"#c51b7d\"],[0.2,\"#de77ae\"],[0.3,\"#f1b6da\"],[0.4,\"#fde0ef\"],[0.5,\"#f7f7f7\"],[0.6,\"#e6f5d0\"],[0.7,\"#b8e186\"],[0.8,\"#7fbc41\"],[0.9,\"#4d9221\"],[1,\"#276419\"]]},\"xaxis\":{\"gridcolor\":\"white\",\"linecolor\":\"white\",\"ticks\":\"\",\"title\":{\"standoff\":15},\"zerolinecolor\":\"white\",\"automargin\":true,\"zerolinewidth\":2},\"yaxis\":{\"gridcolor\":\"white\",\"linecolor\":\"white\",\"ticks\":\"\",\"title\":{\"standoff\":15},\"zerolinecolor\":\"white\",\"automargin\":true,\"zerolinewidth\":2},\"scene\":{\"xaxis\":{\"backgroundcolor\":\"#E5ECF6\",\"gridcolor\":\"white\",\"linecolor\":\"white\",\"showbackground\":true,\"ticks\":\"\",\"zerolinecolor\":\"white\",\"gridwidth\":2},\"yaxis\":{\"backgroundcolor\":\"#E5ECF6\",\"gridcolor\":\"white\",\"linecolor\":\"white\",\"showbackground\":true,\"ticks\":\"\",\"zerolinecolor\":\"white\",\"gridwidth\":2},\"zaxis\":{\"backgroundcolor\":\"#E5ECF6\",\"gridcolor\":\"white\",\"linecolor\":\"white\",\"showbackground\":true,\"ticks\":\"\",\"zerolinecolor\":\"white\",\"gridwidth\":2}},\"shapedefaults\":{\"line\":{\"color\":\"#2a3f5f\"}},\"annotationdefaults\":{\"arrowcolor\":\"#2a3f5f\",\"arrowhead\":0,\"arrowwidth\":1},\"geo\":{\"bgcolor\":\"white\",\"landcolor\":\"#E5ECF6\",\"subunitcolor\":\"white\",\"showland\":true,\"showlakes\":true,\"lakecolor\":\"white\"},\"title\":{\"x\":0.05},\"mapbox\":{\"style\":\"light\"}}},\"title\":{\"text\":\"Growth in Agriculture Sector over Time (Annual)\"},\"xaxis\":{\"title\":{\"text\":\"Index\"}},\"yaxis\":{\"title\":{\"text\":\"Growth Rate (%)\"}}},                        {\"responsive\": true}                    ).then(function(){\n",
       "                            \n",
       "var gd = document.getElementById('7051ef41-be46-4f2b-a098-dd1de3910c63');\n",
       "var x = new MutationObserver(function (mutations, observer) {{\n",
       "        var display = window.getComputedStyle(gd).display;\n",
       "        if (!display || display === 'none') {{\n",
       "            console.log([gd, 'removed!']);\n",
       "            Plotly.purge(gd);\n",
       "            observer.disconnect();\n",
       "        }}\n",
       "}});\n",
       "\n",
       "// Listen for the removal of the full notebook cells\n",
       "var notebookContainer = gd.closest('#notebook-container');\n",
       "if (notebookContainer) {{\n",
       "    x.observe(notebookContainer, {childList: true});\n",
       "}}\n",
       "\n",
       "// Listen for the clearing of the current output cell\n",
       "var outputEl = gd.closest('.output');\n",
       "if (outputEl) {{\n",
       "    x.observe(outputEl, {childList: true});\n",
       "}}\n",
       "\n",
       "                        })                };                });            </script>        </div>"
      ]
     },
     "metadata": {},
     "output_type": "display_data"
    }
   ],
   "source": [
    "# Line Plot for each agricultural sector\n",
    "fig = go.Figure()\n",
    "fig.add_trace(go.Scatter(x=annual_df.index, y=annual_df['CropProductionGrowth %'], mode='lines', name='Crop Production'))\n",
    "fig.add_trace(go.Scatter(x=annual_df.index, y=annual_df['LivestockGrowth %'], mode='lines', name='Livestock'))\n",
    "fig.add_trace(go.Scatter(x=annual_df.index, y=annual_df['ForestryGrowth %'], mode='lines', name='Forestry'))\n",
    "fig.add_trace(go.Scatter(x=annual_df.index, y=annual_df['FishingGrowth %'], mode='lines', name='Fishing'))\n",
    "fig.update_layout(title='Growth in Agricultural Sectors over Time (Annual)',\n",
    "                  xaxis_title='Index', yaxis_title='Growth Rate (%)')\n",
    "fig.show()\n",
    "\n",
    "# Line Plot for overall agricultural sector\n",
    "fig = go.Figure()\n",
    "fig.add_trace(go.Scatter(x=annual_df.index, y=annual_df['AgricGrowth (%)'], mode='lines', name='Agriculture'))\n",
    "fig.update_layout(title='Growth in Agriculture Sector over Time (Annual)',\n",
    "                  xaxis_title='Index', yaxis_title='Growth Rate (%)')\n",
    "fig.show()"
   ]
  },
  {
   "cell_type": "code",
   "execution_count": 58,
   "id": "96beb870",
   "metadata": {},
   "outputs": [
    {
     "data": {
      "image/png": "[encoded data removed]",
      "text/plain": [
       "<Figure size 640x480 with 1 Axes>"
      ]
     },
     "metadata": {},
     "output_type": "display_data"
    }
   ],
   "source": [
    "plt.bar(agric_df.index, agric_df['CropProduction'], label='Crop Production')\n",
    "plt.bar(agric_df.index, agric_df['Livestock'], label='Livestock')\n",
    "plt.bar(agric_df.index, agric_df['Forestry'], label='Forestry')\n",
    "plt.bar(agric_df.index, agric_df['Fishing'], label='Fishing')\n",
    "\n",
    "plt.xlabel('Year')\n",
    "plt.ylabel('Amount (Naira billion)')\n",
    "plt.title('Sector-wise Comparison')\n",
    "plt.legend()\n",
    "plt.show()"
   ]
  },
  {
   "cell_type": "code",
   "execution_count": 64,
   "id": "157f5c98",
   "metadata": {},
   "outputs": [
    {
     "data": {
      "image/png": "[encoded data removed]",
      "text/plain": [
       "<Figure size 1000x600 with 1 Axes>"
      ]
     },
     "metadata": {},
     "output_type": "display_data"
    }
   ],
   "source": [
    "import matplotlib.pyplot as plt\n",
    "\n",
    "# Filter the DataFrame to include only annual data\n",
    "annual_data = agric_df[agric_df['Period'] == 'Annual']\n",
    "\n",
    "# Calculate the percentage contribution of each sector\n",
    "total_agriculture = annual_data['CropProduction'] + annual_data['Livestock'] + annual_data['Forestry'] + annual_data['Fishing']\n",
    "crop_contribution = (annual_data['CropProduction'] / total_agriculture) * 100\n",
    "livestock_contribution = (annual_data['Livestock'] / total_agriculture) * 100\n",
    "forestry_contribution = (annual_data['Forestry'] / total_agriculture) * 100\n",
    "fishing_contribution = (annual_data['Fishing'] / total_agriculture) * 100\n",
    "\n",
    "# Plot the sector diversification\n",
    "plt.figure(figsize=(10, 6))\n",
    "plt.plot(annual_data.index, crop_contribution, label='Crop Production')\n",
    "plt.plot(annual_data.index, livestock_contribution, label='Livestock')\n",
    "plt.plot(annual_data.index, forestry_contribution, label='Forestry')\n",
    "plt.plot(annual_data.index, fishing_contribution, label='Fishing')\n",
    "\n",
    "# Customize the plot\n",
    "plt.xlabel('Year')\n",
    "plt.ylabel('Contribution to Agriculture Sector (%)')\n",
    "plt.title('Sector Diversification in Agriculture (Annual Data)')\n",
    "plt.legend()\n",
    "\n",
    "# Display the plot\n",
    "plt.show()"
   ]
  },
  {
   "cell_type": "code",
   "execution_count": 69,
   "id": "546c8bbf",
   "metadata": {},
   "outputs": [
    {
     "name": "stdout",
     "output_type": "stream",
     "text": [
      "Crop Production:\n",
      "T-Statistic: -3.351191036525349\n",
      "P-Value: 0.0011686413823759822\n",
      "\n",
      "Livestock:\n",
      "T-Statistic: -0.4140168504888225\n",
      "P-Value: 0.6798253975169632\n",
      "\n",
      "Forestry:\n",
      "T-Statistic: 0.663444835278748\n",
      "P-Value: 0.5087047564451133\n",
      "\n",
      "Fishing:\n",
      "T-Statistic: -2.4858659334850075\n",
      "P-Value: 0.014728955049746294\n",
      "\n"
     ]
    }
   ],
   "source": [
    "import scipy.stats as stats\n",
    "\n",
    "# Define the earlier years and recent years for each sector\n",
    "earlier_crop_production = agric_df.loc['1981':'2000', 'CropProduction']\n",
    "recent_crop_production = agric_df.loc['2001':'2022', 'CropProduction']\n",
    "\n",
    "earlier_livestock = agric_df.loc['1981':'2000', 'Livestock']\n",
    "recent_livestock = agric_df.loc['2001':'2022', 'Livestock']\n",
    "\n",
    "earlier_forestry = agric_df.loc['1981':'2000', 'Forestry']\n",
    "recent_forestry = agric_df.loc['2001':'2022', 'Forestry']\n",
    "\n",
    "earlier_fishing = agric_df.loc['1981':'2000', 'Fishing']\n",
    "recent_fishing = agric_df.loc['2001':'2022', 'Fishing']\n",
    "\n",
    "# Perform t-tests for each sector\n",
    "crop_production_t_statistic, crop_production_p_value = stats.ttest_ind(earlier_crop_production, recent_crop_production)\n",
    "livestock_t_statistic, livestock_p_value = stats.ttest_ind(earlier_livestock, recent_livestock)\n",
    "forestry_t_statistic, forestry_p_value = stats.ttest_ind(earlier_forestry, recent_forestry)\n",
    "fishing_t_statistic, fishing_p_value = stats.ttest_ind(earlier_fishing, recent_fishing)\n",
    "\n",
    "# Print the results for each sector\n",
    "print('Crop Production:')\n",
    "print('T-Statistic:', crop_production_t_statistic)\n",
    "print('P-Value:', crop_production_p_value)\n",
    "print()\n",
    "\n",
    "print('Livestock:')\n",
    "print('T-Statistic:', livestock_t_statistic)\n",
    "print('P-Value:', livestock_p_value)\n",
    "print()\n",
    "\n",
    "print('Forestry:')\n",
    "print('T-Statistic:', forestry_t_statistic)\n",
    "print('P-Value:', forestry_p_value)\n",
    "print()\n",
    "\n",
    "print('Fishing:')\n",
    "print('T-Statistic:', fishing_t_statistic)\n",
    "print('P-Value:', fishing_p_value)\n",
    "print()\n"
   ]
  },
  {
   "cell_type": "markdown",
   "id": "e9594d07",
   "metadata": {},
   "source": [
    "# Agriculture and Fisheries Data Analysis\n",
    "\n",
    "The dataset provides insights into the crop production, livestock, forestry, and fishing sectors over a period of several decades. The following analysis highlights the key trends and statistical observations:\n",
    "\n",
    "Crop Production:\n",
    "\n",
    "The annual crop production revenue has shown significant growth over the years, reaching a peak of 17,260.75 billion naira in 2022.\n",
    "The average crop production value is 5,473.69 billion naira, with a standard deviation of 4,161.20 billion naira.\n",
    "The crop production data exhibits positive skewness (1.65), indicating a tail towards higher values, and a moderate kurtosis (1.36), suggesting a relatively normal distribution.\n",
    "Livestock:\n",
    "\n",
    "The livestock sector has maintained a relatively stable revenue, with an average value of 479.88 billion naira.\n",
    "The standard deviation is 302.22 billion naira, indicating some variability in the sector's performance.\n",
    "The data shows a negative skewness (-0.41) and a slightly platykurtic distribution (kurtosis = 0.68).\n",
    "Forestry:\n",
    "\n",
    "The forestry sector revenue has fluctuated over time, with a minimum value of 30.16 billion naira and a maximum value of 196.36 billion naira.\n",
    "The average forestry revenue is 73.89 billion naira, with a standard deviation of 45.07 billion naira.\n",
    "The data follows a positively skewed distribution (skewness = 0.66) and is close to a normal distribution (kurtosis = 0.51).\n",
    "Fishing:\n",
    "\n",
    "The fishing industry has shown resilience and adaptability, with revenue ranging from 40.65 billion naira to 386.24 billion naira.\n",
    "The average fishing revenue is 130.50 billion naira, with a standard deviation of 93.41 billion naira.\n",
    "The fishing data exhibits a positive skewness (2.48) and a slightly leptokurtic distribution (kurtosis = 3.51).\n",
    "Sector Comparison and Statistical Tests:\n",
    "\n",
    "Comparing the earlier years (1981-2000) to the recent years (2001-2022) in each sector, the following results were obtained:\n",
    "\n",
    "Crop Production: The t-test indicates a significant difference in crop production revenue between the earlier and recent years (t = -3.35, p < 0.01), suggesting a noticeable change in performance.\n",
    "Livestock: The t-test results indicate no significant difference in livestock revenue between the earlier and recent years (t = -0.41, p > 0.05), suggesting relatively consistent performance.\n",
    "Forestry: The t-test shows no significant difference in forestry revenue between the earlier and recent years (t = 0.66, p > 0.05), suggesting stability in the sector.\n",
    "Fishing: The t-test reveals a significant difference in fishing revenue between the earlier and recent years (t = -2.49, p < 0.05), indicating a notable change in performance.\n",
    "Conclusion:\n",
    "\n",
    "The agriculture and fisheries sectors have experienced diverse trends and performance over the years. Crop production has shown significant growth, while livestock and forestry have remained relatively stable. The fishing industry has demonstrated adaptability but also experienced fluctuations. These findings indicate the dynamic nature of these sectors, influenced by various factors such as market demands, technological advancements, and environmental conditions.\n",
    "\n",
    "It's important to note that these statistics represent revenue figures"
   ]
  },
  {
   "cell_type": "code",
   "execution_count": null,
   "id": "0d1af361",
   "metadata": {},
   "outputs": [],
   "source": []
  }
 ],
 "metadata": {
  "kernelspec": {
   "display_name": "Python 3 (ipykernel)",
   "language": "python",
   "name": "python3"
  },
  "language_info": {
   "codemirror_mode": {
    "name": "ipython",
    "version": 3
   },
   "file_extension": ".py",
   "mimetype": "text/x-python",
   "name": "python",
   "nbconvert_exporter": "python",
   "pygments_lexer": "ipython3",
   "version": "3.9.13"
  }
 },
 "nbformat": 4,
 "nbformat_minor": 5
}
